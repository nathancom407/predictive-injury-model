{
 "cells": [
  {
   "cell_type": "code",
   "execution_count": null,
   "metadata": {
    "application/vnd.databricks.v1+cell": {
     "cellMetadata": {
      "byteLimit": 2048000,
      "rowLimit": 10000
     },
     "inputWidgets": {},
     "nuid": "86eb1ff6-10cf-4c52-bd3a-c5e7ba0eb8a5",
     "showTitle": false,
     "tableResultSettingsMap": {},
     "title": ""
    }
   },
   "outputs": [
    {
     "name": "stdout",
     "output_type": "stream",
     "text": [
      "Requirement already satisfied: pybaseball in c:\\users\\natha\\appdata\\local\\programs\\python\\python313\\lib\\site-packages (2.2.7)\n",
      "Requirement already satisfied: numpy>=1.13.0 in c:\\users\\natha\\appdata\\local\\programs\\python\\python313\\lib\\site-packages (from pybaseball) (2.2.6)\n",
      "Requirement already satisfied: pandas>=1.0.3 in c:\\users\\natha\\appdata\\local\\programs\\python\\python313\\lib\\site-packages (from pybaseball) (2.2.3)\n",
      "Requirement already satisfied: beautifulsoup4>=4.4.0 in c:\\users\\natha\\appdata\\local\\programs\\python\\python313\\lib\\site-packages (from pybaseball) (4.13.4)\n",
      "Requirement already satisfied: requests>=2.18.1 in c:\\users\\natha\\appdata\\local\\programs\\python\\python313\\lib\\site-packages (from pybaseball) (2.32.3)\n",
      "Requirement already satisfied: lxml>=4.2.1 in c:\\users\\natha\\appdata\\local\\programs\\python\\python313\\lib\\site-packages (from pybaseball) (5.4.0)\n",
      "Requirement already satisfied: pyarrow>=1.0.1 in c:\\users\\natha\\appdata\\local\\programs\\python\\python313\\lib\\site-packages (from pybaseball) (19.0.1)\n",
      "Requirement already satisfied: pygithub>=1.51 in c:\\users\\natha\\appdata\\local\\programs\\python\\python313\\lib\\site-packages (from pybaseball) (2.6.1)\n",
      "Requirement already satisfied: scipy>=1.4.0 in c:\\users\\natha\\appdata\\local\\programs\\python\\python313\\lib\\site-packages (from pybaseball) (1.15.3)\n",
      "Requirement already satisfied: matplotlib>=2.0.0 in c:\\users\\natha\\appdata\\local\\programs\\python\\python313\\lib\\site-packages (from pybaseball) (3.10.3)\n",
      "Requirement already satisfied: tqdm>=4.50.0 in c:\\users\\natha\\appdata\\local\\programs\\python\\python313\\lib\\site-packages (from pybaseball) (4.67.1)\n",
      "Requirement already satisfied: attrs>=20.3.0 in c:\\users\\natha\\appdata\\local\\programs\\python\\python313\\lib\\site-packages (from pybaseball) (25.3.0)\n",
      "Requirement already satisfied: soupsieve>1.2 in c:\\users\\natha\\appdata\\local\\programs\\python\\python313\\lib\\site-packages (from beautifulsoup4>=4.4.0->pybaseball) (2.7)\n",
      "Requirement already satisfied: typing-extensions>=4.0.0 in c:\\users\\natha\\appdata\\local\\programs\\python\\python313\\lib\\site-packages (from beautifulsoup4>=4.4.0->pybaseball) (4.13.2)\n",
      "Requirement already satisfied: contourpy>=1.0.1 in c:\\users\\natha\\appdata\\local\\programs\\python\\python313\\lib\\site-packages (from matplotlib>=2.0.0->pybaseball) (1.3.2)\n",
      "Requirement already satisfied: cycler>=0.10 in c:\\users\\natha\\appdata\\local\\programs\\python\\python313\\lib\\site-packages (from matplotlib>=2.0.0->pybaseball) (0.12.1)\n",
      "Requirement already satisfied: fonttools>=4.22.0 in c:\\users\\natha\\appdata\\local\\programs\\python\\python313\\lib\\site-packages (from matplotlib>=2.0.0->pybaseball) (4.58.0)\n",
      "Requirement already satisfied: kiwisolver>=1.3.1 in c:\\users\\natha\\appdata\\local\\programs\\python\\python313\\lib\\site-packages (from matplotlib>=2.0.0->pybaseball) (1.4.8)\n",
      "Requirement already satisfied: packaging>=20.0 in c:\\users\\natha\\appdata\\local\\programs\\python\\python313\\lib\\site-packages (from matplotlib>=2.0.0->pybaseball) (24.2)\n",
      "Requirement already satisfied: pillow>=8 in c:\\users\\natha\\appdata\\local\\programs\\python\\python313\\lib\\site-packages (from matplotlib>=2.0.0->pybaseball) (11.2.1)\n",
      "Requirement already satisfied: pyparsing>=2.3.1 in c:\\users\\natha\\appdata\\local\\programs\\python\\python313\\lib\\site-packages (from matplotlib>=2.0.0->pybaseball) (3.2.3)\n",
      "Requirement already satisfied: python-dateutil>=2.7 in c:\\users\\natha\\appdata\\local\\programs\\python\\python313\\lib\\site-packages (from matplotlib>=2.0.0->pybaseball) (2.9.0.post0)\n",
      "Requirement already satisfied: pytz>=2020.1 in c:\\users\\natha\\appdata\\local\\programs\\python\\python313\\lib\\site-packages (from pandas>=1.0.3->pybaseball) (2025.2)\n",
      "Requirement already satisfied: tzdata>=2022.7 in c:\\users\\natha\\appdata\\local\\programs\\python\\python313\\lib\\site-packages (from pandas>=1.0.3->pybaseball) (2025.2)\n",
      "Requirement already satisfied: pynacl>=1.4.0 in c:\\users\\natha\\appdata\\local\\programs\\python\\python313\\lib\\site-packages (from pygithub>=1.51->pybaseball) (1.5.0)\n",
      "Requirement already satisfied: pyjwt>=2.4.0 in c:\\users\\natha\\appdata\\local\\programs\\python\\python313\\lib\\site-packages (from pyjwt[crypto]>=2.4.0->pygithub>=1.51->pybaseball) (2.10.1)\n",
      "Requirement already satisfied: urllib3>=1.26.0 in c:\\users\\natha\\appdata\\local\\programs\\python\\python313\\lib\\site-packages (from pygithub>=1.51->pybaseball) (2.4.0)\n",
      "Requirement already satisfied: Deprecated in c:\\users\\natha\\appdata\\local\\programs\\python\\python313\\lib\\site-packages (from pygithub>=1.51->pybaseball) (1.2.18)\n",
      "Requirement already satisfied: charset-normalizer<4,>=2 in c:\\users\\natha\\appdata\\local\\programs\\python\\python313\\lib\\site-packages (from requests>=2.18.1->pybaseball) (3.4.2)\n",
      "Requirement already satisfied: idna<4,>=2.5 in c:\\users\\natha\\appdata\\local\\programs\\python\\python313\\lib\\site-packages (from requests>=2.18.1->pybaseball) (3.10)\n",
      "Requirement already satisfied: certifi>=2017.4.17 in c:\\users\\natha\\appdata\\local\\programs\\python\\python313\\lib\\site-packages (from requests>=2.18.1->pybaseball) (2025.4.26)\n",
      "Requirement already satisfied: colorama in c:\\users\\natha\\appdata\\local\\programs\\python\\python313\\lib\\site-packages (from tqdm>=4.50.0->pybaseball) (0.4.6)\n",
      "Requirement already satisfied: cryptography>=3.4.0 in c:\\users\\natha\\appdata\\local\\programs\\python\\python313\\lib\\site-packages (from pyjwt[crypto]>=2.4.0->pygithub>=1.51->pybaseball) (45.0.2)\n",
      "Requirement already satisfied: cffi>=1.4.1 in c:\\users\\natha\\appdata\\local\\programs\\python\\python313\\lib\\site-packages (from pynacl>=1.4.0->pygithub>=1.51->pybaseball) (1.17.1)\n",
      "Requirement already satisfied: six>=1.5 in c:\\users\\natha\\appdata\\local\\programs\\python\\python313\\lib\\site-packages (from python-dateutil>=2.7->matplotlib>=2.0.0->pybaseball) (1.17.0)\n",
      "Requirement already satisfied: wrapt<2,>=1.10 in c:\\users\\natha\\appdata\\local\\programs\\python\\python313\\lib\\site-packages (from Deprecated->pygithub>=1.51->pybaseball) (1.17.2)\n",
      "Requirement already satisfied: pycparser in c:\\users\\natha\\appdata\\local\\programs\\python\\python313\\lib\\site-packages (from cffi>=1.4.1->pynacl>=1.4.0->pygithub>=1.51->pybaseball) (2.22)\n",
      "Note: you may need to restart the kernel to use updated packages.\n"
     ]
    },
    {
     "name": "stderr",
     "output_type": "stream",
     "text": [
      "\n",
      "[notice] A new release of pip is available: 25.0.1 -> 25.1.1\n",
      "[notice] To update, run: python.exe -m pip install --upgrade pip\n"
     ]
    },
    {
     "name": "stdout",
     "output_type": "stream",
     "text": [
      "Requirement already satisfied: scikit-learn in c:\\users\\natha\\appdata\\local\\programs\\python\\python313\\lib\\site-packages (1.6.1)\n",
      "Requirement already satisfied: numpy>=1.19.5 in c:\\users\\natha\\appdata\\local\\programs\\python\\python313\\lib\\site-packages (from scikit-learn) (2.2.6)\n",
      "Requirement already satisfied: scipy>=1.6.0 in c:\\users\\natha\\appdata\\local\\programs\\python\\python313\\lib\\site-packages (from scikit-learn) (1.15.3)\n",
      "Requirement already satisfied: joblib>=1.2.0 in c:\\users\\natha\\appdata\\local\\programs\\python\\python313\\lib\\site-packages (from scikit-learn) (1.5.0)\n",
      "Requirement already satisfied: threadpoolctl>=3.1.0 in c:\\users\\natha\\appdata\\local\\programs\\python\\python313\\lib\\site-packages (from scikit-learn) (3.6.0)\n",
      "Note: you may need to restart the kernel to use updated packages.\n"
     ]
    },
    {
     "name": "stderr",
     "output_type": "stream",
     "text": [
      "\n",
      "[notice] A new release of pip is available: 25.0.1 -> 25.1.1\n",
      "[notice] To update, run: python.exe -m pip install --upgrade pip\n"
     ]
    },
    {
     "name": "stdout",
     "output_type": "stream",
     "text": [
      "Requirement already satisfied: xgboost in c:\\users\\natha\\appdata\\local\\programs\\python\\python313\\lib\\site-packages (3.0.1)\n",
      "Requirement already satisfied: numpy in c:\\users\\natha\\appdata\\local\\programs\\python\\python313\\lib\\site-packages (from xgboost) (2.2.6)\n",
      "Requirement already satisfied: scipy in c:\\users\\natha\\appdata\\local\\programs\\python\\python313\\lib\\site-packages (from xgboost) (1.15.3)\n",
      "Note: you may need to restart the kernel to use updated packages.\n"
     ]
    },
    {
     "name": "stderr",
     "output_type": "stream",
     "text": [
      "\n",
      "[notice] A new release of pip is available: 25.0.1 -> 25.1.1\n",
      "[notice] To update, run: python.exe -m pip install --upgrade pip\n"
     ]
    },
    {
     "name": "stdout",
     "output_type": "stream",
     "text": [
      "Requirement already satisfied: matplotlib in c:\\users\\natha\\appdata\\local\\programs\\python\\python313\\lib\\site-packages (3.10.3)\n",
      "Requirement already satisfied: contourpy>=1.0.1 in c:\\users\\natha\\appdata\\local\\programs\\python\\python313\\lib\\site-packages (from matplotlib) (1.3.2)\n",
      "Requirement already satisfied: cycler>=0.10 in c:\\users\\natha\\appdata\\local\\programs\\python\\python313\\lib\\site-packages (from matplotlib) (0.12.1)\n",
      "Requirement already satisfied: fonttools>=4.22.0 in c:\\users\\natha\\appdata\\local\\programs\\python\\python313\\lib\\site-packages (from matplotlib) (4.58.0)\n",
      "Requirement already satisfied: kiwisolver>=1.3.1 in c:\\users\\natha\\appdata\\local\\programs\\python\\python313\\lib\\site-packages (from matplotlib) (1.4.8)\n",
      "Requirement already satisfied: numpy>=1.23 in c:\\users\\natha\\appdata\\local\\programs\\python\\python313\\lib\\site-packages (from matplotlib) (2.2.6)\n",
      "Requirement already satisfied: packaging>=20.0 in c:\\users\\natha\\appdata\\local\\programs\\python\\python313\\lib\\site-packages (from matplotlib) (24.2)\n",
      "Requirement already satisfied: pillow>=8 in c:\\users\\natha\\appdata\\local\\programs\\python\\python313\\lib\\site-packages (from matplotlib) (11.2.1)\n",
      "Requirement already satisfied: pyparsing>=2.3.1 in c:\\users\\natha\\appdata\\local\\programs\\python\\python313\\lib\\site-packages (from matplotlib) (3.2.3)\n",
      "Requirement already satisfied: python-dateutil>=2.7 in c:\\users\\natha\\appdata\\local\\programs\\python\\python313\\lib\\site-packages (from matplotlib) (2.9.0.post0)\n",
      "Requirement already satisfied: six>=1.5 in c:\\users\\natha\\appdata\\local\\programs\\python\\python313\\lib\\site-packages (from python-dateutil>=2.7->matplotlib) (1.17.0)\n",
      "Note: you may need to restart the kernel to use updated packages.\n"
     ]
    },
    {
     "name": "stderr",
     "output_type": "stream",
     "text": [
      "\n",
      "[notice] A new release of pip is available: 25.0.1 -> 25.1.1\n",
      "[notice] To update, run: python.exe -m pip install --upgrade pip\n"
     ]
    },
    {
     "name": "stdout",
     "output_type": "stream",
     "text": [
      "Requirement already satisfied: fastapi in c:\\users\\natha\\appdata\\local\\programs\\python\\python313\\lib\\site-packages (0.115.12)\n",
      "Requirement already satisfied: starlette<0.47.0,>=0.40.0 in c:\\users\\natha\\appdata\\local\\programs\\python\\python313\\lib\\site-packages (from fastapi) (0.46.2)\n",
      "Requirement already satisfied: pydantic!=1.8,!=1.8.1,!=2.0.0,!=2.0.1,!=2.1.0,<3.0.0,>=1.7.4 in c:\\users\\natha\\appdata\\local\\programs\\python\\python313\\lib\\site-packages (from fastapi) (2.11.4)\n",
      "Requirement already satisfied: typing-extensions>=4.8.0 in c:\\users\\natha\\appdata\\local\\programs\\python\\python313\\lib\\site-packages (from fastapi) (4.13.2)\n",
      "Requirement already satisfied: annotated-types>=0.6.0 in c:\\users\\natha\\appdata\\local\\programs\\python\\python313\\lib\\site-packages (from pydantic!=1.8,!=1.8.1,!=2.0.0,!=2.0.1,!=2.1.0,<3.0.0,>=1.7.4->fastapi) (0.7.0)\n",
      "Requirement already satisfied: pydantic-core==2.33.2 in c:\\users\\natha\\appdata\\local\\programs\\python\\python313\\lib\\site-packages (from pydantic!=1.8,!=1.8.1,!=2.0.0,!=2.0.1,!=2.1.0,<3.0.0,>=1.7.4->fastapi) (2.33.2)\n",
      "Requirement already satisfied: typing-inspection>=0.4.0 in c:\\users\\natha\\appdata\\local\\programs\\python\\python313\\lib\\site-packages (from pydantic!=1.8,!=1.8.1,!=2.0.0,!=2.0.1,!=2.1.0,<3.0.0,>=1.7.4->fastapi) (0.4.0)\n",
      "Requirement already satisfied: anyio<5,>=3.6.2 in c:\\users\\natha\\appdata\\local\\programs\\python\\python313\\lib\\site-packages (from starlette<0.47.0,>=0.40.0->fastapi) (4.9.0)\n",
      "Requirement already satisfied: idna>=2.8 in c:\\users\\natha\\appdata\\local\\programs\\python\\python313\\lib\\site-packages (from anyio<5,>=3.6.2->starlette<0.47.0,>=0.40.0->fastapi) (3.10)\n",
      "Requirement already satisfied: sniffio>=1.1 in c:\\users\\natha\\appdata\\local\\programs\\python\\python313\\lib\\site-packages (from anyio<5,>=3.6.2->starlette<0.47.0,>=0.40.0->fastapi) (1.3.1)\n",
      "Note: you may need to restart the kernel to use updated packages.\n"
     ]
    },
    {
     "name": "stderr",
     "output_type": "stream",
     "text": [
      "\n",
      "[notice] A new release of pip is available: 25.0.1 -> 25.1.1\n",
      "[notice] To update, run: python.exe -m pip install --upgrade pip\n"
     ]
    },
    {
     "name": "stdout",
     "output_type": "stream",
     "text": [
      "Requirement already satisfied: uvicorn in c:\\users\\natha\\appdata\\local\\programs\\python\\python313\\lib\\site-packages (0.34.2)\n",
      "Requirement already satisfied: click>=7.0 in c:\\users\\natha\\appdata\\local\\programs\\python\\python313\\lib\\site-packages (from uvicorn) (8.2.0)\n",
      "Requirement already satisfied: h11>=0.8 in c:\\users\\natha\\appdata\\local\\programs\\python\\python313\\lib\\site-packages (from uvicorn) (0.16.0)\n",
      "Requirement already satisfied: colorama in c:\\users\\natha\\appdata\\local\\programs\\python\\python313\\lib\\site-packages (from click>=7.0->uvicorn) (0.4.6)\n",
      "Note: you may need to restart the kernel to use updated packages.\n"
     ]
    },
    {
     "name": "stderr",
     "output_type": "stream",
     "text": [
      "\n",
      "[notice] A new release of pip is available: 25.0.1 -> 25.1.1\n",
      "[notice] To update, run: python.exe -m pip install --upgrade pip\n"
     ]
    },
    {
     "name": "stdout",
     "output_type": "stream",
     "text": [
      "Requirement already satisfied: pandas in c:\\users\\natha\\appdata\\local\\programs\\python\\python313\\lib\\site-packages (2.2.3)\n",
      "Requirement already satisfied: numpy>=1.26.0 in c:\\users\\natha\\appdata\\local\\programs\\python\\python313\\lib\\site-packages (from pandas) (2.2.6)\n",
      "Requirement already satisfied: python-dateutil>=2.8.2 in c:\\users\\natha\\appdata\\local\\programs\\python\\python313\\lib\\site-packages (from pandas) (2.9.0.post0)\n",
      "Requirement already satisfied: pytz>=2020.1 in c:\\users\\natha\\appdata\\local\\programs\\python\\python313\\lib\\site-packages (from pandas) (2025.2)\n",
      "Requirement already satisfied: tzdata>=2022.7 in c:\\users\\natha\\appdata\\local\\programs\\python\\python313\\lib\\site-packages (from pandas) (2025.2)\n",
      "Requirement already satisfied: six>=1.5 in c:\\users\\natha\\appdata\\local\\programs\\python\\python313\\lib\\site-packages (from python-dateutil>=2.8.2->pandas) (1.17.0)\n",
      "Note: you may need to restart the kernel to use updated packages.\n"
     ]
    },
    {
     "name": "stderr",
     "output_type": "stream",
     "text": [
      "\n",
      "[notice] A new release of pip is available: 25.0.1 -> 25.1.1\n",
      "[notice] To update, run: python.exe -m pip install --upgrade pip\n"
     ]
    },
    {
     "name": "stdout",
     "output_type": "stream",
     "text": [
      "Requirement already satisfied: numpy in c:\\users\\natha\\appdata\\local\\programs\\python\\python313\\lib\\site-packages (2.2.6)\n",
      "Note: you may need to restart the kernel to use updated packages.\n"
     ]
    },
    {
     "name": "stderr",
     "output_type": "stream",
     "text": [
      "\n",
      "[notice] A new release of pip is available: 25.0.1 -> 25.1.1\n",
      "[notice] To update, run: python.exe -m pip install --upgrade pip\n"
     ]
    },
    {
     "name": "stdout",
     "output_type": "stream",
     "text": [
      "Requirement already satisfied: joblib in c:\\users\\natha\\appdata\\local\\programs\\python\\python313\\lib\\site-packages (1.5.0)\n",
      "Note: you may need to restart the kernel to use updated packages.\n"
     ]
    },
    {
     "name": "stderr",
     "output_type": "stream",
     "text": [
      "\n",
      "[notice] A new release of pip is available: 25.0.1 -> 25.1.1\n",
      "[notice] To update, run: python.exe -m pip install --upgrade pip\n"
     ]
    },
    {
     "name": "stdout",
     "output_type": "stream",
     "text": [
      "Requirement already satisfied: statsmodels in c:\\users\\natha\\appdata\\local\\programs\\python\\python313\\lib\\site-packages (0.14.4)\n",
      "Requirement already satisfied: numpy<3,>=1.22.3 in c:\\users\\natha\\appdata\\local\\programs\\python\\python313\\lib\\site-packages (from statsmodels) (2.2.6)\n",
      "Requirement already satisfied: scipy!=1.9.2,>=1.8 in c:\\users\\natha\\appdata\\local\\programs\\python\\python313\\lib\\site-packages (from statsmodels) (1.15.3)\n",
      "Requirement already satisfied: pandas!=2.1.0,>=1.4 in c:\\users\\natha\\appdata\\local\\programs\\python\\python313\\lib\\site-packages (from statsmodels) (2.2.3)\n",
      "Requirement already satisfied: patsy>=0.5.6 in c:\\users\\natha\\appdata\\local\\programs\\python\\python313\\lib\\site-packages (from statsmodels) (1.0.1)\n",
      "Requirement already satisfied: packaging>=21.3 in c:\\users\\natha\\appdata\\local\\programs\\python\\python313\\lib\\site-packages (from statsmodels) (24.2)\n",
      "Requirement already satisfied: python-dateutil>=2.8.2 in c:\\users\\natha\\appdata\\local\\programs\\python\\python313\\lib\\site-packages (from pandas!=2.1.0,>=1.4->statsmodels) (2.9.0.post0)\n",
      "Requirement already satisfied: pytz>=2020.1 in c:\\users\\natha\\appdata\\local\\programs\\python\\python313\\lib\\site-packages (from pandas!=2.1.0,>=1.4->statsmodels) (2025.2)\n",
      "Requirement already satisfied: tzdata>=2022.7 in c:\\users\\natha\\appdata\\local\\programs\\python\\python313\\lib\\site-packages (from pandas!=2.1.0,>=1.4->statsmodels) (2025.2)\n",
      "Requirement already satisfied: six>=1.5 in c:\\users\\natha\\appdata\\local\\programs\\python\\python313\\lib\\site-packages (from python-dateutil>=2.8.2->pandas!=2.1.0,>=1.4->statsmodels) (1.17.0)\n",
      "Note: you may need to restart the kernel to use updated packages.\n"
     ]
    },
    {
     "name": "stderr",
     "output_type": "stream",
     "text": [
      "\n",
      "[notice] A new release of pip is available: 25.0.1 -> 25.1.1\n",
      "[notice] To update, run: python.exe -m pip install --upgrade pip\n"
     ]
    },
    {
     "name": "stdout",
     "output_type": "stream",
     "text": [
      "Requirement already satisfied: seaborn in c:\\users\\natha\\appdata\\local\\programs\\python\\python313\\lib\\site-packages (0.13.2)\n",
      "Requirement already satisfied: numpy!=1.24.0,>=1.20 in c:\\users\\natha\\appdata\\local\\programs\\python\\python313\\lib\\site-packages (from seaborn) (2.2.6)\n",
      "Requirement already satisfied: pandas>=1.2 in c:\\users\\natha\\appdata\\local\\programs\\python\\python313\\lib\\site-packages (from seaborn) (2.2.3)\n",
      "Requirement already satisfied: matplotlib!=3.6.1,>=3.4 in c:\\users\\natha\\appdata\\local\\programs\\python\\python313\\lib\\site-packages (from seaborn) (3.10.3)\n",
      "Requirement already satisfied: contourpy>=1.0.1 in c:\\users\\natha\\appdata\\local\\programs\\python\\python313\\lib\\site-packages (from matplotlib!=3.6.1,>=3.4->seaborn) (1.3.2)\n",
      "Requirement already satisfied: cycler>=0.10 in c:\\users\\natha\\appdata\\local\\programs\\python\\python313\\lib\\site-packages (from matplotlib!=3.6.1,>=3.4->seaborn) (0.12.1)\n",
      "Requirement already satisfied: fonttools>=4.22.0 in c:\\users\\natha\\appdata\\local\\programs\\python\\python313\\lib\\site-packages (from matplotlib!=3.6.1,>=3.4->seaborn) (4.58.0)\n",
      "Requirement already satisfied: kiwisolver>=1.3.1 in c:\\users\\natha\\appdata\\local\\programs\\python\\python313\\lib\\site-packages (from matplotlib!=3.6.1,>=3.4->seaborn) (1.4.8)\n",
      "Requirement already satisfied: packaging>=20.0 in c:\\users\\natha\\appdata\\local\\programs\\python\\python313\\lib\\site-packages (from matplotlib!=3.6.1,>=3.4->seaborn) (24.2)\n",
      "Requirement already satisfied: pillow>=8 in c:\\users\\natha\\appdata\\local\\programs\\python\\python313\\lib\\site-packages (from matplotlib!=3.6.1,>=3.4->seaborn) (11.2.1)\n",
      "Requirement already satisfied: pyparsing>=2.3.1 in c:\\users\\natha\\appdata\\local\\programs\\python\\python313\\lib\\site-packages (from matplotlib!=3.6.1,>=3.4->seaborn) (3.2.3)\n",
      "Requirement already satisfied: python-dateutil>=2.7 in c:\\users\\natha\\appdata\\local\\programs\\python\\python313\\lib\\site-packages (from matplotlib!=3.6.1,>=3.4->seaborn) (2.9.0.post0)\n",
      "Requirement already satisfied: pytz>=2020.1 in c:\\users\\natha\\appdata\\local\\programs\\python\\python313\\lib\\site-packages (from pandas>=1.2->seaborn) (2025.2)\n",
      "Requirement already satisfied: tzdata>=2022.7 in c:\\users\\natha\\appdata\\local\\programs\\python\\python313\\lib\\site-packages (from pandas>=1.2->seaborn) (2025.2)\n",
      "Requirement already satisfied: six>=1.5 in c:\\users\\natha\\appdata\\local\\programs\\python\\python313\\lib\\site-packages (from python-dateutil>=2.7->matplotlib!=3.6.1,>=3.4->seaborn) (1.17.0)\n",
      "Note: you may need to restart the kernel to use updated packages.\n"
     ]
    },
    {
     "name": "stderr",
     "output_type": "stream",
     "text": [
      "\n",
      "[notice] A new release of pip is available: 25.0.1 -> 25.1.1\n",
      "[notice] To update, run: python.exe -m pip install --upgrade pip\n"
     ]
    },
    {
     "name": "stdout",
     "output_type": "stream",
     "text": [
      "Requirement already satisfied: mlflow in c:\\users\\natha\\appdata\\local\\programs\\python\\python313\\lib\\site-packages (2.22.0)\n",
      "Requirement already satisfied: mlflow-skinny==2.22.0 in c:\\users\\natha\\appdata\\local\\programs\\python\\python313\\lib\\site-packages (from mlflow) (2.22.0)\n",
      "Requirement already satisfied: Flask<4 in c:\\users\\natha\\appdata\\local\\programs\\python\\python313\\lib\\site-packages (from mlflow) (3.1.1)\n",
      "Requirement already satisfied: Jinja2<4,>=3.0 in c:\\users\\natha\\appdata\\local\\programs\\python\\python313\\lib\\site-packages (from mlflow) (3.1.6)\n",
      "Requirement already satisfied: alembic!=1.10.0,<2 in c:\\users\\natha\\appdata\\local\\programs\\python\\python313\\lib\\site-packages (from mlflow) (1.15.2)\n",
      "Requirement already satisfied: docker<8,>=4.0.0 in c:\\users\\natha\\appdata\\local\\programs\\python\\python313\\lib\\site-packages (from mlflow) (7.1.0)\n",
      "Requirement already satisfied: graphene<4 in c:\\users\\natha\\appdata\\local\\programs\\python\\python313\\lib\\site-packages (from mlflow) (3.4.3)\n",
      "Requirement already satisfied: markdown<4,>=3.3 in c:\\users\\natha\\appdata\\local\\programs\\python\\python313\\lib\\site-packages (from mlflow) (3.8)\n",
      "Requirement already satisfied: matplotlib<4 in c:\\users\\natha\\appdata\\local\\programs\\python\\python313\\lib\\site-packages (from mlflow) (3.10.3)\n",
      "Requirement already satisfied: numpy<3 in c:\\users\\natha\\appdata\\local\\programs\\python\\python313\\lib\\site-packages (from mlflow) (2.2.6)\n",
      "Requirement already satisfied: pandas<3 in c:\\users\\natha\\appdata\\local\\programs\\python\\python313\\lib\\site-packages (from mlflow) (2.2.3)\n",
      "Requirement already satisfied: pyarrow<20,>=4.0.0 in c:\\users\\natha\\appdata\\local\\programs\\python\\python313\\lib\\site-packages (from mlflow) (19.0.1)\n",
      "Requirement already satisfied: scikit-learn<2 in c:\\users\\natha\\appdata\\local\\programs\\python\\python313\\lib\\site-packages (from mlflow) (1.6.1)\n",
      "Requirement already satisfied: scipy<2 in c:\\users\\natha\\appdata\\local\\programs\\python\\python313\\lib\\site-packages (from mlflow) (1.15.3)\n",
      "Requirement already satisfied: sqlalchemy<3,>=1.4.0 in c:\\users\\natha\\appdata\\local\\programs\\python\\python313\\lib\\site-packages (from mlflow) (2.0.41)\n",
      "Requirement already satisfied: waitress<4 in c:\\users\\natha\\appdata\\local\\programs\\python\\python313\\lib\\site-packages (from mlflow) (3.0.2)\n",
      "Requirement already satisfied: cachetools<6,>=5.0.0 in c:\\users\\natha\\appdata\\local\\programs\\python\\python313\\lib\\site-packages (from mlflow-skinny==2.22.0->mlflow) (5.5.2)\n",
      "Requirement already satisfied: click<9,>=7.0 in c:\\users\\natha\\appdata\\local\\programs\\python\\python313\\lib\\site-packages (from mlflow-skinny==2.22.0->mlflow) (8.2.0)\n",
      "Requirement already satisfied: cloudpickle<4 in c:\\users\\natha\\appdata\\local\\programs\\python\\python313\\lib\\site-packages (from mlflow-skinny==2.22.0->mlflow) (3.1.1)\n",
      "Requirement already satisfied: databricks-sdk<1,>=0.20.0 in c:\\users\\natha\\appdata\\local\\programs\\python\\python313\\lib\\site-packages (from mlflow-skinny==2.22.0->mlflow) (0.53.0)\n",
      "Requirement already satisfied: fastapi<1 in c:\\users\\natha\\appdata\\local\\programs\\python\\python313\\lib\\site-packages (from mlflow-skinny==2.22.0->mlflow) (0.115.12)\n",
      "Requirement already satisfied: gitpython<4,>=3.1.9 in c:\\users\\natha\\appdata\\local\\programs\\python\\python313\\lib\\site-packages (from mlflow-skinny==2.22.0->mlflow) (3.1.44)\n",
      "Requirement already satisfied: importlib_metadata!=4.7.0,<9,>=3.7.0 in c:\\users\\natha\\appdata\\local\\programs\\python\\python313\\lib\\site-packages (from mlflow-skinny==2.22.0->mlflow) (8.6.1)\n",
      "Requirement already satisfied: opentelemetry-api<3,>=1.9.0 in c:\\users\\natha\\appdata\\local\\programs\\python\\python313\\lib\\site-packages (from mlflow-skinny==2.22.0->mlflow) (1.33.1)\n",
      "Requirement already satisfied: opentelemetry-sdk<3,>=1.9.0 in c:\\users\\natha\\appdata\\local\\programs\\python\\python313\\lib\\site-packages (from mlflow-skinny==2.22.0->mlflow) (1.33.1)\n",
      "Requirement already satisfied: packaging<25 in c:\\users\\natha\\appdata\\local\\programs\\python\\python313\\lib\\site-packages (from mlflow-skinny==2.22.0->mlflow) (24.2)\n",
      "Requirement already satisfied: protobuf<7,>=3.12.0 in c:\\users\\natha\\appdata\\local\\programs\\python\\python313\\lib\\site-packages (from mlflow-skinny==2.22.0->mlflow) (6.31.0)\n",
      "Requirement already satisfied: pydantic<3,>=1.10.8 in c:\\users\\natha\\appdata\\local\\programs\\python\\python313\\lib\\site-packages (from mlflow-skinny==2.22.0->mlflow) (2.11.4)\n",
      "Requirement already satisfied: pyyaml<7,>=5.1 in c:\\users\\natha\\appdata\\local\\programs\\python\\python313\\lib\\site-packages (from mlflow-skinny==2.22.0->mlflow) (6.0.2)\n",
      "Requirement already satisfied: requests<3,>=2.17.3 in c:\\users\\natha\\appdata\\local\\programs\\python\\python313\\lib\\site-packages (from mlflow-skinny==2.22.0->mlflow) (2.32.3)\n",
      "Requirement already satisfied: sqlparse<1,>=0.4.0 in c:\\users\\natha\\appdata\\local\\programs\\python\\python313\\lib\\site-packages (from mlflow-skinny==2.22.0->mlflow) (0.5.3)\n",
      "Requirement already satisfied: typing-extensions<5,>=4.0.0 in c:\\users\\natha\\appdata\\local\\programs\\python\\python313\\lib\\site-packages (from mlflow-skinny==2.22.0->mlflow) (4.13.2)\n",
      "Requirement already satisfied: uvicorn<1 in c:\\users\\natha\\appdata\\local\\programs\\python\\python313\\lib\\site-packages (from mlflow-skinny==2.22.0->mlflow) (0.34.2)\n",
      "Requirement already satisfied: Mako in c:\\users\\natha\\appdata\\local\\programs\\python\\python313\\lib\\site-packages (from alembic!=1.10.0,<2->mlflow) (1.3.10)\n",
      "Requirement already satisfied: pywin32>=304 in c:\\users\\natha\\appdata\\roaming\\python\\python313\\site-packages (from docker<8,>=4.0.0->mlflow) (310)\n",
      "Requirement already satisfied: urllib3>=1.26.0 in c:\\users\\natha\\appdata\\local\\programs\\python\\python313\\lib\\site-packages (from docker<8,>=4.0.0->mlflow) (2.4.0)\n",
      "Requirement already satisfied: blinker>=1.9.0 in c:\\users\\natha\\appdata\\local\\programs\\python\\python313\\lib\\site-packages (from Flask<4->mlflow) (1.9.0)\n",
      "Requirement already satisfied: itsdangerous>=2.2.0 in c:\\users\\natha\\appdata\\local\\programs\\python\\python313\\lib\\site-packages (from Flask<4->mlflow) (2.2.0)\n",
      "Requirement already satisfied: markupsafe>=2.1.1 in c:\\users\\natha\\appdata\\local\\programs\\python\\python313\\lib\\site-packages (from Flask<4->mlflow) (3.0.2)\n",
      "Requirement already satisfied: werkzeug>=3.1.0 in c:\\users\\natha\\appdata\\local\\programs\\python\\python313\\lib\\site-packages (from Flask<4->mlflow) (3.1.3)\n",
      "Requirement already satisfied: graphql-core<3.3,>=3.1 in c:\\users\\natha\\appdata\\local\\programs\\python\\python313\\lib\\site-packages (from graphene<4->mlflow) (3.2.6)\n",
      "Requirement already satisfied: graphql-relay<3.3,>=3.1 in c:\\users\\natha\\appdata\\local\\programs\\python\\python313\\lib\\site-packages (from graphene<4->mlflow) (3.2.0)\n",
      "Requirement already satisfied: python-dateutil<3,>=2.7.0 in c:\\users\\natha\\appdata\\local\\programs\\python\\python313\\lib\\site-packages (from graphene<4->mlflow) (2.9.0.post0)\n",
      "Requirement already satisfied: contourpy>=1.0.1 in c:\\users\\natha\\appdata\\local\\programs\\python\\python313\\lib\\site-packages (from matplotlib<4->mlflow) (1.3.2)\n",
      "Requirement already satisfied: cycler>=0.10 in c:\\users\\natha\\appdata\\local\\programs\\python\\python313\\lib\\site-packages (from matplotlib<4->mlflow) (0.12.1)\n",
      "Requirement already satisfied: fonttools>=4.22.0 in c:\\users\\natha\\appdata\\local\\programs\\python\\python313\\lib\\site-packages (from matplotlib<4->mlflow) (4.58.0)\n",
      "Requirement already satisfied: kiwisolver>=1.3.1 in c:\\users\\natha\\appdata\\local\\programs\\python\\python313\\lib\\site-packages (from matplotlib<4->mlflow) (1.4.8)\n",
      "Requirement already satisfied: pillow>=8 in c:\\users\\natha\\appdata\\local\\programs\\python\\python313\\lib\\site-packages (from matplotlib<4->mlflow) (11.2.1)\n",
      "Requirement already satisfied: pyparsing>=2.3.1 in c:\\users\\natha\\appdata\\local\\programs\\python\\python313\\lib\\site-packages (from matplotlib<4->mlflow) (3.2.3)\n",
      "Requirement already satisfied: pytz>=2020.1 in c:\\users\\natha\\appdata\\local\\programs\\python\\python313\\lib\\site-packages (from pandas<3->mlflow) (2025.2)\n",
      "Requirement already satisfied: tzdata>=2022.7 in c:\\users\\natha\\appdata\\local\\programs\\python\\python313\\lib\\site-packages (from pandas<3->mlflow) (2025.2)\n",
      "Requirement already satisfied: joblib>=1.2.0 in c:\\users\\natha\\appdata\\local\\programs\\python\\python313\\lib\\site-packages (from scikit-learn<2->mlflow) (1.5.0)\n",
      "Requirement already satisfied: threadpoolctl>=3.1.0 in c:\\users\\natha\\appdata\\local\\programs\\python\\python313\\lib\\site-packages (from scikit-learn<2->mlflow) (3.6.0)\n",
      "Requirement already satisfied: greenlet>=1 in c:\\users\\natha\\appdata\\local\\programs\\python\\python313\\lib\\site-packages (from sqlalchemy<3,>=1.4.0->mlflow) (3.2.2)\n",
      "Requirement already satisfied: colorama in c:\\users\\natha\\appdata\\local\\programs\\python\\python313\\lib\\site-packages (from click<9,>=7.0->mlflow-skinny==2.22.0->mlflow) (0.4.6)\n",
      "Requirement already satisfied: google-auth~=2.0 in c:\\users\\natha\\appdata\\local\\programs\\python\\python313\\lib\\site-packages (from databricks-sdk<1,>=0.20.0->mlflow-skinny==2.22.0->mlflow) (2.40.1)\n",
      "Requirement already satisfied: starlette<0.47.0,>=0.40.0 in c:\\users\\natha\\appdata\\local\\programs\\python\\python313\\lib\\site-packages (from fastapi<1->mlflow-skinny==2.22.0->mlflow) (0.46.2)\n",
      "Requirement already satisfied: gitdb<5,>=4.0.1 in c:\\users\\natha\\appdata\\local\\programs\\python\\python313\\lib\\site-packages (from gitpython<4,>=3.1.9->mlflow-skinny==2.22.0->mlflow) (4.0.12)\n",
      "Requirement already satisfied: zipp>=3.20 in c:\\users\\natha\\appdata\\local\\programs\\python\\python313\\lib\\site-packages (from importlib_metadata!=4.7.0,<9,>=3.7.0->mlflow-skinny==2.22.0->mlflow) (3.21.0)\n",
      "Requirement already satisfied: deprecated>=1.2.6 in c:\\users\\natha\\appdata\\local\\programs\\python\\python313\\lib\\site-packages (from opentelemetry-api<3,>=1.9.0->mlflow-skinny==2.22.0->mlflow) (1.2.18)\n",
      "Requirement already satisfied: opentelemetry-semantic-conventions==0.54b1 in c:\\users\\natha\\appdata\\local\\programs\\python\\python313\\lib\\site-packages (from opentelemetry-sdk<3,>=1.9.0->mlflow-skinny==2.22.0->mlflow) (0.54b1)\n",
      "Requirement already satisfied: annotated-types>=0.6.0 in c:\\users\\natha\\appdata\\local\\programs\\python\\python313\\lib\\site-packages (from pydantic<3,>=1.10.8->mlflow-skinny==2.22.0->mlflow) (0.7.0)\n",
      "Requirement already satisfied: pydantic-core==2.33.2 in c:\\users\\natha\\appdata\\local\\programs\\python\\python313\\lib\\site-packages (from pydantic<3,>=1.10.8->mlflow-skinny==2.22.0->mlflow) (2.33.2)\n",
      "Requirement already satisfied: typing-inspection>=0.4.0 in c:\\users\\natha\\appdata\\local\\programs\\python\\python313\\lib\\site-packages (from pydantic<3,>=1.10.8->mlflow-skinny==2.22.0->mlflow) (0.4.0)\n",
      "Requirement already satisfied: six>=1.5 in c:\\users\\natha\\appdata\\local\\programs\\python\\python313\\lib\\site-packages (from python-dateutil<3,>=2.7.0->graphene<4->mlflow) (1.17.0)\n",
      "Requirement already satisfied: charset-normalizer<4,>=2 in c:\\users\\natha\\appdata\\local\\programs\\python\\python313\\lib\\site-packages (from requests<3,>=2.17.3->mlflow-skinny==2.22.0->mlflow) (3.4.2)\n",
      "Requirement already satisfied: idna<4,>=2.5 in c:\\users\\natha\\appdata\\local\\programs\\python\\python313\\lib\\site-packages (from requests<3,>=2.17.3->mlflow-skinny==2.22.0->mlflow) (3.10)\n",
      "Requirement already satisfied: certifi>=2017.4.17 in c:\\users\\natha\\appdata\\local\\programs\\python\\python313\\lib\\site-packages (from requests<3,>=2.17.3->mlflow-skinny==2.22.0->mlflow) (2025.4.26)\n",
      "Requirement already satisfied: h11>=0.8 in c:\\users\\natha\\appdata\\local\\programs\\python\\python313\\lib\\site-packages (from uvicorn<1->mlflow-skinny==2.22.0->mlflow) (0.16.0)\n",
      "Requirement already satisfied: wrapt<2,>=1.10 in c:\\users\\natha\\appdata\\local\\programs\\python\\python313\\lib\\site-packages (from deprecated>=1.2.6->opentelemetry-api<3,>=1.9.0->mlflow-skinny==2.22.0->mlflow) (1.17.2)\n",
      "Requirement already satisfied: smmap<6,>=3.0.1 in c:\\users\\natha\\appdata\\local\\programs\\python\\python313\\lib\\site-packages (from gitdb<5,>=4.0.1->gitpython<4,>=3.1.9->mlflow-skinny==2.22.0->mlflow) (5.0.2)\n",
      "Requirement already satisfied: pyasn1-modules>=0.2.1 in c:\\users\\natha\\appdata\\local\\programs\\python\\python313\\lib\\site-packages (from google-auth~=2.0->databricks-sdk<1,>=0.20.0->mlflow-skinny==2.22.0->mlflow) (0.4.2)\n",
      "Requirement already satisfied: rsa<5,>=3.1.4 in c:\\users\\natha\\appdata\\local\\programs\\python\\python313\\lib\\site-packages (from google-auth~=2.0->databricks-sdk<1,>=0.20.0->mlflow-skinny==2.22.0->mlflow) (4.9.1)\n",
      "Requirement already satisfied: anyio<5,>=3.6.2 in c:\\users\\natha\\appdata\\local\\programs\\python\\python313\\lib\\site-packages (from starlette<0.47.0,>=0.40.0->fastapi<1->mlflow-skinny==2.22.0->mlflow) (4.9.0)\n",
      "Requirement already satisfied: sniffio>=1.1 in c:\\users\\natha\\appdata\\local\\programs\\python\\python313\\lib\\site-packages (from anyio<5,>=3.6.2->starlette<0.47.0,>=0.40.0->fastapi<1->mlflow-skinny==2.22.0->mlflow) (1.3.1)\n",
      "Requirement already satisfied: pyasn1<0.7.0,>=0.6.1 in c:\\users\\natha\\appdata\\local\\programs\\python\\python313\\lib\\site-packages (from pyasn1-modules>=0.2.1->google-auth~=2.0->databricks-sdk<1,>=0.20.0->mlflow-skinny==2.22.0->mlflow) (0.6.1)\n",
      "Note: you may need to restart the kernel to use updated packages.\n"
     ]
    },
    {
     "name": "stderr",
     "output_type": "stream",
     "text": [
      "\n",
      "[notice] A new release of pip is available: 25.0.1 -> 25.1.1\n",
      "[notice] To update, run: python.exe -m pip install --upgrade pip\n"
     ]
    },
    {
     "name": "stdout",
     "output_type": "stream",
     "text": [
      "Note: you may need to restart the kernel to use updated packages.\n"
     ]
    },
    {
     "name": "stderr",
     "output_type": "stream",
     "text": [
      "ERROR: Could not find a version that satisfies the requirement jinj2 (from versions: none)\n",
      "\n",
      "[notice] A new release of pip is available: 25.0.1 -> 25.1.1\n",
      "[notice] To update, run: python.exe -m pip install --upgrade pip\n",
      "ERROR: No matching distribution found for jinj2\n"
     ]
    }
   ],
   "source": [
    "# requirements  \n",
    "%pip install pybaseball\n",
    "%pip install scikit-learn\n",
    "%pip install xgboost\n",
    "%pip install matplotlib\n",
    "%pip install fastapi\n",
    "%pip install uvicorn\n",
    "%pip install pandas\n",
    "%pip install numpy\n",
    "%pip install joblib\n",
    "%pip install statsmodels\n",
    "%pip install seaborn\n",
    "%pip install mlflow\n",
    "%pip install jinji2\n",
    "\n"
   ]
  },
  {
   "cell_type": "code",
   "execution_count": 2,
   "metadata": {
    "application/vnd.databricks.v1+cell": {
     "cellMetadata": {
      "byteLimit": 2048000,
      "rowLimit": 10000
     },
     "inputWidgets": {},
     "nuid": "3754345b-89a3-431f-8a7f-4de77663a539",
     "showTitle": false,
     "tableResultSettingsMap": {},
     "title": ""
    }
   },
   "outputs": [],
   "source": [
    "from pybaseball import statcast_pitcher\n",
    "import pandas as pd\n",
    "from datetime import datetime\n",
    "import numpy as np\n",
    "\n",
    "pd.set_option('display.max_columns', 100)"
   ]
  },
  {
   "cell_type": "code",
   "execution_count": 4,
   "metadata": {
    "application/vnd.databricks.v1+cell": {
     "cellMetadata": {
      "byteLimit": 2048000,
      "rowLimit": 10000
     },
     "inputWidgets": {},
     "nuid": "04f8637b-2d30-4175-bb9d-04f1bf882643",
     "showTitle": false,
     "tableResultSettingsMap": {},
     "title": ""
    }
   },
   "outputs": [
    {
     "data": {
      "text/html": [
       "<div>\n",
       "<style scoped>\n",
       "    .dataframe tbody tr th:only-of-type {\n",
       "        vertical-align: middle;\n",
       "    }\n",
       "\n",
       "    .dataframe tbody tr th {\n",
       "        vertical-align: top;\n",
       "    }\n",
       "\n",
       "    .dataframe thead th {\n",
       "        text-align: right;\n",
       "    }\n",
       "</style>\n",
       "<table border=\"1\" class=\"dataframe\">\n",
       "  <thead>\n",
       "    <tr style=\"text-align: right;\">\n",
       "      <th></th>\n",
       "      <th>IDfg</th>\n",
       "      <th>Season</th>\n",
       "      <th>Name</th>\n",
       "      <th>Team</th>\n",
       "      <th>Age</th>\n",
       "      <th>W</th>\n",
       "      <th>L</th>\n",
       "      <th>WAR</th>\n",
       "      <th>ERA</th>\n",
       "      <th>G</th>\n",
       "      <th>GS</th>\n",
       "      <th>CG</th>\n",
       "      <th>ShO</th>\n",
       "      <th>SV</th>\n",
       "      <th>BS</th>\n",
       "      <th>IP</th>\n",
       "      <th>TBF</th>\n",
       "      <th>H</th>\n",
       "      <th>R</th>\n",
       "      <th>ER</th>\n",
       "      <th>HR</th>\n",
       "      <th>BB</th>\n",
       "      <th>IBB</th>\n",
       "      <th>HBP</th>\n",
       "      <th>WP</th>\n",
       "      <th>BK</th>\n",
       "      <th>SO</th>\n",
       "      <th>GB</th>\n",
       "      <th>FB</th>\n",
       "      <th>LD</th>\n",
       "      <th>IFFB</th>\n",
       "      <th>Balls</th>\n",
       "      <th>Strikes</th>\n",
       "      <th>Pitches</th>\n",
       "      <th>RS</th>\n",
       "      <th>IFH</th>\n",
       "      <th>BU</th>\n",
       "      <th>BUH</th>\n",
       "      <th>K/9</th>\n",
       "      <th>BB/9</th>\n",
       "      <th>K/BB</th>\n",
       "      <th>H/9</th>\n",
       "      <th>HR/9</th>\n",
       "      <th>AVG</th>\n",
       "      <th>WHIP</th>\n",
       "      <th>BABIP</th>\n",
       "      <th>LOB%</th>\n",
       "      <th>FIP</th>\n",
       "      <th>GB/FB</th>\n",
       "      <th>LD%</th>\n",
       "      <th>...</th>\n",
       "      <th>botCmd FA</th>\n",
       "      <th>botOvr SI</th>\n",
       "      <th>botStf SI</th>\n",
       "      <th>botCmd SI</th>\n",
       "      <th>botOvr SL</th>\n",
       "      <th>botStf SL</th>\n",
       "      <th>botCmd SL</th>\n",
       "      <th>botOvr KC</th>\n",
       "      <th>botStf KC</th>\n",
       "      <th>botCmd KC</th>\n",
       "      <th>botOvr FC</th>\n",
       "      <th>botStf FC</th>\n",
       "      <th>botCmd FC</th>\n",
       "      <th>botOvr FS</th>\n",
       "      <th>botStf FS</th>\n",
       "      <th>botCmd FS</th>\n",
       "      <th>botOvr</th>\n",
       "      <th>botStf</th>\n",
       "      <th>botCmd</th>\n",
       "      <th>botxRV100</th>\n",
       "      <th>Stf+ CH</th>\n",
       "      <th>Loc+ CH</th>\n",
       "      <th>Pit+ CH</th>\n",
       "      <th>Stf+ CU</th>\n",
       "      <th>Loc+ CU</th>\n",
       "      <th>Pit+ CU</th>\n",
       "      <th>Stf+ FA</th>\n",
       "      <th>Loc+ FA</th>\n",
       "      <th>Pit+ FA</th>\n",
       "      <th>Stf+ SI</th>\n",
       "      <th>Loc+ SI</th>\n",
       "      <th>Pit+ SI</th>\n",
       "      <th>Stf+ SL</th>\n",
       "      <th>Loc+ SL</th>\n",
       "      <th>Pit+ SL</th>\n",
       "      <th>Stf+ KC</th>\n",
       "      <th>Loc+ KC</th>\n",
       "      <th>Pit+ KC</th>\n",
       "      <th>Stf+ FC</th>\n",
       "      <th>Loc+ FC</th>\n",
       "      <th>Pit+ FC</th>\n",
       "      <th>Stf+ FS</th>\n",
       "      <th>Loc+ FS</th>\n",
       "      <th>Pit+ FS</th>\n",
       "      <th>Stuff+</th>\n",
       "      <th>Location+</th>\n",
       "      <th>Pitching+</th>\n",
       "      <th>Stf+ FO</th>\n",
       "      <th>Loc+ FO</th>\n",
       "      <th>Pit+ FO</th>\n",
       "    </tr>\n",
       "  </thead>\n",
       "  <tbody>\n",
       "    <tr>\n",
       "      <th>0</th>\n",
       "      <td>19361</td>\n",
       "      <td>2021</td>\n",
       "      <td>Corbin Burnes</td>\n",
       "      <td>MIL</td>\n",
       "      <td>26</td>\n",
       "      <td>11</td>\n",
       "      <td>5</td>\n",
       "      <td>7.5</td>\n",
       "      <td>2.43</td>\n",
       "      <td>28</td>\n",
       "      <td>28</td>\n",
       "      <td>0</td>\n",
       "      <td>0</td>\n",
       "      <td>0</td>\n",
       "      <td>0</td>\n",
       "      <td>167.0</td>\n",
       "      <td>657</td>\n",
       "      <td>123</td>\n",
       "      <td>47</td>\n",
       "      <td>45</td>\n",
       "      <td>7</td>\n",
       "      <td>34</td>\n",
       "      <td>0</td>\n",
       "      <td>6</td>\n",
       "      <td>5</td>\n",
       "      <td>0</td>\n",
       "      <td>234</td>\n",
       "      <td>185</td>\n",
       "      <td>115</td>\n",
       "      <td>79</td>\n",
       "      <td>9</td>\n",
       "      <td>872</td>\n",
       "      <td>1722</td>\n",
       "      <td>2594</td>\n",
       "      <td>85</td>\n",
       "      <td>17</td>\n",
       "      <td>4</td>\n",
       "      <td>1</td>\n",
       "      <td>12.61</td>\n",
       "      <td>1.83</td>\n",
       "      <td>6.88</td>\n",
       "      <td>6.63</td>\n",
       "      <td>0.38</td>\n",
       "      <td>0.199</td>\n",
       "      <td>0.94</td>\n",
       "      <td>0.309</td>\n",
       "      <td>0.757</td>\n",
       "      <td>1.63</td>\n",
       "      <td>1.61</td>\n",
       "      <td>0.208</td>\n",
       "      <td>...</td>\n",
       "      <td>80.0</td>\n",
       "      <td>45.0</td>\n",
       "      <td>59.0</td>\n",
       "      <td>42.0</td>\n",
       "      <td>54.0</td>\n",
       "      <td>66.0</td>\n",
       "      <td>48.0</td>\n",
       "      <td>NaN</td>\n",
       "      <td>NaN</td>\n",
       "      <td>NaN</td>\n",
       "      <td>71.0</td>\n",
       "      <td>62.0</td>\n",
       "      <td>45.0</td>\n",
       "      <td>NaN</td>\n",
       "      <td>NaN</td>\n",
       "      <td>NaN</td>\n",
       "      <td>66.0</td>\n",
       "      <td>66.0</td>\n",
       "      <td>46.0</td>\n",
       "      <td>-0.86</td>\n",
       "      <td>96.0</td>\n",
       "      <td>98.0</td>\n",
       "      <td>94.0</td>\n",
       "      <td>142.0</td>\n",
       "      <td>88.0</td>\n",
       "      <td>119.0</td>\n",
       "      <td>109.0</td>\n",
       "      <td>122.0</td>\n",
       "      <td>118.0</td>\n",
       "      <td>90.0</td>\n",
       "      <td>112.0</td>\n",
       "      <td>96.0</td>\n",
       "      <td>137.0</td>\n",
       "      <td>108.0</td>\n",
       "      <td>140.0</td>\n",
       "      <td>NaN</td>\n",
       "      <td>NaN</td>\n",
       "      <td>NaN</td>\n",
       "      <td>134.0</td>\n",
       "      <td>102.0</td>\n",
       "      <td>140.0</td>\n",
       "      <td>NaN</td>\n",
       "      <td>NaN</td>\n",
       "      <td>NaN</td>\n",
       "      <td>132</td>\n",
       "      <td>99</td>\n",
       "      <td>128</td>\n",
       "      <td>NaN</td>\n",
       "      <td>NaN</td>\n",
       "      <td>NaN</td>\n",
       "    </tr>\n",
       "    <tr>\n",
       "      <th>1</th>\n",
       "      <td>10310</td>\n",
       "      <td>2021</td>\n",
       "      <td>Zack Wheeler</td>\n",
       "      <td>PHI</td>\n",
       "      <td>31</td>\n",
       "      <td>14</td>\n",
       "      <td>10</td>\n",
       "      <td>7.2</td>\n",
       "      <td>2.78</td>\n",
       "      <td>32</td>\n",
       "      <td>32</td>\n",
       "      <td>3</td>\n",
       "      <td>2</td>\n",
       "      <td>0</td>\n",
       "      <td>0</td>\n",
       "      <td>213.1</td>\n",
       "      <td>849</td>\n",
       "      <td>169</td>\n",
       "      <td>72</td>\n",
       "      <td>66</td>\n",
       "      <td>16</td>\n",
       "      <td>46</td>\n",
       "      <td>1</td>\n",
       "      <td>8</td>\n",
       "      <td>6</td>\n",
       "      <td>0</td>\n",
       "      <td>247</td>\n",
       "      <td>268</td>\n",
       "      <td>148</td>\n",
       "      <td>122</td>\n",
       "      <td>19</td>\n",
       "      <td>1041</td>\n",
       "      <td>2164</td>\n",
       "      <td>3205</td>\n",
       "      <td>87</td>\n",
       "      <td>11</td>\n",
       "      <td>10</td>\n",
       "      <td>1</td>\n",
       "      <td>10.42</td>\n",
       "      <td>1.94</td>\n",
       "      <td>5.37</td>\n",
       "      <td>7.13</td>\n",
       "      <td>0.68</td>\n",
       "      <td>0.213</td>\n",
       "      <td>1.01</td>\n",
       "      <td>0.288</td>\n",
       "      <td>0.753</td>\n",
       "      <td>2.59</td>\n",
       "      <td>1.81</td>\n",
       "      <td>0.227</td>\n",
       "      <td>...</td>\n",
       "      <td>65.0</td>\n",
       "      <td>72.0</td>\n",
       "      <td>69.0</td>\n",
       "      <td>59.0</td>\n",
       "      <td>NaN</td>\n",
       "      <td>NaN</td>\n",
       "      <td>NaN</td>\n",
       "      <td>NaN</td>\n",
       "      <td>NaN</td>\n",
       "      <td>NaN</td>\n",
       "      <td>59.0</td>\n",
       "      <td>67.0</td>\n",
       "      <td>56.0</td>\n",
       "      <td>80.0</td>\n",
       "      <td>65.0</td>\n",
       "      <td>80.0</td>\n",
       "      <td>70.0</td>\n",
       "      <td>64.0</td>\n",
       "      <td>64.0</td>\n",
       "      <td>-1.12</td>\n",
       "      <td>80.0</td>\n",
       "      <td>106.0</td>\n",
       "      <td>87.0</td>\n",
       "      <td>118.0</td>\n",
       "      <td>96.0</td>\n",
       "      <td>107.0</td>\n",
       "      <td>123.0</td>\n",
       "      <td>104.0</td>\n",
       "      <td>122.0</td>\n",
       "      <td>133.0</td>\n",
       "      <td>104.0</td>\n",
       "      <td>140.0</td>\n",
       "      <td>NaN</td>\n",
       "      <td>NaN</td>\n",
       "      <td>NaN</td>\n",
       "      <td>NaN</td>\n",
       "      <td>NaN</td>\n",
       "      <td>NaN</td>\n",
       "      <td>110.0</td>\n",
       "      <td>105.0</td>\n",
       "      <td>115.0</td>\n",
       "      <td>NaN</td>\n",
       "      <td>NaN</td>\n",
       "      <td>NaN</td>\n",
       "      <td>119</td>\n",
       "      <td>103</td>\n",
       "      <td>121</td>\n",
       "      <td>NaN</td>\n",
       "      <td>NaN</td>\n",
       "      <td>NaN</td>\n",
       "    </tr>\n",
       "    <tr>\n",
       "      <th>2</th>\n",
       "      <td>9132</td>\n",
       "      <td>2021</td>\n",
       "      <td>Nathan Eovaldi</td>\n",
       "      <td>BOS</td>\n",
       "      <td>31</td>\n",
       "      <td>11</td>\n",
       "      <td>9</td>\n",
       "      <td>5.7</td>\n",
       "      <td>3.75</td>\n",
       "      <td>32</td>\n",
       "      <td>32</td>\n",
       "      <td>0</td>\n",
       "      <td>0</td>\n",
       "      <td>0</td>\n",
       "      <td>0</td>\n",
       "      <td>182.1</td>\n",
       "      <td>764</td>\n",
       "      <td>182</td>\n",
       "      <td>81</td>\n",
       "      <td>76</td>\n",
       "      <td>15</td>\n",
       "      <td>35</td>\n",
       "      <td>2</td>\n",
       "      <td>7</td>\n",
       "      <td>6</td>\n",
       "      <td>0</td>\n",
       "      <td>195</td>\n",
       "      <td>220</td>\n",
       "      <td>182</td>\n",
       "      <td>122</td>\n",
       "      <td>21</td>\n",
       "      <td>908</td>\n",
       "      <td>2019</td>\n",
       "      <td>2927</td>\n",
       "      <td>118</td>\n",
       "      <td>21</td>\n",
       "      <td>3</td>\n",
       "      <td>0</td>\n",
       "      <td>9.63</td>\n",
       "      <td>1.73</td>\n",
       "      <td>5.57</td>\n",
       "      <td>8.98</td>\n",
       "      <td>0.74</td>\n",
       "      <td>0.252</td>\n",
       "      <td>1.19</td>\n",
       "      <td>0.326</td>\n",
       "      <td>0.704</td>\n",
       "      <td>2.79</td>\n",
       "      <td>1.21</td>\n",
       "      <td>0.233</td>\n",
       "      <td>...</td>\n",
       "      <td>69.0</td>\n",
       "      <td>NaN</td>\n",
       "      <td>NaN</td>\n",
       "      <td>NaN</td>\n",
       "      <td>61.0</td>\n",
       "      <td>46.0</td>\n",
       "      <td>63.0</td>\n",
       "      <td>NaN</td>\n",
       "      <td>NaN</td>\n",
       "      <td>NaN</td>\n",
       "      <td>76.0</td>\n",
       "      <td>52.0</td>\n",
       "      <td>79.0</td>\n",
       "      <td>59.0</td>\n",
       "      <td>59.0</td>\n",
       "      <td>52.0</td>\n",
       "      <td>67.0</td>\n",
       "      <td>52.0</td>\n",
       "      <td>67.0</td>\n",
       "      <td>-0.90</td>\n",
       "      <td>NaN</td>\n",
       "      <td>NaN</td>\n",
       "      <td>NaN</td>\n",
       "      <td>111.0</td>\n",
       "      <td>102.0</td>\n",
       "      <td>106.0</td>\n",
       "      <td>105.0</td>\n",
       "      <td>109.0</td>\n",
       "      <td>112.0</td>\n",
       "      <td>NaN</td>\n",
       "      <td>NaN</td>\n",
       "      <td>NaN</td>\n",
       "      <td>112.0</td>\n",
       "      <td>110.0</td>\n",
       "      <td>121.0</td>\n",
       "      <td>NaN</td>\n",
       "      <td>NaN</td>\n",
       "      <td>NaN</td>\n",
       "      <td>104.0</td>\n",
       "      <td>121.0</td>\n",
       "      <td>130.0</td>\n",
       "      <td>125.0</td>\n",
       "      <td>88.0</td>\n",
       "      <td>108.0</td>\n",
       "      <td>109</td>\n",
       "      <td>107</td>\n",
       "      <td>114</td>\n",
       "      <td>NaN</td>\n",
       "      <td>NaN</td>\n",
       "      <td>NaN</td>\n",
       "    </tr>\n",
       "    <tr>\n",
       "      <th>3</th>\n",
       "      <td>19374</td>\n",
       "      <td>2021</td>\n",
       "      <td>Walker Buehler</td>\n",
       "      <td>LAD</td>\n",
       "      <td>26</td>\n",
       "      <td>16</td>\n",
       "      <td>4</td>\n",
       "      <td>5.6</td>\n",
       "      <td>2.47</td>\n",
       "      <td>33</td>\n",
       "      <td>33</td>\n",
       "      <td>0</td>\n",
       "      <td>0</td>\n",
       "      <td>0</td>\n",
       "      <td>0</td>\n",
       "      <td>207.2</td>\n",
       "      <td>815</td>\n",
       "      <td>149</td>\n",
       "      <td>61</td>\n",
       "      <td>57</td>\n",
       "      <td>19</td>\n",
       "      <td>52</td>\n",
       "      <td>2</td>\n",
       "      <td>6</td>\n",
       "      <td>5</td>\n",
       "      <td>0</td>\n",
       "      <td>212</td>\n",
       "      <td>238</td>\n",
       "      <td>189</td>\n",
       "      <td>106</td>\n",
       "      <td>22</td>\n",
       "      <td>1032</td>\n",
       "      <td>2120</td>\n",
       "      <td>3152</td>\n",
       "      <td>123</td>\n",
       "      <td>13</td>\n",
       "      <td>12</td>\n",
       "      <td>3</td>\n",
       "      <td>9.19</td>\n",
       "      <td>2.25</td>\n",
       "      <td>4.08</td>\n",
       "      <td>6.46</td>\n",
       "      <td>0.82</td>\n",
       "      <td>0.197</td>\n",
       "      <td>0.97</td>\n",
       "      <td>0.247</td>\n",
       "      <td>0.809</td>\n",
       "      <td>3.16</td>\n",
       "      <td>1.26</td>\n",
       "      <td>0.199</td>\n",
       "      <td>...</td>\n",
       "      <td>56.0</td>\n",
       "      <td>52.0</td>\n",
       "      <td>48.0</td>\n",
       "      <td>53.0</td>\n",
       "      <td>71.0</td>\n",
       "      <td>65.0</td>\n",
       "      <td>62.0</td>\n",
       "      <td>48.0</td>\n",
       "      <td>53.0</td>\n",
       "      <td>47.0</td>\n",
       "      <td>64.0</td>\n",
       "      <td>62.0</td>\n",
       "      <td>61.0</td>\n",
       "      <td>NaN</td>\n",
       "      <td>NaN</td>\n",
       "      <td>NaN</td>\n",
       "      <td>63.0</td>\n",
       "      <td>59.0</td>\n",
       "      <td>59.0</td>\n",
       "      <td>-0.70</td>\n",
       "      <td>98.0</td>\n",
       "      <td>106.0</td>\n",
       "      <td>99.0</td>\n",
       "      <td>NaN</td>\n",
       "      <td>NaN</td>\n",
       "      <td>NaN</td>\n",
       "      <td>111.0</td>\n",
       "      <td>98.0</td>\n",
       "      <td>108.0</td>\n",
       "      <td>95.0</td>\n",
       "      <td>102.0</td>\n",
       "      <td>101.0</td>\n",
       "      <td>133.0</td>\n",
       "      <td>104.0</td>\n",
       "      <td>129.0</td>\n",
       "      <td>110.0</td>\n",
       "      <td>90.0</td>\n",
       "      <td>94.0</td>\n",
       "      <td>109.0</td>\n",
       "      <td>109.0</td>\n",
       "      <td>126.0</td>\n",
       "      <td>NaN</td>\n",
       "      <td>NaN</td>\n",
       "      <td>NaN</td>\n",
       "      <td>112</td>\n",
       "      <td>100</td>\n",
       "      <td>111</td>\n",
       "      <td>NaN</td>\n",
       "      <td>NaN</td>\n",
       "      <td>NaN</td>\n",
       "    </tr>\n",
       "    <tr>\n",
       "      <th>4</th>\n",
       "      <td>3137</td>\n",
       "      <td>2021</td>\n",
       "      <td>Max Scherzer</td>\n",
       "      <td>- - -</td>\n",
       "      <td>36</td>\n",
       "      <td>15</td>\n",
       "      <td>4</td>\n",
       "      <td>5.4</td>\n",
       "      <td>2.46</td>\n",
       "      <td>30</td>\n",
       "      <td>30</td>\n",
       "      <td>1</td>\n",
       "      <td>0</td>\n",
       "      <td>0</td>\n",
       "      <td>0</td>\n",
       "      <td>179.1</td>\n",
       "      <td>693</td>\n",
       "      <td>119</td>\n",
       "      <td>53</td>\n",
       "      <td>49</td>\n",
       "      <td>23</td>\n",
       "      <td>36</td>\n",
       "      <td>0</td>\n",
       "      <td>10</td>\n",
       "      <td>2</td>\n",
       "      <td>0</td>\n",
       "      <td>236</td>\n",
       "      <td>136</td>\n",
       "      <td>196</td>\n",
       "      <td>74</td>\n",
       "      <td>19</td>\n",
       "      <td>950</td>\n",
       "      <td>1871</td>\n",
       "      <td>2821</td>\n",
       "      <td>106</td>\n",
       "      <td>12</td>\n",
       "      <td>5</td>\n",
       "      <td>1</td>\n",
       "      <td>11.84</td>\n",
       "      <td>1.81</td>\n",
       "      <td>6.56</td>\n",
       "      <td>5.97</td>\n",
       "      <td>1.15</td>\n",
       "      <td>0.184</td>\n",
       "      <td>0.86</td>\n",
       "      <td>0.247</td>\n",
       "      <td>0.843</td>\n",
       "      <td>2.97</td>\n",
       "      <td>0.69</td>\n",
       "      <td>0.182</td>\n",
       "      <td>...</td>\n",
       "      <td>58.0</td>\n",
       "      <td>NaN</td>\n",
       "      <td>NaN</td>\n",
       "      <td>NaN</td>\n",
       "      <td>62.0</td>\n",
       "      <td>55.0</td>\n",
       "      <td>62.0</td>\n",
       "      <td>NaN</td>\n",
       "      <td>NaN</td>\n",
       "      <td>NaN</td>\n",
       "      <td>51.0</td>\n",
       "      <td>58.0</td>\n",
       "      <td>49.0</td>\n",
       "      <td>NaN</td>\n",
       "      <td>NaN</td>\n",
       "      <td>NaN</td>\n",
       "      <td>60.0</td>\n",
       "      <td>59.0</td>\n",
       "      <td>58.0</td>\n",
       "      <td>-0.44</td>\n",
       "      <td>99.0</td>\n",
       "      <td>101.0</td>\n",
       "      <td>94.0</td>\n",
       "      <td>104.0</td>\n",
       "      <td>102.0</td>\n",
       "      <td>105.0</td>\n",
       "      <td>114.0</td>\n",
       "      <td>97.0</td>\n",
       "      <td>111.0</td>\n",
       "      <td>NaN</td>\n",
       "      <td>NaN</td>\n",
       "      <td>NaN</td>\n",
       "      <td>120.0</td>\n",
       "      <td>108.0</td>\n",
       "      <td>125.0</td>\n",
       "      <td>NaN</td>\n",
       "      <td>NaN</td>\n",
       "      <td>NaN</td>\n",
       "      <td>105.0</td>\n",
       "      <td>96.0</td>\n",
       "      <td>99.0</td>\n",
       "      <td>NaN</td>\n",
       "      <td>NaN</td>\n",
       "      <td>NaN</td>\n",
       "      <td>111</td>\n",
       "      <td>100</td>\n",
       "      <td>110</td>\n",
       "      <td>NaN</td>\n",
       "      <td>NaN</td>\n",
       "      <td>NaN</td>\n",
       "    </tr>\n",
       "  </tbody>\n",
       "</table>\n",
       "<p>5 rows × 393 columns</p>\n",
       "</div>"
      ],
      "text/plain": [
       "    IDfg  Season            Name   Team  Age   W   L  WAR   ERA   G  GS  CG  \\\n",
       "0  19361    2021   Corbin Burnes    MIL   26  11   5  7.5  2.43  28  28   0   \n",
       "1  10310    2021    Zack Wheeler    PHI   31  14  10  7.2  2.78  32  32   3   \n",
       "2   9132    2021  Nathan Eovaldi    BOS   31  11   9  5.7  3.75  32  32   0   \n",
       "3  19374    2021  Walker Buehler    LAD   26  16   4  5.6  2.47  33  33   0   \n",
       "4   3137    2021    Max Scherzer  - - -   36  15   4  5.4  2.46  30  30   1   \n",
       "\n",
       "   ShO  SV  BS     IP  TBF    H   R  ER  HR  BB  IBB  HBP  WP  BK   SO   GB  \\\n",
       "0    0   0   0  167.0  657  123  47  45   7  34    0    6   5   0  234  185   \n",
       "1    2   0   0  213.1  849  169  72  66  16  46    1    8   6   0  247  268   \n",
       "2    0   0   0  182.1  764  182  81  76  15  35    2    7   6   0  195  220   \n",
       "3    0   0   0  207.2  815  149  61  57  19  52    2    6   5   0  212  238   \n",
       "4    0   0   0  179.1  693  119  53  49  23  36    0   10   2   0  236  136   \n",
       "\n",
       "    FB   LD  IFFB  Balls  Strikes  Pitches   RS  IFH  BU  BUH    K/9  BB/9  \\\n",
       "0  115   79     9    872     1722     2594   85   17   4    1  12.61  1.83   \n",
       "1  148  122    19   1041     2164     3205   87   11  10    1  10.42  1.94   \n",
       "2  182  122    21    908     2019     2927  118   21   3    0   9.63  1.73   \n",
       "3  189  106    22   1032     2120     3152  123   13  12    3   9.19  2.25   \n",
       "4  196   74    19    950     1871     2821  106   12   5    1  11.84  1.81   \n",
       "\n",
       "   K/BB   H/9  HR/9    AVG  WHIP  BABIP   LOB%   FIP  GB/FB    LD%  ...  \\\n",
       "0  6.88  6.63  0.38  0.199  0.94  0.309  0.757  1.63   1.61  0.208  ...   \n",
       "1  5.37  7.13  0.68  0.213  1.01  0.288  0.753  2.59   1.81  0.227  ...   \n",
       "2  5.57  8.98  0.74  0.252  1.19  0.326  0.704  2.79   1.21  0.233  ...   \n",
       "3  4.08  6.46  0.82  0.197  0.97  0.247  0.809  3.16   1.26  0.199  ...   \n",
       "4  6.56  5.97  1.15  0.184  0.86  0.247  0.843  2.97   0.69  0.182  ...   \n",
       "\n",
       "   botCmd FA  botOvr SI  botStf SI  botCmd SI  botOvr SL  botStf SL  \\\n",
       "0       80.0       45.0       59.0       42.0       54.0       66.0   \n",
       "1       65.0       72.0       69.0       59.0        NaN        NaN   \n",
       "2       69.0        NaN        NaN        NaN       61.0       46.0   \n",
       "3       56.0       52.0       48.0       53.0       71.0       65.0   \n",
       "4       58.0        NaN        NaN        NaN       62.0       55.0   \n",
       "\n",
       "   botCmd SL  botOvr KC  botStf KC  botCmd KC  botOvr FC botStf FC  botCmd FC  \\\n",
       "0       48.0        NaN        NaN        NaN       71.0      62.0       45.0   \n",
       "1        NaN        NaN        NaN        NaN       59.0      67.0       56.0   \n",
       "2       63.0        NaN        NaN        NaN       76.0      52.0       79.0   \n",
       "3       62.0       48.0       53.0       47.0       64.0      62.0       61.0   \n",
       "4       62.0        NaN        NaN        NaN       51.0      58.0       49.0   \n",
       "\n",
       "   botOvr FS  botStf FS  botCmd FS  botOvr  botStf  botCmd  botxRV100  \\\n",
       "0        NaN        NaN        NaN    66.0    66.0    46.0      -0.86   \n",
       "1       80.0       65.0       80.0    70.0    64.0    64.0      -1.12   \n",
       "2       59.0       59.0       52.0    67.0    52.0    67.0      -0.90   \n",
       "3        NaN        NaN        NaN    63.0    59.0    59.0      -0.70   \n",
       "4        NaN        NaN        NaN    60.0    59.0    58.0      -0.44   \n",
       "\n",
       "   Stf+ CH  Loc+ CH  Pit+ CH  Stf+ CU  Loc+ CU  Pit+ CU  Stf+ FA  Loc+ FA  \\\n",
       "0     96.0     98.0     94.0    142.0     88.0    119.0    109.0    122.0   \n",
       "1     80.0    106.0     87.0    118.0     96.0    107.0    123.0    104.0   \n",
       "2      NaN      NaN      NaN    111.0    102.0    106.0    105.0    109.0   \n",
       "3     98.0    106.0     99.0      NaN      NaN      NaN    111.0     98.0   \n",
       "4     99.0    101.0     94.0    104.0    102.0    105.0    114.0     97.0   \n",
       "\n",
       "   Pit+ FA  Stf+ SI  Loc+ SI  Pit+ SI  Stf+ SL  Loc+ SL  Pit+ SL  Stf+ KC  \\\n",
       "0    118.0     90.0    112.0     96.0    137.0    108.0    140.0      NaN   \n",
       "1    122.0    133.0    104.0    140.0      NaN      NaN      NaN      NaN   \n",
       "2    112.0      NaN      NaN      NaN    112.0    110.0    121.0      NaN   \n",
       "3    108.0     95.0    102.0    101.0    133.0    104.0    129.0    110.0   \n",
       "4    111.0      NaN      NaN      NaN    120.0    108.0    125.0      NaN   \n",
       "\n",
       "   Loc+ KC  Pit+ KC  Stf+ FC  Loc+ FC  Pit+ FC  Stf+ FS  Loc+ FS  Pit+ FS  \\\n",
       "0      NaN      NaN    134.0    102.0    140.0      NaN      NaN      NaN   \n",
       "1      NaN      NaN    110.0    105.0    115.0      NaN      NaN      NaN   \n",
       "2      NaN      NaN    104.0    121.0    130.0    125.0     88.0    108.0   \n",
       "3     90.0     94.0    109.0    109.0    126.0      NaN      NaN      NaN   \n",
       "4      NaN      NaN    105.0     96.0     99.0      NaN      NaN      NaN   \n",
       "\n",
       "   Stuff+  Location+  Pitching+  Stf+ FO  Loc+ FO  Pit+ FO  \n",
       "0     132         99        128      NaN      NaN      NaN  \n",
       "1     119        103        121      NaN      NaN      NaN  \n",
       "2     109        107        114      NaN      NaN      NaN  \n",
       "3     112        100        111      NaN      NaN      NaN  \n",
       "4     111        100        110      NaN      NaN      NaN  \n",
       "\n",
       "[5 rows x 393 columns]"
      ]
     },
     "metadata": {},
     "output_type": "display_data"
    },
    {
     "data": {
      "text/html": [
       "<div>\n",
       "<style scoped>\n",
       "    .dataframe tbody tr th:only-of-type {\n",
       "        vertical-align: middle;\n",
       "    }\n",
       "\n",
       "    .dataframe tbody tr th {\n",
       "        vertical-align: top;\n",
       "    }\n",
       "\n",
       "    .dataframe thead th {\n",
       "        text-align: right;\n",
       "    }\n",
       "</style>\n",
       "<table border=\"1\" class=\"dataframe\">\n",
       "  <thead>\n",
       "    <tr style=\"text-align: right;\">\n",
       "      <th></th>\n",
       "      <th>Player</th>\n",
       "      <th>TJ Surgery Date</th>\n",
       "      <th>Team</th>\n",
       "      <th>Level</th>\n",
       "      <th>Position</th>\n",
       "      <th>Throws</th>\n",
       "      <th>Country</th>\n",
       "      <th>High School</th>\n",
       "      <th>College(s)</th>\n",
       "      <th>Age</th>\n",
       "      <th>Return Date (same level)</th>\n",
       "      <th>Recovery Time (months)</th>\n",
       "      <th>mlbamid</th>\n",
       "      <th>fgid</th>\n",
       "      <th>Surgeon(s)</th>\n",
       "      <th>Post-TJ MLB G</th>\n",
       "      <th>Post-TJ MLB IP/PA</th>\n",
       "      <th>Active</th>\n",
       "      <th>Year</th>\n",
       "      <th>Month</th>\n",
       "      <th>Day</th>\n",
       "      <th>Started\\nThrowing</th>\n",
       "      <th>Mound</th>\n",
       "      <th>Bullpen</th>\n",
       "      <th>Live\\nHitters</th>\n",
       "      <th>Game</th>\n",
       "      <th>Setback</th>\n",
       "      <th>Setback Type</th>\n",
       "      <th>Setback.1</th>\n",
       "      <th>Setback Type.1</th>\n",
       "      <th>G</th>\n",
       "      <th>GS</th>\n",
       "      <th>IP</th>\n",
       "      <th>K-BB%</th>\n",
       "      <th>ERA-</th>\n",
       "      <th>FIP-</th>\n",
       "      <th>G.1</th>\n",
       "      <th>GS.1</th>\n",
       "      <th>IP.1</th>\n",
       "      <th>K-BB%.1</th>\n",
       "      <th>ERA-.1</th>\n",
       "      <th>FIP-.1</th>\n",
       "    </tr>\n",
       "  </thead>\n",
       "  <tbody>\n",
       "    <tr>\n",
       "      <th>0</th>\n",
       "      <td>Casey Saucke</td>\n",
       "      <td>5/1/2025</td>\n",
       "      <td>CHW</td>\n",
       "      <td>A</td>\n",
       "      <td>OF</td>\n",
       "      <td>R</td>\n",
       "      <td>United States</td>\n",
       "      <td>New York</td>\n",
       "      <td>Virginia</td>\n",
       "      <td>21.0</td>\n",
       "      <td>NaN</td>\n",
       "      <td>NaN</td>\n",
       "      <td>695565.0</td>\n",
       "      <td>sa3025382</td>\n",
       "      <td>NaN</td>\n",
       "      <td>0</td>\n",
       "      <td>0.0</td>\n",
       "      <td>1</td>\n",
       "      <td>2025</td>\n",
       "      <td>5</td>\n",
       "      <td>1</td>\n",
       "      <td>NaN</td>\n",
       "      <td>NaN</td>\n",
       "      <td>NaN</td>\n",
       "      <td>NaN</td>\n",
       "      <td>NaN</td>\n",
       "      <td>NaN</td>\n",
       "      <td>NaN</td>\n",
       "      <td>NaN</td>\n",
       "      <td>NaN</td>\n",
       "      <td>NaN</td>\n",
       "      <td>NaN</td>\n",
       "      <td>NaN</td>\n",
       "      <td>NaN</td>\n",
       "      <td>NaN</td>\n",
       "      <td>NaN</td>\n",
       "      <td>NaN</td>\n",
       "      <td>NaN</td>\n",
       "      <td>NaN</td>\n",
       "      <td>NaN</td>\n",
       "      <td>NaN</td>\n",
       "      <td>NaN</td>\n",
       "    </tr>\n",
       "    <tr>\n",
       "      <th>1</th>\n",
       "      <td>Sem Robberse</td>\n",
       "      <td>5/1/2025</td>\n",
       "      <td>STL</td>\n",
       "      <td>AAA</td>\n",
       "      <td>P</td>\n",
       "      <td>R</td>\n",
       "      <td>Netherlands</td>\n",
       "      <td>NaN</td>\n",
       "      <td>NaN</td>\n",
       "      <td>23.0</td>\n",
       "      <td>NaN</td>\n",
       "      <td>NaN</td>\n",
       "      <td>691828.0</td>\n",
       "      <td>sa3011735</td>\n",
       "      <td>NaN</td>\n",
       "      <td>0</td>\n",
       "      <td>0.0</td>\n",
       "      <td>1</td>\n",
       "      <td>2025</td>\n",
       "      <td>5</td>\n",
       "      <td>1</td>\n",
       "      <td>NaN</td>\n",
       "      <td>NaN</td>\n",
       "      <td>NaN</td>\n",
       "      <td>NaN</td>\n",
       "      <td>NaN</td>\n",
       "      <td>NaN</td>\n",
       "      <td>NaN</td>\n",
       "      <td>NaN</td>\n",
       "      <td>NaN</td>\n",
       "      <td>NaN</td>\n",
       "      <td>NaN</td>\n",
       "      <td>NaN</td>\n",
       "      <td>NaN</td>\n",
       "      <td>NaN</td>\n",
       "      <td>NaN</td>\n",
       "      <td>NaN</td>\n",
       "      <td>NaN</td>\n",
       "      <td>NaN</td>\n",
       "      <td>NaN</td>\n",
       "      <td>NaN</td>\n",
       "      <td>NaN</td>\n",
       "    </tr>\n",
       "    <tr>\n",
       "      <th>2</th>\n",
       "      <td>Justin Steele</td>\n",
       "      <td>4/18/2025</td>\n",
       "      <td>CHC</td>\n",
       "      <td>MLB</td>\n",
       "      <td>P</td>\n",
       "      <td>L</td>\n",
       "      <td>United States</td>\n",
       "      <td>Mississippi</td>\n",
       "      <td>NaN</td>\n",
       "      <td>29.0</td>\n",
       "      <td>NaN</td>\n",
       "      <td>NaN</td>\n",
       "      <td>657006.0</td>\n",
       "      <td>17312</td>\n",
       "      <td>Dr. Keith Meister</td>\n",
       "      <td>0</td>\n",
       "      <td>0.0</td>\n",
       "      <td>1</td>\n",
       "      <td>2025</td>\n",
       "      <td>4</td>\n",
       "      <td>18</td>\n",
       "      <td>NaN</td>\n",
       "      <td>NaN</td>\n",
       "      <td>NaN</td>\n",
       "      <td>NaN</td>\n",
       "      <td>NaN</td>\n",
       "      <td>NaN</td>\n",
       "      <td>NaN</td>\n",
       "      <td>NaN</td>\n",
       "      <td>NaN</td>\n",
       "      <td>NaN</td>\n",
       "      <td>NaN</td>\n",
       "      <td>NaN</td>\n",
       "      <td>NaN</td>\n",
       "      <td>NaN</td>\n",
       "      <td>NaN</td>\n",
       "      <td>NaN</td>\n",
       "      <td>NaN</td>\n",
       "      <td>NaN</td>\n",
       "      <td>NaN</td>\n",
       "      <td>NaN</td>\n",
       "      <td>NaN</td>\n",
       "    </tr>\n",
       "    <tr>\n",
       "      <th>3</th>\n",
       "      <td>DJ Herz</td>\n",
       "      <td>4/16/2025</td>\n",
       "      <td>WAS</td>\n",
       "      <td>MLB</td>\n",
       "      <td>P</td>\n",
       "      <td>L</td>\n",
       "      <td>United States</td>\n",
       "      <td>North Carolina</td>\n",
       "      <td>NaN</td>\n",
       "      <td>24.0</td>\n",
       "      <td>NaN</td>\n",
       "      <td>NaN</td>\n",
       "      <td>687792.0</td>\n",
       "      <td>26389</td>\n",
       "      <td>Dr. Keith Meister</td>\n",
       "      <td>0</td>\n",
       "      <td>0.0</td>\n",
       "      <td>1</td>\n",
       "      <td>2025</td>\n",
       "      <td>4</td>\n",
       "      <td>16</td>\n",
       "      <td>NaN</td>\n",
       "      <td>NaN</td>\n",
       "      <td>NaN</td>\n",
       "      <td>NaN</td>\n",
       "      <td>NaN</td>\n",
       "      <td>NaN</td>\n",
       "      <td>NaN</td>\n",
       "      <td>NaN</td>\n",
       "      <td>NaN</td>\n",
       "      <td>NaN</td>\n",
       "      <td>NaN</td>\n",
       "      <td>NaN</td>\n",
       "      <td>NaN</td>\n",
       "      <td>NaN</td>\n",
       "      <td>NaN</td>\n",
       "      <td>NaN</td>\n",
       "      <td>NaN</td>\n",
       "      <td>NaN</td>\n",
       "      <td>NaN</td>\n",
       "      <td>NaN</td>\n",
       "      <td>NaN</td>\n",
       "    </tr>\n",
       "    <tr>\n",
       "      <th>4</th>\n",
       "      <td>Mason Adams</td>\n",
       "      <td>4/2/2025</td>\n",
       "      <td>CHW</td>\n",
       "      <td>AAA</td>\n",
       "      <td>P</td>\n",
       "      <td>R</td>\n",
       "      <td>United States</td>\n",
       "      <td>Florida</td>\n",
       "      <td>Jacksonville</td>\n",
       "      <td>25.0</td>\n",
       "      <td>NaN</td>\n",
       "      <td>NaN</td>\n",
       "      <td>690279.0</td>\n",
       "      <td>sa3020388</td>\n",
       "      <td>Dr. Keith Meister</td>\n",
       "      <td>0</td>\n",
       "      <td>0.0</td>\n",
       "      <td>1</td>\n",
       "      <td>2025</td>\n",
       "      <td>4</td>\n",
       "      <td>2</td>\n",
       "      <td>NaN</td>\n",
       "      <td>NaN</td>\n",
       "      <td>NaN</td>\n",
       "      <td>NaN</td>\n",
       "      <td>NaN</td>\n",
       "      <td>NaN</td>\n",
       "      <td>NaN</td>\n",
       "      <td>NaN</td>\n",
       "      <td>NaN</td>\n",
       "      <td>NaN</td>\n",
       "      <td>NaN</td>\n",
       "      <td>NaN</td>\n",
       "      <td>NaN</td>\n",
       "      <td>NaN</td>\n",
       "      <td>NaN</td>\n",
       "      <td>NaN</td>\n",
       "      <td>NaN</td>\n",
       "      <td>NaN</td>\n",
       "      <td>NaN</td>\n",
       "      <td>NaN</td>\n",
       "      <td>NaN</td>\n",
       "    </tr>\n",
       "  </tbody>\n",
       "</table>\n",
       "</div>"
      ],
      "text/plain": [
       "          Player TJ Surgery Date Team Level Position Throws        Country  \\\n",
       "0   Casey Saucke        5/1/2025  CHW     A       OF      R  United States   \n",
       "1   Sem Robberse        5/1/2025  STL   AAA        P      R    Netherlands   \n",
       "2  Justin Steele       4/18/2025  CHC   MLB        P      L  United States   \n",
       "3        DJ Herz       4/16/2025  WAS   MLB        P      L  United States   \n",
       "4    Mason Adams        4/2/2025  CHW   AAA        P      R  United States   \n",
       "\n",
       "      High School    College(s)   Age Return Date (same level)  \\\n",
       "0        New York      Virginia  21.0                      NaN   \n",
       "1             NaN           NaN  23.0                      NaN   \n",
       "2     Mississippi           NaN  29.0                      NaN   \n",
       "3  North Carolina           NaN  24.0                      NaN   \n",
       "4         Florida  Jacksonville  25.0                      NaN   \n",
       "\n",
       "   Recovery Time (months)   mlbamid       fgid         Surgeon(s)  \\\n",
       "0                     NaN  695565.0  sa3025382                NaN   \n",
       "1                     NaN  691828.0  sa3011735                NaN   \n",
       "2                     NaN  657006.0      17312  Dr. Keith Meister   \n",
       "3                     NaN  687792.0      26389  Dr. Keith Meister   \n",
       "4                     NaN  690279.0  sa3020388  Dr. Keith Meister   \n",
       "\n",
       "   Post-TJ MLB G Post-TJ MLB IP/PA  Active  Year  Month  Day  \\\n",
       "0              0               0.0       1  2025      5    1   \n",
       "1              0               0.0       1  2025      5    1   \n",
       "2              0               0.0       1  2025      4   18   \n",
       "3              0               0.0       1  2025      4   16   \n",
       "4              0               0.0       1  2025      4    2   \n",
       "\n",
       "  Started\\nThrowing Mound Bullpen Live\\nHitters Game Setback Setback Type  \\\n",
       "0               NaN   NaN     NaN           NaN  NaN     NaN          NaN   \n",
       "1               NaN   NaN     NaN           NaN  NaN     NaN          NaN   \n",
       "2               NaN   NaN     NaN           NaN  NaN     NaN          NaN   \n",
       "3               NaN   NaN     NaN           NaN  NaN     NaN          NaN   \n",
       "4               NaN   NaN     NaN           NaN  NaN     NaN          NaN   \n",
       "\n",
       "  Setback.1 Setback Type.1   G  GS  IP K-BB%  ERA-  FIP-  G.1  GS.1  IP.1  \\\n",
       "0       NaN            NaN NaN NaN NaN   NaN   NaN   NaN  NaN   NaN   NaN   \n",
       "1       NaN            NaN NaN NaN NaN   NaN   NaN   NaN  NaN   NaN   NaN   \n",
       "2       NaN            NaN NaN NaN NaN   NaN   NaN   NaN  NaN   NaN   NaN   \n",
       "3       NaN            NaN NaN NaN NaN   NaN   NaN   NaN  NaN   NaN   NaN   \n",
       "4       NaN            NaN NaN NaN NaN   NaN   NaN   NaN  NaN   NaN   NaN   \n",
       "\n",
       "  K-BB%.1  ERA-.1  FIP-.1  \n",
       "0     NaN     NaN     NaN  \n",
       "1     NaN     NaN     NaN  \n",
       "2     NaN     NaN     NaN  \n",
       "3     NaN     NaN     NaN  \n",
       "4     NaN     NaN     NaN  "
      ]
     },
     "metadata": {},
     "output_type": "display_data"
    }
   ],
   "source": [
    "from pathlib import Path\n",
    "\n",
    "base_path = Path(__file__).resolve().parents[1] if \"__file__\" in globals() else Path.cwd().parents[0]\n",
    "\n",
    "pitchers_path = base_path / \"data\" / \"pitchers_2021_2023_full.csv\"\n",
    "tj_path = base_path / \"data\" / \"Tommy John Surgery List.csv\"\n",
    "\n",
    "pitchers_df = pd.read_csv(pitchers_path)\n",
    "tj_df = pd.read_csv(tj_path, header=1)\n",
    "\n",
    "display(pitchers_df.head())\n",
    "display(tj_df.head())"
   ]
  },
  {
   "cell_type": "code",
   "execution_count": 4,
   "metadata": {
    "application/vnd.databricks.v1+cell": {
     "cellMetadata": {
      "byteLimit": 2048000,
      "rowLimit": 10000
     },
     "inputWidgets": {},
     "nuid": "4a97b9e7-cc35-4579-be27-e45b4a11d3ae",
     "showTitle": false,
     "tableResultSettingsMap": {},
     "title": ""
    }
   },
   "outputs": [],
   "source": [
    "# remove all but relevant columns for had_tj column in joined table\n",
    "tj_df = tj_df[['Player', 'TJ Surgery Date']].copy()\n",
    "tj_df.columns = ['Name', 'TJ_Surgery_Date']\n",
    "tj_df['Name'] = tj_df['Name'].str.strip().str.lower()"
   ]
  },
  {
   "cell_type": "code",
   "execution_count": 5,
   "metadata": {
    "application/vnd.databricks.v1+cell": {
     "cellMetadata": {
      "byteLimit": 2048000,
      "rowLimit": 10000
     },
     "inputWidgets": {},
     "nuid": "50157d45-31b3-4deb-80b3-e69175b035ce",
     "showTitle": false,
     "tableResultSettingsMap": {},
     "title": ""
    }
   },
   "outputs": [
    {
     "data": {
      "text/html": [
       "<div>\n",
       "<style scoped>\n",
       "    .dataframe tbody tr th:only-of-type {\n",
       "        vertical-align: middle;\n",
       "    }\n",
       "\n",
       "    .dataframe tbody tr th {\n",
       "        vertical-align: top;\n",
       "    }\n",
       "\n",
       "    .dataframe thead th {\n",
       "        text-align: right;\n",
       "    }\n",
       "</style>\n",
       "<table border=\"1\" class=\"dataframe\">\n",
       "  <thead>\n",
       "    <tr style=\"text-align: right;\">\n",
       "      <th></th>\n",
       "      <th>IDfg</th>\n",
       "      <th>Season</th>\n",
       "      <th>Name</th>\n",
       "      <th>Team</th>\n",
       "      <th>Age</th>\n",
       "      <th>W</th>\n",
       "      <th>L</th>\n",
       "      <th>WAR</th>\n",
       "      <th>ERA</th>\n",
       "      <th>G</th>\n",
       "      <th>GS</th>\n",
       "      <th>CG</th>\n",
       "      <th>ShO</th>\n",
       "      <th>SV</th>\n",
       "      <th>BS</th>\n",
       "      <th>IP</th>\n",
       "      <th>TBF</th>\n",
       "      <th>H</th>\n",
       "      <th>R</th>\n",
       "      <th>ER</th>\n",
       "      <th>HR</th>\n",
       "      <th>BB</th>\n",
       "      <th>IBB</th>\n",
       "      <th>HBP</th>\n",
       "      <th>WP</th>\n",
       "      <th>BK</th>\n",
       "      <th>SO</th>\n",
       "      <th>GB</th>\n",
       "      <th>FB</th>\n",
       "      <th>LD</th>\n",
       "      <th>IFFB</th>\n",
       "      <th>Balls</th>\n",
       "      <th>Strikes</th>\n",
       "      <th>Pitches</th>\n",
       "      <th>RS</th>\n",
       "      <th>IFH</th>\n",
       "      <th>BU</th>\n",
       "      <th>BUH</th>\n",
       "      <th>K/9</th>\n",
       "      <th>BB/9</th>\n",
       "      <th>K/BB</th>\n",
       "      <th>H/9</th>\n",
       "      <th>HR/9</th>\n",
       "      <th>AVG</th>\n",
       "      <th>WHIP</th>\n",
       "      <th>BABIP</th>\n",
       "      <th>LOB%</th>\n",
       "      <th>FIP</th>\n",
       "      <th>GB/FB</th>\n",
       "      <th>LD%</th>\n",
       "      <th>...</th>\n",
       "      <th>botStf SI</th>\n",
       "      <th>botCmd SI</th>\n",
       "      <th>botOvr SL</th>\n",
       "      <th>botStf SL</th>\n",
       "      <th>botCmd SL</th>\n",
       "      <th>botOvr KC</th>\n",
       "      <th>botStf KC</th>\n",
       "      <th>botCmd KC</th>\n",
       "      <th>botOvr FC</th>\n",
       "      <th>botStf FC</th>\n",
       "      <th>botCmd FC</th>\n",
       "      <th>botOvr FS</th>\n",
       "      <th>botStf FS</th>\n",
       "      <th>botCmd FS</th>\n",
       "      <th>botOvr</th>\n",
       "      <th>botStf</th>\n",
       "      <th>botCmd</th>\n",
       "      <th>botxRV100</th>\n",
       "      <th>Stf+ CH</th>\n",
       "      <th>Loc+ CH</th>\n",
       "      <th>Pit+ CH</th>\n",
       "      <th>Stf+ CU</th>\n",
       "      <th>Loc+ CU</th>\n",
       "      <th>Pit+ CU</th>\n",
       "      <th>Stf+ FA</th>\n",
       "      <th>Loc+ FA</th>\n",
       "      <th>Pit+ FA</th>\n",
       "      <th>Stf+ SI</th>\n",
       "      <th>Loc+ SI</th>\n",
       "      <th>Pit+ SI</th>\n",
       "      <th>Stf+ SL</th>\n",
       "      <th>Loc+ SL</th>\n",
       "      <th>Pit+ SL</th>\n",
       "      <th>Stf+ KC</th>\n",
       "      <th>Loc+ KC</th>\n",
       "      <th>Pit+ KC</th>\n",
       "      <th>Stf+ FC</th>\n",
       "      <th>Loc+ FC</th>\n",
       "      <th>Pit+ FC</th>\n",
       "      <th>Stf+ FS</th>\n",
       "      <th>Loc+ FS</th>\n",
       "      <th>Pit+ FS</th>\n",
       "      <th>Stuff+</th>\n",
       "      <th>Location+</th>\n",
       "      <th>Pitching+</th>\n",
       "      <th>Stf+ FO</th>\n",
       "      <th>Loc+ FO</th>\n",
       "      <th>Pit+ FO</th>\n",
       "      <th>Name_clean</th>\n",
       "      <th>had_tj</th>\n",
       "    </tr>\n",
       "  </thead>\n",
       "  <tbody>\n",
       "    <tr>\n",
       "      <th>1</th>\n",
       "      <td>10310</td>\n",
       "      <td>2021</td>\n",
       "      <td>Zack Wheeler</td>\n",
       "      <td>PHI</td>\n",
       "      <td>31</td>\n",
       "      <td>14</td>\n",
       "      <td>10</td>\n",
       "      <td>7.2</td>\n",
       "      <td>2.78</td>\n",
       "      <td>32</td>\n",
       "      <td>32</td>\n",
       "      <td>3</td>\n",
       "      <td>2</td>\n",
       "      <td>0</td>\n",
       "      <td>0</td>\n",
       "      <td>213.1</td>\n",
       "      <td>849</td>\n",
       "      <td>169</td>\n",
       "      <td>72</td>\n",
       "      <td>66</td>\n",
       "      <td>16</td>\n",
       "      <td>46</td>\n",
       "      <td>1</td>\n",
       "      <td>8</td>\n",
       "      <td>6</td>\n",
       "      <td>0</td>\n",
       "      <td>247</td>\n",
       "      <td>268</td>\n",
       "      <td>148</td>\n",
       "      <td>122</td>\n",
       "      <td>19</td>\n",
       "      <td>1041</td>\n",
       "      <td>2164</td>\n",
       "      <td>3205</td>\n",
       "      <td>87</td>\n",
       "      <td>11</td>\n",
       "      <td>10</td>\n",
       "      <td>1</td>\n",
       "      <td>10.42</td>\n",
       "      <td>1.94</td>\n",
       "      <td>5.37</td>\n",
       "      <td>7.13</td>\n",
       "      <td>0.68</td>\n",
       "      <td>0.213</td>\n",
       "      <td>1.01</td>\n",
       "      <td>0.288</td>\n",
       "      <td>0.753</td>\n",
       "      <td>2.59</td>\n",
       "      <td>1.81</td>\n",
       "      <td>0.227</td>\n",
       "      <td>...</td>\n",
       "      <td>69.0</td>\n",
       "      <td>59.0</td>\n",
       "      <td>NaN</td>\n",
       "      <td>NaN</td>\n",
       "      <td>NaN</td>\n",
       "      <td>NaN</td>\n",
       "      <td>NaN</td>\n",
       "      <td>NaN</td>\n",
       "      <td>59.0</td>\n",
       "      <td>67.0</td>\n",
       "      <td>56.0</td>\n",
       "      <td>80.0</td>\n",
       "      <td>65.0</td>\n",
       "      <td>80.0</td>\n",
       "      <td>70.0</td>\n",
       "      <td>64.0</td>\n",
       "      <td>64.0</td>\n",
       "      <td>-1.12</td>\n",
       "      <td>80.0</td>\n",
       "      <td>106.0</td>\n",
       "      <td>87.0</td>\n",
       "      <td>118.0</td>\n",
       "      <td>96.0</td>\n",
       "      <td>107.0</td>\n",
       "      <td>123.0</td>\n",
       "      <td>104.0</td>\n",
       "      <td>122.0</td>\n",
       "      <td>133.0</td>\n",
       "      <td>104.0</td>\n",
       "      <td>140.0</td>\n",
       "      <td>NaN</td>\n",
       "      <td>NaN</td>\n",
       "      <td>NaN</td>\n",
       "      <td>NaN</td>\n",
       "      <td>NaN</td>\n",
       "      <td>NaN</td>\n",
       "      <td>110.0</td>\n",
       "      <td>105.0</td>\n",
       "      <td>115.0</td>\n",
       "      <td>NaN</td>\n",
       "      <td>NaN</td>\n",
       "      <td>NaN</td>\n",
       "      <td>119</td>\n",
       "      <td>103</td>\n",
       "      <td>121</td>\n",
       "      <td>NaN</td>\n",
       "      <td>NaN</td>\n",
       "      <td>NaN</td>\n",
       "      <td>zack wheeler</td>\n",
       "      <td>1</td>\n",
       "    </tr>\n",
       "    <tr>\n",
       "      <th>2</th>\n",
       "      <td>9132</td>\n",
       "      <td>2021</td>\n",
       "      <td>Nathan Eovaldi</td>\n",
       "      <td>BOS</td>\n",
       "      <td>31</td>\n",
       "      <td>11</td>\n",
       "      <td>9</td>\n",
       "      <td>5.7</td>\n",
       "      <td>3.75</td>\n",
       "      <td>32</td>\n",
       "      <td>32</td>\n",
       "      <td>0</td>\n",
       "      <td>0</td>\n",
       "      <td>0</td>\n",
       "      <td>0</td>\n",
       "      <td>182.1</td>\n",
       "      <td>764</td>\n",
       "      <td>182</td>\n",
       "      <td>81</td>\n",
       "      <td>76</td>\n",
       "      <td>15</td>\n",
       "      <td>35</td>\n",
       "      <td>2</td>\n",
       "      <td>7</td>\n",
       "      <td>6</td>\n",
       "      <td>0</td>\n",
       "      <td>195</td>\n",
       "      <td>220</td>\n",
       "      <td>182</td>\n",
       "      <td>122</td>\n",
       "      <td>21</td>\n",
       "      <td>908</td>\n",
       "      <td>2019</td>\n",
       "      <td>2927</td>\n",
       "      <td>118</td>\n",
       "      <td>21</td>\n",
       "      <td>3</td>\n",
       "      <td>0</td>\n",
       "      <td>9.63</td>\n",
       "      <td>1.73</td>\n",
       "      <td>5.57</td>\n",
       "      <td>8.98</td>\n",
       "      <td>0.74</td>\n",
       "      <td>0.252</td>\n",
       "      <td>1.19</td>\n",
       "      <td>0.326</td>\n",
       "      <td>0.704</td>\n",
       "      <td>2.79</td>\n",
       "      <td>1.21</td>\n",
       "      <td>0.233</td>\n",
       "      <td>...</td>\n",
       "      <td>NaN</td>\n",
       "      <td>NaN</td>\n",
       "      <td>61.0</td>\n",
       "      <td>46.0</td>\n",
       "      <td>63.0</td>\n",
       "      <td>NaN</td>\n",
       "      <td>NaN</td>\n",
       "      <td>NaN</td>\n",
       "      <td>76.0</td>\n",
       "      <td>52.0</td>\n",
       "      <td>79.0</td>\n",
       "      <td>59.0</td>\n",
       "      <td>59.0</td>\n",
       "      <td>52.0</td>\n",
       "      <td>67.0</td>\n",
       "      <td>52.0</td>\n",
       "      <td>67.0</td>\n",
       "      <td>-0.90</td>\n",
       "      <td>NaN</td>\n",
       "      <td>NaN</td>\n",
       "      <td>NaN</td>\n",
       "      <td>111.0</td>\n",
       "      <td>102.0</td>\n",
       "      <td>106.0</td>\n",
       "      <td>105.0</td>\n",
       "      <td>109.0</td>\n",
       "      <td>112.0</td>\n",
       "      <td>NaN</td>\n",
       "      <td>NaN</td>\n",
       "      <td>NaN</td>\n",
       "      <td>112.0</td>\n",
       "      <td>110.0</td>\n",
       "      <td>121.0</td>\n",
       "      <td>NaN</td>\n",
       "      <td>NaN</td>\n",
       "      <td>NaN</td>\n",
       "      <td>104.0</td>\n",
       "      <td>121.0</td>\n",
       "      <td>130.0</td>\n",
       "      <td>125.0</td>\n",
       "      <td>88.0</td>\n",
       "      <td>108.0</td>\n",
       "      <td>109</td>\n",
       "      <td>107</td>\n",
       "      <td>114</td>\n",
       "      <td>NaN</td>\n",
       "      <td>NaN</td>\n",
       "      <td>NaN</td>\n",
       "      <td>nathan eovaldi</td>\n",
       "      <td>1</td>\n",
       "    </tr>\n",
       "    <tr>\n",
       "      <th>3</th>\n",
       "      <td>19374</td>\n",
       "      <td>2021</td>\n",
       "      <td>Walker Buehler</td>\n",
       "      <td>LAD</td>\n",
       "      <td>26</td>\n",
       "      <td>16</td>\n",
       "      <td>4</td>\n",
       "      <td>5.6</td>\n",
       "      <td>2.47</td>\n",
       "      <td>33</td>\n",
       "      <td>33</td>\n",
       "      <td>0</td>\n",
       "      <td>0</td>\n",
       "      <td>0</td>\n",
       "      <td>0</td>\n",
       "      <td>207.2</td>\n",
       "      <td>815</td>\n",
       "      <td>149</td>\n",
       "      <td>61</td>\n",
       "      <td>57</td>\n",
       "      <td>19</td>\n",
       "      <td>52</td>\n",
       "      <td>2</td>\n",
       "      <td>6</td>\n",
       "      <td>5</td>\n",
       "      <td>0</td>\n",
       "      <td>212</td>\n",
       "      <td>238</td>\n",
       "      <td>189</td>\n",
       "      <td>106</td>\n",
       "      <td>22</td>\n",
       "      <td>1032</td>\n",
       "      <td>2120</td>\n",
       "      <td>3152</td>\n",
       "      <td>123</td>\n",
       "      <td>13</td>\n",
       "      <td>12</td>\n",
       "      <td>3</td>\n",
       "      <td>9.19</td>\n",
       "      <td>2.25</td>\n",
       "      <td>4.08</td>\n",
       "      <td>6.46</td>\n",
       "      <td>0.82</td>\n",
       "      <td>0.197</td>\n",
       "      <td>0.97</td>\n",
       "      <td>0.247</td>\n",
       "      <td>0.809</td>\n",
       "      <td>3.16</td>\n",
       "      <td>1.26</td>\n",
       "      <td>0.199</td>\n",
       "      <td>...</td>\n",
       "      <td>48.0</td>\n",
       "      <td>53.0</td>\n",
       "      <td>71.0</td>\n",
       "      <td>65.0</td>\n",
       "      <td>62.0</td>\n",
       "      <td>48.0</td>\n",
       "      <td>53.0</td>\n",
       "      <td>47.0</td>\n",
       "      <td>64.0</td>\n",
       "      <td>62.0</td>\n",
       "      <td>61.0</td>\n",
       "      <td>NaN</td>\n",
       "      <td>NaN</td>\n",
       "      <td>NaN</td>\n",
       "      <td>63.0</td>\n",
       "      <td>59.0</td>\n",
       "      <td>59.0</td>\n",
       "      <td>-0.70</td>\n",
       "      <td>98.0</td>\n",
       "      <td>106.0</td>\n",
       "      <td>99.0</td>\n",
       "      <td>NaN</td>\n",
       "      <td>NaN</td>\n",
       "      <td>NaN</td>\n",
       "      <td>111.0</td>\n",
       "      <td>98.0</td>\n",
       "      <td>108.0</td>\n",
       "      <td>95.0</td>\n",
       "      <td>102.0</td>\n",
       "      <td>101.0</td>\n",
       "      <td>133.0</td>\n",
       "      <td>104.0</td>\n",
       "      <td>129.0</td>\n",
       "      <td>110.0</td>\n",
       "      <td>90.0</td>\n",
       "      <td>94.0</td>\n",
       "      <td>109.0</td>\n",
       "      <td>109.0</td>\n",
       "      <td>126.0</td>\n",
       "      <td>NaN</td>\n",
       "      <td>NaN</td>\n",
       "      <td>NaN</td>\n",
       "      <td>112</td>\n",
       "      <td>100</td>\n",
       "      <td>111</td>\n",
       "      <td>NaN</td>\n",
       "      <td>NaN</td>\n",
       "      <td>NaN</td>\n",
       "      <td>walker buehler</td>\n",
       "      <td>1</td>\n",
       "    </tr>\n",
       "    <tr>\n",
       "      <th>5</th>\n",
       "      <td>13125</td>\n",
       "      <td>2021</td>\n",
       "      <td>Gerrit Cole</td>\n",
       "      <td>NYY</td>\n",
       "      <td>30</td>\n",
       "      <td>16</td>\n",
       "      <td>8</td>\n",
       "      <td>5.2</td>\n",
       "      <td>3.23</td>\n",
       "      <td>30</td>\n",
       "      <td>30</td>\n",
       "      <td>2</td>\n",
       "      <td>1</td>\n",
       "      <td>0</td>\n",
       "      <td>0</td>\n",
       "      <td>181.1</td>\n",
       "      <td>726</td>\n",
       "      <td>151</td>\n",
       "      <td>69</td>\n",
       "      <td>65</td>\n",
       "      <td>24</td>\n",
       "      <td>41</td>\n",
       "      <td>0</td>\n",
       "      <td>2</td>\n",
       "      <td>5</td>\n",
       "      <td>1</td>\n",
       "      <td>243</td>\n",
       "      <td>189</td>\n",
       "      <td>178</td>\n",
       "      <td>72</td>\n",
       "      <td>17</td>\n",
       "      <td>994</td>\n",
       "      <td>1975</td>\n",
       "      <td>2969</td>\n",
       "      <td>99</td>\n",
       "      <td>12</td>\n",
       "      <td>1</td>\n",
       "      <td>1</td>\n",
       "      <td>12.06</td>\n",
       "      <td>2.03</td>\n",
       "      <td>5.93</td>\n",
       "      <td>7.49</td>\n",
       "      <td>1.19</td>\n",
       "      <td>0.221</td>\n",
       "      <td>1.06</td>\n",
       "      <td>0.305</td>\n",
       "      <td>0.779</td>\n",
       "      <td>2.92</td>\n",
       "      <td>1.06</td>\n",
       "      <td>0.164</td>\n",
       "      <td>...</td>\n",
       "      <td>71.0</td>\n",
       "      <td>70.0</td>\n",
       "      <td>56.0</td>\n",
       "      <td>63.0</td>\n",
       "      <td>50.0</td>\n",
       "      <td>62.0</td>\n",
       "      <td>55.0</td>\n",
       "      <td>62.0</td>\n",
       "      <td>NaN</td>\n",
       "      <td>NaN</td>\n",
       "      <td>NaN</td>\n",
       "      <td>NaN</td>\n",
       "      <td>NaN</td>\n",
       "      <td>NaN</td>\n",
       "      <td>70.0</td>\n",
       "      <td>67.0</td>\n",
       "      <td>61.0</td>\n",
       "      <td>-1.10</td>\n",
       "      <td>83.0</td>\n",
       "      <td>120.0</td>\n",
       "      <td>110.0</td>\n",
       "      <td>NaN</td>\n",
       "      <td>NaN</td>\n",
       "      <td>NaN</td>\n",
       "      <td>126.0</td>\n",
       "      <td>107.0</td>\n",
       "      <td>132.0</td>\n",
       "      <td>134.0</td>\n",
       "      <td>126.0</td>\n",
       "      <td>161.0</td>\n",
       "      <td>127.0</td>\n",
       "      <td>91.0</td>\n",
       "      <td>115.0</td>\n",
       "      <td>115.0</td>\n",
       "      <td>108.0</td>\n",
       "      <td>121.0</td>\n",
       "      <td>NaN</td>\n",
       "      <td>NaN</td>\n",
       "      <td>NaN</td>\n",
       "      <td>NaN</td>\n",
       "      <td>NaN</td>\n",
       "      <td>NaN</td>\n",
       "      <td>118</td>\n",
       "      <td>105</td>\n",
       "      <td>123</td>\n",
       "      <td>NaN</td>\n",
       "      <td>NaN</td>\n",
       "      <td>NaN</td>\n",
       "      <td>gerrit cole</td>\n",
       "      <td>1</td>\n",
       "    </tr>\n",
       "    <tr>\n",
       "      <th>7</th>\n",
       "      <td>16137</td>\n",
       "      <td>2021</td>\n",
       "      <td>Carlos Rodon</td>\n",
       "      <td>CHW</td>\n",
       "      <td>28</td>\n",
       "      <td>13</td>\n",
       "      <td>5</td>\n",
       "      <td>5.0</td>\n",
       "      <td>2.37</td>\n",
       "      <td>24</td>\n",
       "      <td>24</td>\n",
       "      <td>1</td>\n",
       "      <td>1</td>\n",
       "      <td>0</td>\n",
       "      <td>0</td>\n",
       "      <td>132.2</td>\n",
       "      <td>534</td>\n",
       "      <td>91</td>\n",
       "      <td>39</td>\n",
       "      <td>35</td>\n",
       "      <td>13</td>\n",
       "      <td>36</td>\n",
       "      <td>1</td>\n",
       "      <td>8</td>\n",
       "      <td>7</td>\n",
       "      <td>0</td>\n",
       "      <td>185</td>\n",
       "      <td>113</td>\n",
       "      <td>135</td>\n",
       "      <td>52</td>\n",
       "      <td>18</td>\n",
       "      <td>757</td>\n",
       "      <td>1462</td>\n",
       "      <td>2219</td>\n",
       "      <td>78</td>\n",
       "      <td>14</td>\n",
       "      <td>4</td>\n",
       "      <td>2</td>\n",
       "      <td>12.55</td>\n",
       "      <td>2.44</td>\n",
       "      <td>5.14</td>\n",
       "      <td>6.17</td>\n",
       "      <td>0.88</td>\n",
       "      <td>0.186</td>\n",
       "      <td>0.96</td>\n",
       "      <td>0.267</td>\n",
       "      <td>0.822</td>\n",
       "      <td>2.65</td>\n",
       "      <td>0.84</td>\n",
       "      <td>0.173</td>\n",
       "      <td>...</td>\n",
       "      <td>NaN</td>\n",
       "      <td>NaN</td>\n",
       "      <td>52.0</td>\n",
       "      <td>58.0</td>\n",
       "      <td>45.0</td>\n",
       "      <td>NaN</td>\n",
       "      <td>NaN</td>\n",
       "      <td>NaN</td>\n",
       "      <td>NaN</td>\n",
       "      <td>NaN</td>\n",
       "      <td>NaN</td>\n",
       "      <td>NaN</td>\n",
       "      <td>NaN</td>\n",
       "      <td>NaN</td>\n",
       "      <td>63.0</td>\n",
       "      <td>62.0</td>\n",
       "      <td>58.0</td>\n",
       "      <td>-0.69</td>\n",
       "      <td>99.0</td>\n",
       "      <td>95.0</td>\n",
       "      <td>98.0</td>\n",
       "      <td>89.0</td>\n",
       "      <td>100.0</td>\n",
       "      <td>99.0</td>\n",
       "      <td>105.0</td>\n",
       "      <td>105.0</td>\n",
       "      <td>115.0</td>\n",
       "      <td>NaN</td>\n",
       "      <td>NaN</td>\n",
       "      <td>NaN</td>\n",
       "      <td>133.0</td>\n",
       "      <td>93.0</td>\n",
       "      <td>112.0</td>\n",
       "      <td>NaN</td>\n",
       "      <td>NaN</td>\n",
       "      <td>NaN</td>\n",
       "      <td>NaN</td>\n",
       "      <td>NaN</td>\n",
       "      <td>NaN</td>\n",
       "      <td>NaN</td>\n",
       "      <td>NaN</td>\n",
       "      <td>NaN</td>\n",
       "      <td>112</td>\n",
       "      <td>100</td>\n",
       "      <td>112</td>\n",
       "      <td>NaN</td>\n",
       "      <td>NaN</td>\n",
       "      <td>NaN</td>\n",
       "      <td>carlos rodon</td>\n",
       "      <td>1</td>\n",
       "    </tr>\n",
       "  </tbody>\n",
       "</table>\n",
       "<p>5 rows × 395 columns</p>\n",
       "</div>"
      ],
      "text/plain": [
       "    IDfg  Season            Name Team  Age   W   L  WAR   ERA   G  GS  CG  \\\n",
       "1  10310    2021    Zack Wheeler  PHI   31  14  10  7.2  2.78  32  32   3   \n",
       "2   9132    2021  Nathan Eovaldi  BOS   31  11   9  5.7  3.75  32  32   0   \n",
       "3  19374    2021  Walker Buehler  LAD   26  16   4  5.6  2.47  33  33   0   \n",
       "5  13125    2021     Gerrit Cole  NYY   30  16   8  5.2  3.23  30  30   2   \n",
       "7  16137    2021    Carlos Rodon  CHW   28  13   5  5.0  2.37  24  24   1   \n",
       "\n",
       "   ShO  SV  BS     IP  TBF    H   R  ER  HR  BB  IBB  HBP  WP  BK   SO   GB  \\\n",
       "1    2   0   0  213.1  849  169  72  66  16  46    1    8   6   0  247  268   \n",
       "2    0   0   0  182.1  764  182  81  76  15  35    2    7   6   0  195  220   \n",
       "3    0   0   0  207.2  815  149  61  57  19  52    2    6   5   0  212  238   \n",
       "5    1   0   0  181.1  726  151  69  65  24  41    0    2   5   1  243  189   \n",
       "7    1   0   0  132.2  534   91  39  35  13  36    1    8   7   0  185  113   \n",
       "\n",
       "    FB   LD  IFFB  Balls  Strikes  Pitches   RS  IFH  BU  BUH    K/9  BB/9  \\\n",
       "1  148  122    19   1041     2164     3205   87   11  10    1  10.42  1.94   \n",
       "2  182  122    21    908     2019     2927  118   21   3    0   9.63  1.73   \n",
       "3  189  106    22   1032     2120     3152  123   13  12    3   9.19  2.25   \n",
       "5  178   72    17    994     1975     2969   99   12   1    1  12.06  2.03   \n",
       "7  135   52    18    757     1462     2219   78   14   4    2  12.55  2.44   \n",
       "\n",
       "   K/BB   H/9  HR/9    AVG  WHIP  BABIP   LOB%   FIP  GB/FB    LD%  ...  \\\n",
       "1  5.37  7.13  0.68  0.213  1.01  0.288  0.753  2.59   1.81  0.227  ...   \n",
       "2  5.57  8.98  0.74  0.252  1.19  0.326  0.704  2.79   1.21  0.233  ...   \n",
       "3  4.08  6.46  0.82  0.197  0.97  0.247  0.809  3.16   1.26  0.199  ...   \n",
       "5  5.93  7.49  1.19  0.221  1.06  0.305  0.779  2.92   1.06  0.164  ...   \n",
       "7  5.14  6.17  0.88  0.186  0.96  0.267  0.822  2.65   0.84  0.173  ...   \n",
       "\n",
       "   botStf SI  botCmd SI  botOvr SL  botStf SL  botCmd SL  botOvr KC  \\\n",
       "1       69.0       59.0        NaN        NaN        NaN        NaN   \n",
       "2        NaN        NaN       61.0       46.0       63.0        NaN   \n",
       "3       48.0       53.0       71.0       65.0       62.0       48.0   \n",
       "5       71.0       70.0       56.0       63.0       50.0       62.0   \n",
       "7        NaN        NaN       52.0       58.0       45.0        NaN   \n",
       "\n",
       "   botStf KC  botCmd KC  botOvr FC  botStf FC  botCmd FC botOvr FS  botStf FS  \\\n",
       "1        NaN        NaN       59.0       67.0       56.0      80.0       65.0   \n",
       "2        NaN        NaN       76.0       52.0       79.0      59.0       59.0   \n",
       "3       53.0       47.0       64.0       62.0       61.0       NaN        NaN   \n",
       "5       55.0       62.0        NaN        NaN        NaN       NaN        NaN   \n",
       "7        NaN        NaN        NaN        NaN        NaN       NaN        NaN   \n",
       "\n",
       "   botCmd FS  botOvr  botStf  botCmd  botxRV100  Stf+ CH  Loc+ CH  Pit+ CH  \\\n",
       "1       80.0    70.0    64.0    64.0      -1.12     80.0    106.0     87.0   \n",
       "2       52.0    67.0    52.0    67.0      -0.90      NaN      NaN      NaN   \n",
       "3        NaN    63.0    59.0    59.0      -0.70     98.0    106.0     99.0   \n",
       "5        NaN    70.0    67.0    61.0      -1.10     83.0    120.0    110.0   \n",
       "7        NaN    63.0    62.0    58.0      -0.69     99.0     95.0     98.0   \n",
       "\n",
       "   Stf+ CU  Loc+ CU  Pit+ CU  Stf+ FA  Loc+ FA  Pit+ FA  Stf+ SI  Loc+ SI  \\\n",
       "1    118.0     96.0    107.0    123.0    104.0    122.0    133.0    104.0   \n",
       "2    111.0    102.0    106.0    105.0    109.0    112.0      NaN      NaN   \n",
       "3      NaN      NaN      NaN    111.0     98.0    108.0     95.0    102.0   \n",
       "5      NaN      NaN      NaN    126.0    107.0    132.0    134.0    126.0   \n",
       "7     89.0    100.0     99.0    105.0    105.0    115.0      NaN      NaN   \n",
       "\n",
       "   Pit+ SI  Stf+ SL  Loc+ SL  Pit+ SL  Stf+ KC  Loc+ KC  Pit+ KC  Stf+ FC  \\\n",
       "1    140.0      NaN      NaN      NaN      NaN      NaN      NaN    110.0   \n",
       "2      NaN    112.0    110.0    121.0      NaN      NaN      NaN    104.0   \n",
       "3    101.0    133.0    104.0    129.0    110.0     90.0     94.0    109.0   \n",
       "5    161.0    127.0     91.0    115.0    115.0    108.0    121.0      NaN   \n",
       "7      NaN    133.0     93.0    112.0      NaN      NaN      NaN      NaN   \n",
       "\n",
       "   Loc+ FC  Pit+ FC  Stf+ FS  Loc+ FS  Pit+ FS  Stuff+  Location+  Pitching+  \\\n",
       "1    105.0    115.0      NaN      NaN      NaN     119        103        121   \n",
       "2    121.0    130.0    125.0     88.0    108.0     109        107        114   \n",
       "3    109.0    126.0      NaN      NaN      NaN     112        100        111   \n",
       "5      NaN      NaN      NaN      NaN      NaN     118        105        123   \n",
       "7      NaN      NaN      NaN      NaN      NaN     112        100        112   \n",
       "\n",
       "   Stf+ FO  Loc+ FO  Pit+ FO      Name_clean  had_tj  \n",
       "1      NaN      NaN      NaN    zack wheeler       1  \n",
       "2      NaN      NaN      NaN  nathan eovaldi       1  \n",
       "3      NaN      NaN      NaN  walker buehler       1  \n",
       "5      NaN      NaN      NaN     gerrit cole       1  \n",
       "7      NaN      NaN      NaN    carlos rodon       1  \n",
       "\n",
       "[5 rows x 395 columns]"
      ]
     },
     "metadata": {},
     "output_type": "display_data"
    }
   ],
   "source": [
    "# entity resolution\n",
    "pitchers_df['Name_clean'] = pitchers_df['Name'].str.strip().str.lower()\n",
    "tj_df['Name_clean'] = tj_df['Name'].str.strip().str.lower()\n",
    "\n",
    "# binary label for TJ surgery\n",
    "pitchers_df['had_tj'] = pitchers_df['Name_clean'].isin(tj_df['Name']).astype(int)\n",
    "display(pitchers_df[pitchers_df['had_tj'] == 1].head())"
   ]
  },
  {
   "cell_type": "code",
   "execution_count": 6,
   "metadata": {
    "application/vnd.databricks.v1+cell": {
     "cellMetadata": {
      "byteLimit": 2048000,
      "rowLimit": 10000
     },
     "inputWidgets": {},
     "nuid": "a62b23e3-df02-4b3c-aa1a-99ba03d9876e",
     "showTitle": false,
     "tableResultSettingsMap": {},
     "title": ""
    }
   },
   "outputs": [
    {
     "data": {
      "text/html": [
       "<div>\n",
       "<style scoped>\n",
       "    .dataframe tbody tr th:only-of-type {\n",
       "        vertical-align: middle;\n",
       "    }\n",
       "\n",
       "    .dataframe tbody tr th {\n",
       "        vertical-align: top;\n",
       "    }\n",
       "\n",
       "    .dataframe thead th {\n",
       "        text-align: right;\n",
       "    }\n",
       "</style>\n",
       "<table border=\"1\" class=\"dataframe\">\n",
       "  <thead>\n",
       "    <tr style=\"text-align: right;\">\n",
       "      <th></th>\n",
       "      <th>Name</th>\n",
       "      <th>Season</th>\n",
       "      <th>had_tj</th>\n",
       "      <th>TJ_Surgery_Date</th>\n",
       "    </tr>\n",
       "  </thead>\n",
       "  <tbody>\n",
       "    <tr>\n",
       "      <th>0</th>\n",
       "      <td>Corbin Burnes</td>\n",
       "      <td>2021</td>\n",
       "      <td>0</td>\n",
       "      <td>NaN</td>\n",
       "    </tr>\n",
       "    <tr>\n",
       "      <th>1</th>\n",
       "      <td>Zack Wheeler</td>\n",
       "      <td>2021</td>\n",
       "      <td>1</td>\n",
       "      <td>3/25/2015</td>\n",
       "    </tr>\n",
       "    <tr>\n",
       "      <th>2</th>\n",
       "      <td>Nathan Eovaldi</td>\n",
       "      <td>2021</td>\n",
       "      <td>1</td>\n",
       "      <td>8/19/2016</td>\n",
       "    </tr>\n",
       "    <tr>\n",
       "      <th>3</th>\n",
       "      <td>Nathan Eovaldi</td>\n",
       "      <td>2021</td>\n",
       "      <td>1</td>\n",
       "      <td>5/27/2007</td>\n",
       "    </tr>\n",
       "    <tr>\n",
       "      <th>4</th>\n",
       "      <td>Walker Buehler</td>\n",
       "      <td>2021</td>\n",
       "      <td>1</td>\n",
       "      <td>8/23/2022</td>\n",
       "    </tr>\n",
       "    <tr>\n",
       "      <th>5</th>\n",
       "      <td>Walker Buehler</td>\n",
       "      <td>2021</td>\n",
       "      <td>1</td>\n",
       "      <td>8/5/2015</td>\n",
       "    </tr>\n",
       "    <tr>\n",
       "      <th>6</th>\n",
       "      <td>Max Scherzer</td>\n",
       "      <td>2021</td>\n",
       "      <td>0</td>\n",
       "      <td>NaN</td>\n",
       "    </tr>\n",
       "    <tr>\n",
       "      <th>7</th>\n",
       "      <td>Gerrit Cole</td>\n",
       "      <td>2021</td>\n",
       "      <td>1</td>\n",
       "      <td>3/11/2025</td>\n",
       "    </tr>\n",
       "    <tr>\n",
       "      <th>8</th>\n",
       "      <td>Julio Urias</td>\n",
       "      <td>2021</td>\n",
       "      <td>0</td>\n",
       "      <td>NaN</td>\n",
       "    </tr>\n",
       "    <tr>\n",
       "      <th>9</th>\n",
       "      <td>Carlos Rodon</td>\n",
       "      <td>2021</td>\n",
       "      <td>1</td>\n",
       "      <td>5/15/2019</td>\n",
       "    </tr>\n",
       "  </tbody>\n",
       "</table>\n",
       "</div>"
      ],
      "text/plain": [
       "             Name  Season  had_tj TJ_Surgery_Date\n",
       "0   Corbin Burnes    2021       0             NaN\n",
       "1    Zack Wheeler    2021       1       3/25/2015\n",
       "2  Nathan Eovaldi    2021       1       8/19/2016\n",
       "3  Nathan Eovaldi    2021       1       5/27/2007\n",
       "4  Walker Buehler    2021       1       8/23/2022\n",
       "5  Walker Buehler    2021       1        8/5/2015\n",
       "6    Max Scherzer    2021       0             NaN\n",
       "7     Gerrit Cole    2021       1       3/11/2025\n",
       "8     Julio Urias    2021       0             NaN\n",
       "9    Carlos Rodon    2021       1       5/15/2019"
      ]
     },
     "metadata": {},
     "output_type": "display_data"
    }
   ],
   "source": [
    "merged_df = pd.merge(pitchers_df, tj_df[['Name_clean', 'TJ_Surgery_Date']], on='Name_clean', how='left')\n",
    "\n",
    "# had_tj is 1 if date is present for surjery, otherwise 0\n",
    "merged_df['had_tj'] = merged_df['TJ_Surgery_Date'].notna().astype(int)\n",
    "display(merged_df[['Name', 'Season', 'had_tj', 'TJ_Surgery_Date']].head(10))"
   ]
  },
  {
   "cell_type": "markdown",
   "metadata": {
    "application/vnd.databricks.v1+cell": {
     "cellMetadata": {
      "byteLimit": 2048000,
      "rowLimit": 10000
     },
     "inputWidgets": {},
     "nuid": "ffbfa713-f05f-498c-8516-7a0c2a6f1c92",
     "showTitle": false,
     "tableResultSettingsMap": {},
     "title": ""
    }
   },
   "source": [
    "## Feature Engineering: Injury-Relevant Variables"
   ]
  },
  {
   "cell_type": "markdown",
   "metadata": {
    "application/vnd.databricks.v1+cell": {
     "cellMetadata": {
      "byteLimit": 2048000,
      "rowLimit": 10000
     },
     "inputWidgets": {},
     "nuid": "b9fecc21-ff29-426e-890b-b3cbc1637658",
     "showTitle": false,
     "tableResultSettingsMap": {},
     "title": ""
    }
   },
   "source": [
    "I wanted to engineer a feature for the entropy of a pitcher's pitch selection. If a pitcher uses a more balanced pitch selection, the value will be higher. I will use the Shannon entropy formula."
   ]
  },
  {
   "cell_type": "code",
   "execution_count": 7,
   "metadata": {
    "application/vnd.databricks.v1+cell": {
     "cellMetadata": {
      "byteLimit": 2048000,
      "rowLimit": 10000
     },
     "inputWidgets": {},
     "nuid": "cec33e4e-d8eb-4c2d-a255-a2b730e839aa",
     "showTitle": false,
     "tableResultSettingsMap": {},
     "title": ""
    }
   },
   "outputs": [
    {
     "data": {
      "text/html": [
       "<div>\n",
       "<style scoped>\n",
       "    .dataframe tbody tr th:only-of-type {\n",
       "        vertical-align: middle;\n",
       "    }\n",
       "\n",
       "    .dataframe tbody tr th {\n",
       "        vertical-align: top;\n",
       "    }\n",
       "\n",
       "    .dataframe thead th {\n",
       "        text-align: right;\n",
       "    }\n",
       "</style>\n",
       "<table border=\"1\" class=\"dataframe\">\n",
       "  <thead>\n",
       "    <tr style=\"text-align: right;\">\n",
       "      <th></th>\n",
       "      <th>Name</th>\n",
       "      <th>pitch_entropy</th>\n",
       "      <th>FB%</th>\n",
       "      <th>SL%</th>\n",
       "      <th>CT%</th>\n",
       "      <th>CB%</th>\n",
       "      <th>CH%</th>\n",
       "      <th>SF%</th>\n",
       "      <th>KN%</th>\n",
       "    </tr>\n",
       "  </thead>\n",
       "  <tbody>\n",
       "    <tr>\n",
       "      <th>1773</th>\n",
       "      <td>Kohei Arihara</td>\n",
       "      <td>2.294941</td>\n",
       "      <td>0.247</td>\n",
       "      <td>0.144</td>\n",
       "      <td>0.256</td>\n",
       "      <td>0.003</td>\n",
       "      <td>0.187</td>\n",
       "      <td>0.133</td>\n",
       "      <td>NaN</td>\n",
       "    </tr>\n",
       "    <tr>\n",
       "      <th>1897</th>\n",
       "      <td>Chris Bassitt</td>\n",
       "      <td>2.228846</td>\n",
       "      <td>0.377</td>\n",
       "      <td>0.139</td>\n",
       "      <td>0.149</td>\n",
       "      <td>0.126</td>\n",
       "      <td>0.066</td>\n",
       "      <td>0.033</td>\n",
       "      <td>NaN</td>\n",
       "    </tr>\n",
       "    <tr>\n",
       "      <th>889</th>\n",
       "      <td>Josh Lindblom</td>\n",
       "      <td>2.228011</td>\n",
       "      <td>0.473</td>\n",
       "      <td>0.129</td>\n",
       "      <td>0.158</td>\n",
       "      <td>0.120</td>\n",
       "      <td>0.123</td>\n",
       "      <td>0.050</td>\n",
       "      <td>NaN</td>\n",
       "    </tr>\n",
       "    <tr>\n",
       "      <th>1919</th>\n",
       "      <td>Joe Musgrove</td>\n",
       "      <td>2.226335</td>\n",
       "      <td>0.328</td>\n",
       "      <td>0.145</td>\n",
       "      <td>0.198</td>\n",
       "      <td>0.239</td>\n",
       "      <td>0.114</td>\n",
       "      <td>NaN</td>\n",
       "      <td>NaN</td>\n",
       "    </tr>\n",
       "    <tr>\n",
       "      <th>930</th>\n",
       "      <td>Kohei Arihara</td>\n",
       "      <td>2.218734</td>\n",
       "      <td>0.385</td>\n",
       "      <td>0.178</td>\n",
       "      <td>0.126</td>\n",
       "      <td>0.024</td>\n",
       "      <td>0.128</td>\n",
       "      <td>0.082</td>\n",
       "      <td>NaN</td>\n",
       "    </tr>\n",
       "  </tbody>\n",
       "</table>\n",
       "</div>"
      ],
      "text/plain": [
       "               Name  pitch_entropy    FB%    SL%    CT%    CB%    CH%    SF%  \\\n",
       "1773  Kohei Arihara       2.294941  0.247  0.144  0.256  0.003  0.187  0.133   \n",
       "1897  Chris Bassitt       2.228846  0.377  0.139  0.149  0.126  0.066  0.033   \n",
       "889   Josh Lindblom       2.228011  0.473  0.129  0.158  0.120  0.123  0.050   \n",
       "1919   Joe Musgrove       2.226335  0.328  0.145  0.198  0.239  0.114    NaN   \n",
       "930   Kohei Arihara       2.218734  0.385  0.178  0.126  0.024  0.128  0.082   \n",
       "\n",
       "      KN%  \n",
       "1773  NaN  \n",
       "1897  NaN  \n",
       "889   NaN  \n",
       "1919  NaN  \n",
       "930   NaN  "
      ]
     },
     "execution_count": 7,
     "metadata": {},
     "output_type": "execute_result"
    }
   ],
   "source": [
    "# feature engineering to create pitch_entropy feature (pitch diversity)\n",
    "pitch_cols = ['FB%', 'SL%', 'CT%', 'CB%', 'CH%', 'SF%', 'KN%']\n",
    "for col in pitch_cols:\n",
    "    merged_df[col] = pd.to_numeric(merged_df[col], errors='coerce')\n",
    "    \n",
    "# normalizing percentages and applying entropy eq\n",
    "merged_df['pitch_entropy'] = merged_df[pitch_cols].div(\n",
    "    merged_df[pitch_cols].sum(axis=1), axis=0\n",
    ").apply(lambda row: -(row * np.log2(row + 1e-9)).sum(), axis=1)\n",
    "\n",
    "merged_df[['Name', 'pitch_entropy', *pitch_cols]].sort_values('pitch_entropy', ascending=False).head()"
   ]
  },
  {
   "cell_type": "markdown",
   "metadata": {
    "application/vnd.databricks.v1+cell": {
     "cellMetadata": {
      "byteLimit": 2048000,
      "rowLimit": 10000
     },
     "inputWidgets": {},
     "nuid": "ead82459-5768-4be8-9c8c-ddf7d12ff8d3",
     "showTitle": false,
     "tableResultSettingsMap": {},
     "title": ""
    }
   },
   "source": [
    "More feature engineering: I will use the velocity columns (ex: 'FBv'), weighed by the usage percentage for that pitch, to generate a feature for average pitch velocity across pitch type. In early analysis, I found that the percentages often added to more than 100% due to Statcast tagging one pitch as multiple types when confused. So, I normalized the weights and created a function, compute_weighted_velocity, that computes a weighted average pitch velocity per pitcher per season using normalized usage percentages."
   ]
  },
  {
   "cell_type": "code",
   "execution_count": 8,
   "metadata": {
    "application/vnd.databricks.v1+cell": {
     "cellMetadata": {
      "byteLimit": 2048000,
      "rowLimit": 10000
     },
     "inputWidgets": {},
     "nuid": "40eb8a07-b754-407d-a9d3-29bb6dad994f",
     "showTitle": false,
     "tableResultSettingsMap": {},
     "title": ""
    }
   },
   "outputs": [
    {
     "data": {
      "text/html": [
       "<div>\n",
       "<style scoped>\n",
       "    .dataframe tbody tr th:only-of-type {\n",
       "        vertical-align: middle;\n",
       "    }\n",
       "\n",
       "    .dataframe tbody tr th {\n",
       "        vertical-align: top;\n",
       "    }\n",
       "\n",
       "    .dataframe thead th {\n",
       "        text-align: right;\n",
       "    }\n",
       "</style>\n",
       "<table border=\"1\" class=\"dataframe\">\n",
       "  <thead>\n",
       "    <tr style=\"text-align: right;\">\n",
       "      <th></th>\n",
       "      <th>Name</th>\n",
       "      <th>Season</th>\n",
       "      <th>avg_pitch_velocity</th>\n",
       "    </tr>\n",
       "  </thead>\n",
       "  <tbody>\n",
       "    <tr>\n",
       "      <th>2525</th>\n",
       "      <td>Ben Joyce</td>\n",
       "      <td>2023</td>\n",
       "      <td>98.119000</td>\n",
       "    </tr>\n",
       "    <tr>\n",
       "      <th>847</th>\n",
       "      <td>Jose Alvarado</td>\n",
       "      <td>2021</td>\n",
       "      <td>98.098300</td>\n",
       "    </tr>\n",
       "    <tr>\n",
       "      <th>75</th>\n",
       "      <td>Emmanuel Clase</td>\n",
       "      <td>2021</td>\n",
       "      <td>97.728629</td>\n",
       "    </tr>\n",
       "    <tr>\n",
       "      <th>757</th>\n",
       "      <td>Julian Fernandez</td>\n",
       "      <td>2021</td>\n",
       "      <td>97.506200</td>\n",
       "    </tr>\n",
       "    <tr>\n",
       "      <th>493</th>\n",
       "      <td>Javy Guerra</td>\n",
       "      <td>2021</td>\n",
       "      <td>97.365900</td>\n",
       "    </tr>\n",
       "    <tr>\n",
       "      <th>2026</th>\n",
       "      <td>Jhoan Duran</td>\n",
       "      <td>2023</td>\n",
       "      <td>96.961261</td>\n",
       "    </tr>\n",
       "    <tr>\n",
       "      <th>1044</th>\n",
       "      <td>Jose Alvarado</td>\n",
       "      <td>2022</td>\n",
       "      <td>96.929400</td>\n",
       "    </tr>\n",
       "    <tr>\n",
       "      <th>2420</th>\n",
       "      <td>Hagen Danner</td>\n",
       "      <td>2023</td>\n",
       "      <td>96.900000</td>\n",
       "    </tr>\n",
       "    <tr>\n",
       "      <th>2028</th>\n",
       "      <td>Jordan Hicks</td>\n",
       "      <td>2023</td>\n",
       "      <td>96.883500</td>\n",
       "    </tr>\n",
       "    <tr>\n",
       "      <th>1169</th>\n",
       "      <td>Brusdar Graterol</td>\n",
       "      <td>2022</td>\n",
       "      <td>96.765800</td>\n",
       "    </tr>\n",
       "  </tbody>\n",
       "</table>\n",
       "</div>"
      ],
      "text/plain": [
       "                  Name  Season  avg_pitch_velocity\n",
       "2525         Ben Joyce    2023           98.119000\n",
       "847      Jose Alvarado    2021           98.098300\n",
       "75      Emmanuel Clase    2021           97.728629\n",
       "757   Julian Fernandez    2021           97.506200\n",
       "493        Javy Guerra    2021           97.365900\n",
       "2026       Jhoan Duran    2023           96.961261\n",
       "1044     Jose Alvarado    2022           96.929400\n",
       "2420      Hagen Danner    2023           96.900000\n",
       "2028      Jordan Hicks    2023           96.883500\n",
       "1169  Brusdar Graterol    2022           96.765800"
      ]
     },
     "metadata": {},
     "output_type": "display_data"
    }
   ],
   "source": [
    "# generating pitch pairs\n",
    "pitch_pairs = [\n",
    "    ('FA% (sc)', 'vFA (sc)'),  # Four-seam fastball\n",
    "    ('FT% (sc)', 'vFT (sc)'),  # Two-seam fastball\n",
    "    ('SI% (sc)', 'vSI (sc)'),  # Sinker\n",
    "    ('FC% (sc)', 'vFC (sc)'),  # Cutter\n",
    "    ('FS% (sc)', 'vFS (sc)'),  # Splitter\n",
    "    ('FO% (sc)', 'vFO (sc)'),  # Forkball\n",
    "    ('SL% (sc)', 'vSL (sc)'),  # Slider\n",
    "    ('CU% (sc)', 'vCU (sc)'),  # Curveball\n",
    "    ('KC% (sc)', 'vKC (sc)'),  # Knuckle curve\n",
    "    ('CH% (sc)', 'vCH (sc)'),  # Changeup\n",
    "    ('SC% (sc)', 'vSC (sc)'),  # Screwball\n",
    "    ('EP% (sc)', 'vEP (sc)'),  # Eephus\n",
    "    ('KN% (sc)', 'vKN (sc)')   # Knuckleball\n",
    "]\n",
    "# numeric coercion\n",
    "for pct_col, vel_col in pitch_pairs:\n",
    "    merged_df[pct_col] = pd.to_numeric(merged_df[pct_col], errors='coerce').fillna(0)\n",
    "    merged_df[vel_col] = pd.to_numeric(merged_df[vel_col], errors='coerce').fillna(0)\n",
    "    if merged_df[pct_col].max() > 1.0:\n",
    "        merged_df[pct_col] = merged_df[pct_col] / 100.0\n",
    "\n",
    "# Normalize weights to sum to 1\n",
    "total_pct = sum(merged_df[pct] for pct, _ in pitch_pairs)\n",
    "weights = {pct: merged_df[pct] / total_pct for pct, _ in pitch_pairs}\n",
    "\n",
    "def compute_weighted_velocity(row):\n",
    "    total = 0\n",
    "    weight_sum = 0\n",
    "    for pct_col, vel_col in pitch_pairs:\n",
    "        p = row[pct_col]\n",
    "        v = row[vel_col]\n",
    "        total += p * v\n",
    "        weight_sum += p\n",
    "    return total / weight_sum if weight_sum > 0 else np.nan\n",
    "\n",
    "merged_df['avg_pitch_velocity'] = merged_df.apply(compute_weighted_velocity, axis=1)\n",
    "\n",
    "display(\n",
    "    merged_df[[\n",
    "        'Name', 'Season', 'avg_pitch_velocity',\n",
    "    ]].sort_values(by='avg_pitch_velocity', ascending=False).head(10)\n",
    ")\n"
   ]
  },
  {
   "cell_type": "markdown",
   "metadata": {
    "application/vnd.databricks.v1+cell": {
     "cellMetadata": {
      "byteLimit": 2048000,
      "rowLimit": 10000
     },
     "inputWidgets": {},
     "nuid": "6709d9da-3ff5-411e-85c3-e58eeb16002f",
     "showTitle": false,
     "tableResultSettingsMap": {},
     "title": ""
    }
   },
   "source": [
    "Verification: Burnes was initially calculated to have an over 110 MPH average pitch velocity."
   ]
  },
  {
   "cell_type": "code",
   "execution_count": 9,
   "metadata": {
    "application/vnd.databricks.v1+cell": {
     "cellMetadata": {
      "byteLimit": 2048000,
      "rowLimit": 10000
     },
     "inputWidgets": {},
     "nuid": "c7a9ca6b-85fc-468e-af0c-fa420440c405",
     "showTitle": false,
     "tableResultSettingsMap": {},
     "title": ""
    }
   },
   "outputs": [
    {
     "data": {
      "text/html": [
       "<div>\n",
       "<style scoped>\n",
       "    .dataframe tbody tr th:only-of-type {\n",
       "        vertical-align: middle;\n",
       "    }\n",
       "\n",
       "    .dataframe tbody tr th {\n",
       "        vertical-align: top;\n",
       "    }\n",
       "\n",
       "    .dataframe thead th {\n",
       "        text-align: right;\n",
       "    }\n",
       "</style>\n",
       "<table border=\"1\" class=\"dataframe\">\n",
       "  <thead>\n",
       "    <tr style=\"text-align: right;\">\n",
       "      <th></th>\n",
       "      <th>Name</th>\n",
       "      <th>Season</th>\n",
       "      <th>avg_pitch_velocity</th>\n",
       "    </tr>\n",
       "  </thead>\n",
       "  <tbody>\n",
       "    <tr>\n",
       "      <th>0</th>\n",
       "      <td>Corbin Burnes</td>\n",
       "      <td>2021</td>\n",
       "      <td>91.708292</td>\n",
       "    </tr>\n",
       "    <tr>\n",
       "      <th>955</th>\n",
       "      <td>Corbin Burnes</td>\n",
       "      <td>2022</td>\n",
       "      <td>91.534100</td>\n",
       "    </tr>\n",
       "    <tr>\n",
       "      <th>1871</th>\n",
       "      <td>Corbin Burnes</td>\n",
       "      <td>2023</td>\n",
       "      <td>90.683784</td>\n",
       "    </tr>\n",
       "  </tbody>\n",
       "</table>\n",
       "</div>"
      ],
      "text/plain": [
       "               Name  Season  avg_pitch_velocity\n",
       "0     Corbin Burnes    2021           91.708292\n",
       "955   Corbin Burnes    2022           91.534100\n",
       "1871  Corbin Burnes    2023           90.683784"
      ]
     },
     "metadata": {},
     "output_type": "display_data"
    }
   ],
   "source": [
    "burnes = merged_df[merged_df['Name'].str.contains(\"Burnes\", case=False)]\n",
    "display(burnes[[\n",
    "    'Name', 'Season', 'avg_pitch_velocity',\n",
    "]])\n"
   ]
  },
  {
   "cell_type": "code",
   "execution_count": 10,
   "metadata": {
    "application/vnd.databricks.v1+cell": {
     "cellMetadata": {
      "byteLimit": 2048000,
      "rowLimit": 10000
     },
     "inputWidgets": {},
     "nuid": "86c94b24-6ab0-465f-928d-77ad83449957",
     "showTitle": false,
     "tableResultSettingsMap": {},
     "title": ""
    }
   },
   "outputs": [],
   "source": [
    "# innings pitched per game\n",
    "merged_df['IP_per_G'] = merged_df['IP'] / merged_df['G']\n",
    "\n",
    "# pitches per inning pitched\n",
    "merged_df['Pitches_per_IP'] = merged_df['Pitches'] / merged_df['IP']\n",
    "\n",
    "# fastball usage deviation\n",
    "league_avg_fb = merged_df['FB%'].mean()\n",
    "merged_df['FB_dev'] = abs(merged_df['FB%'] - league_avg_fb)\n",
    "\n",
    "# cleaning zone%\n",
    "merged_df['Zone%'] = pd.to_numeric(merged_df['Zone%'], errors='coerce')"
   ]
  },
  {
   "cell_type": "code",
   "execution_count": 11,
   "metadata": {
    "application/vnd.databricks.v1+cell": {
     "cellMetadata": {
      "byteLimit": 2048000,
      "rowLimit": 10000
     },
     "inputWidgets": {},
     "nuid": "18685fc4-988b-4bba-8352-a0bc1b7fd47c",
     "showTitle": false,
     "tableResultSettingsMap": {},
     "title": ""
    }
   },
   "outputs": [
    {
     "data": {
      "text/html": [
       "<div>\n",
       "<style scoped>\n",
       "    .dataframe tbody tr th:only-of-type {\n",
       "        vertical-align: middle;\n",
       "    }\n",
       "\n",
       "    .dataframe tbody tr th {\n",
       "        vertical-align: top;\n",
       "    }\n",
       "\n",
       "    .dataframe thead th {\n",
       "        text-align: right;\n",
       "    }\n",
       "</style>\n",
       "<table border=\"1\" class=\"dataframe\">\n",
       "  <thead>\n",
       "    <tr style=\"text-align: right;\">\n",
       "      <th></th>\n",
       "      <th>pitch_entropy</th>\n",
       "      <th>IP</th>\n",
       "      <th>avg_pitch_velocity</th>\n",
       "      <th>IP_per_G</th>\n",
       "      <th>FB_dev</th>\n",
       "      <th>Zone%</th>\n",
       "      <th>FB_dev</th>\n",
       "      <th>had_tj</th>\n",
       "      <th>Pitches_per_IP</th>\n",
       "    </tr>\n",
       "  </thead>\n",
       "  <tbody>\n",
       "    <tr>\n",
       "      <th>0</th>\n",
       "      <td>2.015439</td>\n",
       "      <td>167.0</td>\n",
       "      <td>91.708292</td>\n",
       "      <td>5.964286</td>\n",
       "      <td>0.076996</td>\n",
       "      <td>0.389</td>\n",
       "      <td>0.076996</td>\n",
       "      <td>0</td>\n",
       "      <td>15.532934</td>\n",
       "    </tr>\n",
       "    <tr>\n",
       "      <th>1</th>\n",
       "      <td>1.735693</td>\n",
       "      <td>213.1</td>\n",
       "      <td>93.774675</td>\n",
       "      <td>6.659375</td>\n",
       "      <td>0.104996</td>\n",
       "      <td>0.439</td>\n",
       "      <td>0.104996</td>\n",
       "      <td>1</td>\n",
       "      <td>15.039887</td>\n",
       "    </tr>\n",
       "    <tr>\n",
       "      <th>2</th>\n",
       "      <td>2.190234</td>\n",
       "      <td>182.1</td>\n",
       "      <td>90.187113</td>\n",
       "      <td>5.690625</td>\n",
       "      <td>0.032996</td>\n",
       "      <td>0.476</td>\n",
       "      <td>0.032996</td>\n",
       "      <td>1</td>\n",
       "      <td>16.073586</td>\n",
       "    </tr>\n",
       "    <tr>\n",
       "      <th>3</th>\n",
       "      <td>2.190234</td>\n",
       "      <td>182.1</td>\n",
       "      <td>90.187113</td>\n",
       "      <td>5.690625</td>\n",
       "      <td>0.032996</td>\n",
       "      <td>0.476</td>\n",
       "      <td>0.032996</td>\n",
       "      <td>1</td>\n",
       "      <td>16.073586</td>\n",
       "    </tr>\n",
       "    <tr>\n",
       "      <th>4</th>\n",
       "      <td>2.075045</td>\n",
       "      <td>207.2</td>\n",
       "      <td>91.045245</td>\n",
       "      <td>6.278788</td>\n",
       "      <td>0.024996</td>\n",
       "      <td>0.440</td>\n",
       "      <td>0.024996</td>\n",
       "      <td>1</td>\n",
       "      <td>15.212355</td>\n",
       "    </tr>\n",
       "  </tbody>\n",
       "</table>\n",
       "</div>"
      ],
      "text/plain": [
       "   pitch_entropy     IP  avg_pitch_velocity  IP_per_G    FB_dev  Zone%  \\\n",
       "0       2.015439  167.0           91.708292  5.964286  0.076996  0.389   \n",
       "1       1.735693  213.1           93.774675  6.659375  0.104996  0.439   \n",
       "2       2.190234  182.1           90.187113  5.690625  0.032996  0.476   \n",
       "3       2.190234  182.1           90.187113  5.690625  0.032996  0.476   \n",
       "4       2.075045  207.2           91.045245  6.278788  0.024996  0.440   \n",
       "\n",
       "     FB_dev  had_tj  Pitches_per_IP  \n",
       "0  0.076996       0       15.532934  \n",
       "1  0.104996       1       15.039887  \n",
       "2  0.032996       1       16.073586  \n",
       "3  0.032996       1       16.073586  \n",
       "4  0.024996       1       15.212355  "
      ]
     },
     "metadata": {},
     "output_type": "display_data"
    }
   ],
   "source": [
    "features = [\n",
    "    'pitch_entropy', 'IP', 'avg_pitch_velocity', 'IP_per_G', 'FB_dev', 'Zone%', 'FB_dev', 'had_tj', 'Pitches_per_IP'\n",
    "]\n",
    "model_df = merged_df[features].dropna()\n",
    "display(model_df.head())"
   ]
  },
  {
   "cell_type": "markdown",
   "metadata": {
    "application/vnd.databricks.v1+cell": {
     "cellMetadata": {
      "byteLimit": 2048000,
      "rowLimit": 10000
     },
     "inputWidgets": {},
     "nuid": "801adbfc-8bfa-427d-804a-e97dbfc1bb68",
     "showTitle": false,
     "tableResultSettingsMap": {},
     "title": ""
    }
   },
   "source": [
    "## Exploratory Model Training\n"
   ]
  },
  {
   "cell_type": "code",
   "execution_count": 12,
   "metadata": {
    "application/vnd.databricks.v1+cell": {
     "cellMetadata": {
      "byteLimit": 2048000,
      "rowLimit": 10000
     },
     "inputWidgets": {},
     "nuid": "f8013345-e8eb-440d-8b0d-54c8d7cd741b",
     "showTitle": false,
     "tableResultSettingsMap": {},
     "title": ""
    }
   },
   "outputs": [],
   "source": [
    "# interpolation\n",
    "merged_df['Pitches_per_IP'] = merged_df['Pitches_per_IP'].replace([np.inf, -np.inf], np.nan)\n",
    "merged_df['Pitches_per_IP'] = merged_df['Pitches_per_IP'].fillna(merged_df['Pitches_per_IP'].mean())"
   ]
  },
  {
   "cell_type": "markdown",
   "metadata": {
    "application/vnd.databricks.v1+cell": {
     "cellMetadata": {
      "byteLimit": 2048000,
      "rowLimit": 10000
     },
     "inputWidgets": {},
     "nuid": "348514a7-5327-4e07-bfe7-7a80c05b2654",
     "showTitle": false,
     "tableResultSettingsMap": {},
     "title": ""
    }
   },
   "source": [
    "Overall, our first models are better than baseline chances, but we are still missing many injuries, so we will move on to identify which features are most driving predictions."
   ]
  },
  {
   "cell_type": "markdown",
   "metadata": {
    "application/vnd.databricks.v1+cell": {
     "cellMetadata": {
      "byteLimit": 2048000,
      "rowLimit": 10000
     },
     "inputWidgets": {},
     "nuid": "9123ba1b-65cf-4435-a2c9-38b53d9620dd",
     "showTitle": false,
     "tableResultSettingsMap": {},
     "title": ""
    }
   },
   "source": [
    "We will remove ineffective and redunandant features (FBv, IP, BB/9, and Zone%), and engineer more relevant features. It seems that our engineered features outperform basic measures."
   ]
  },
  {
   "cell_type": "markdown",
   "metadata": {
    "application/vnd.databricks.v1+cell": {
     "cellMetadata": {
      "byteLimit": 2048000,
      "rowLimit": 10000
     },
     "inputWidgets": {},
     "nuid": "38b9c616-680b-4cbc-8c81-becb04333cba",
     "showTitle": false,
     "tableResultSettingsMap": {},
     "title": ""
    }
   },
   "source": [
    "## More Feature Engineering"
   ]
  },
  {
   "cell_type": "code",
   "execution_count": 13,
   "metadata": {
    "application/vnd.databricks.v1+cell": {
     "cellMetadata": {
      "byteLimit": 2048000,
      "rowLimit": 10000
     },
     "inputWidgets": {},
     "nuid": "4036bf48-2e08-4f68-aad3-46f046338c8b",
     "showTitle": false,
     "tableResultSettingsMap": {},
     "title": ""
    }
   },
   "outputs": [],
   "source": [
    "merged_df['velocity_load'] = merged_df['avg_pitch_velocity'] * merged_df['IP']"
   ]
  },
  {
   "cell_type": "code",
   "execution_count": 14,
   "metadata": {
    "application/vnd.databricks.v1+cell": {
     "cellMetadata": {
      "byteLimit": 2048000,
      "rowLimit": 10000
     },
     "inputWidgets": {},
     "nuid": "846b4cb3-6366-4c06-9a9e-f3b6a902037d",
     "showTitle": false,
     "tableResultSettingsMap": {},
     "title": ""
    }
   },
   "outputs": [],
   "source": [
    "# features update placeholder\n",
    "#features = [\n",
    "    #'avg_pitch_velocity', 'FBv', 'pitch_entropy',\n",
    "    #'Pitches_per_IP', 'FB_dev', 'IP_per_G', 'SIERA', 'had_tj', 'HardHit%'\n",
    "#]\n",
    "\n",
    "features = [\n",
    "    'pitch_entropy', 'IP_per_G', 'Pitches_per_IP', 'had_tj', 'FBv', 'avg_pitch_velocity', 'IP'\n",
    "]\n",
    "\n",
    "# velo spread\n",
    "merged_df['velo_spread'] = merged_df[['FBv', 'CHv', 'CBv', 'SLv', 'CTv']].max(axis=1) - \\\n",
    "                           merged_df[['FBv', 'CHv', 'CBv', 'SLv', 'CTv']].min(axis=1)\n",
    "\n",
    "# fastballs (FA, CT, SF, SI) vs offspeed pitches ratio\n",
    "fastballs = merged_df[['FB%', 'CT%', 'SF%']].sum(axis=1)\n",
    "offspeeds = merged_df[['CH%', 'CB%', 'SL%', 'KN%']].sum(axis=1)\n",
    "merged_df['FB_to_OS_ratio'] = fastballs / (offspeeds + 1e-6)\n",
    "\n",
    "# avg_fastball_velocity\n",
    "fastball_pairs = [\n",
    "    ('FA% (sc)', 'vFA (sc)'),\n",
    "    ('FT% (sc)', 'vFT (sc)'),\n",
    "    ('SI% (sc)', 'vSI (sc)'),\n",
    "    ('FC% (sc)', 'vFC (sc)'),\n",
    "    ('FS% (sc)', 'vFS (sc)')\n",
    "]\n",
    "for pct, vel in fastball_pairs:\n",
    "    merged_df[pct] = pd.to_numeric(merged_df[pct], errors='coerce').fillna(0)\n",
    "    merged_df[vel] = pd.to_numeric(merged_df[vel], errors='coerce').fillna(0)\n",
    "# Normalize\n",
    "fb_total_pct = sum(merged_df[pct] for pct, _ in fastball_pairs)\n",
    "fb_weights = {pct: merged_df[pct] / fb_total_pct for pct, _ in fastball_pairs}\n",
    "# calculate function\n",
    "def compute_avg_fastball_velocity(row):\n",
    "    total = 0\n",
    "    weight_sum = 0\n",
    "    for pct, vel in fastball_pairs:\n",
    "        p = row[pct]\n",
    "        v = row[vel]\n",
    "        total += p * v\n",
    "        weight_sum += p\n",
    "    return total / weight_sum if weight_sum > 0 else np.nan\n",
    "merged_df['avg_fastball_velocity'] = merged_df.apply(compute_avg_fastball_velocity, axis=1)"
   ]
  },
  {
   "cell_type": "code",
   "execution_count": 15,
   "metadata": {
    "application/vnd.databricks.v1+cell": {
     "cellMetadata": {
      "byteLimit": 2048000,
      "rowLimit": 10000
     },
     "inputWidgets": {},
     "nuid": "2543d2d5-8c3e-47d5-9ac7-17a2c5e3bc22",
     "showTitle": false,
     "tableResultSettingsMap": {},
     "title": ""
    }
   },
   "outputs": [],
   "source": [
    "new_features = [\n",
    "    'pitch_entropy',\n",
    "    'avg_pitch_velocity',\n",
    "    'avg_fastball_velocity',\n",
    "    'velo_spread',        \n",
    "    'FB_dev',\n",
    "    'FB_to_OS_ratio',\n",
    "    'Pitches_per_IP',\n",
    "    'IP_per_G',\n",
    "    'had_tj'\n",
    "]"
   ]
  },
  {
   "cell_type": "markdown",
   "metadata": {
    "application/vnd.databricks.v1+cell": {
     "cellMetadata": {
      "byteLimit": 2048000,
      "rowLimit": 10000
     },
     "inputWidgets": {},
     "nuid": "2e03236d-0d14-4951-94d7-443fff9f361c",
     "showTitle": false,
     "tableResultSettingsMap": {},
     "title": ""
    }
   },
   "source": [
    "## Model Training (RF, XGBoost, kNN, OLS, GLM)"
   ]
  },
  {
   "cell_type": "markdown",
   "metadata": {
    "application/vnd.databricks.v1+cell": {
     "cellMetadata": {
      "byteLimit": 2048000,
      "rowLimit": 10000
     },
     "inputWidgets": {},
     "nuid": "4f8035f9-ef6c-4671-aca4-192db64b09db",
     "showTitle": false,
     "tableResultSettingsMap": {},
     "title": ""
    }
   },
   "source": [
    "Random Forest"
   ]
  },
  {
   "cell_type": "code",
   "execution_count": 16,
   "metadata": {
    "application/vnd.databricks.v1+cell": {
     "cellMetadata": {
      "byteLimit": 2048000,
      "rowLimit": 10000
     },
     "inputWidgets": {},
     "nuid": "389867fe-2687-4a19-bf18-5cccb87f897a",
     "showTitle": false,
     "tableResultSettingsMap": {},
     "title": ""
    }
   },
   "outputs": [
    {
     "name": "stdout",
     "output_type": "stream",
     "text": [
      "              precision    recall  f1-score   support\n",
      "\n",
      "           0       0.69      0.83      0.75       499\n",
      "           1       0.61      0.43      0.51       321\n",
      "\n",
      "    accuracy                           0.67       820\n",
      "   macro avg       0.65      0.63      0.63       820\n",
      "weighted avg       0.66      0.67      0.66       820\n",
      "\n"
     ]
    }
   ],
   "source": [
    "from sklearn.model_selection import train_test_split\n",
    "from sklearn.ensemble import RandomForestClassifier\n",
    "from sklearn.metrics import classification_report\n",
    "\n",
    "model_df = merged_df[features].dropna()\n",
    "\n",
    "X = model_df.drop(columns='had_tj')\n",
    "y = model_df['had_tj']\n",
    "\n",
    "X_train, X_test, y_train, y_test = train_test_split(\n",
    "    X, y, test_size=0.3, stratify=y, random_state=42\n",
    ")\n",
    "\n",
    "rf = RandomForestClassifier(\n",
    "    n_estimators=100,\n",
    "    random_state=42,\n",
    "    class_weight='balanced'  # needed because of low prevalence for injury\n",
    ")\n",
    "rf.fit(X_train, y_train)\n",
    "\n",
    "y_pred = rf.predict(X_test)\n",
    "print(classification_report(y_test, y_pred))"
   ]
  },
  {
   "cell_type": "code",
   "execution_count": 17,
   "metadata": {},
   "outputs": [
    {
     "data": {
      "text/plain": [
       "['rf_final_model.pkl']"
      ]
     },
     "execution_count": 17,
     "metadata": {},
     "output_type": "execute_result"
    }
   ],
   "source": [
    "import joblib\n",
    "\n",
    "joblib.dump(rf, 'rf_final_model.pkl')"
   ]
  },
  {
   "cell_type": "markdown",
   "metadata": {
    "application/vnd.databricks.v1+cell": {
     "cellMetadata": {
      "byteLimit": 2048000,
      "rowLimit": 10000
     },
     "inputWidgets": {},
     "nuid": "22a0a280-6c07-4c10-8d03-4c28eb9cb961",
     "showTitle": false,
     "tableResultSettingsMap": {},
     "title": ""
    }
   },
   "source": [
    "Our previous findings during the exploratory section motivated me to use an XGBoost model, since this would be useful for addressing class imbalances."
   ]
  },
  {
   "cell_type": "markdown",
   "metadata": {
    "application/vnd.databricks.v1+cell": {
     "cellMetadata": {
      "byteLimit": 2048000,
      "rowLimit": 10000
     },
     "inputWidgets": {},
     "nuid": "381454f3-1005-4b68-9125-25829f49a5d1",
     "showTitle": false,
     "tableResultSettingsMap": {},
     "title": ""
    }
   },
   "source": [
    "XGBoost (with scale_pos_weight)"
   ]
  },
  {
   "cell_type": "code",
   "execution_count": 18,
   "metadata": {
    "application/vnd.databricks.v1+cell": {
     "cellMetadata": {
      "byteLimit": 2048000,
      "rowLimit": 10000
     },
     "inputWidgets": {},
     "nuid": "a29d2a74-776f-467b-be88-bdcf333334ef",
     "showTitle": false,
     "tableResultSettingsMap": {},
     "title": ""
    }
   },
   "outputs": [],
   "source": [
    "# helper check for xgboost\n",
    "try:\n",
    "    import xgboost\n",
    "except ImportError:\n",
    "    raise ImportError(\"Missing dependency 'xgboost'. Install it with: %pip install xgboost\")\n"
   ]
  },
  {
   "cell_type": "code",
   "execution_count": 36,
   "metadata": {
    "application/vnd.databricks.v1+cell": {
     "cellMetadata": {
      "byteLimit": 2048000,
      "rowLimit": 10000
     },
     "inputWidgets": {},
     "nuid": "f29069e5-6271-4584-885a-1744a4b58252",
     "showTitle": false,
     "tableResultSettingsMap": {},
     "title": ""
    }
   },
   "outputs": [
    {
     "name": "stdout",
     "output_type": "stream",
     "text": [
      "              precision    recall  f1-score   support\n",
      "\n",
      "           0       0.68      0.68      0.68       499\n",
      "           1       0.50      0.50      0.50       321\n",
      "\n",
      "    accuracy                           0.61       820\n",
      "   macro avg       0.59      0.59      0.59       820\n",
      "weighted avg       0.61      0.61      0.61       820\n",
      "\n"
     ]
    },
    {
     "name": "stderr",
     "output_type": "stream",
     "text": [
      "c:\\Users\\natha\\AppData\\Local\\Programs\\Python\\Python313\\Lib\\site-packages\\xgboost\\training.py:183: UserWarning: [22:37:30] WARNING: C:\\actions-runner\\_work\\xgboost\\xgboost\\src\\learner.cc:738: \n",
      "Parameters: { \"use_label_encoder\" } are not used.\n",
      "\n",
      "  bst.update(dtrain, iteration=i, fobj=obj)\n"
     ]
    }
   ],
   "source": [
    "from xgboost import XGBClassifier\n",
    "\n",
    "scale_weight = y_train.value_counts()[0] / y_train.value_counts()[1]\n",
    "\n",
    "xgb = XGBClassifier(\n",
    "    use_label_encoder=False, eval_metric='logloss',\n",
    "    random_state=42, scale_pos_weight=scale_weight\n",
    ")\n",
    "xgb.fit(X_train, y_train)\n",
    "y_pred_xgb = xgb.predict(X_test)\n",
    "\n",
    "print(classification_report(y_test, y_pred_xgb))"
   ]
  },
  {
   "cell_type": "markdown",
   "metadata": {
    "application/vnd.databricks.v1+cell": {
     "cellMetadata": {
      "byteLimit": 2048000,
      "rowLimit": 10000
     },
     "inputWidgets": {},
     "nuid": "f9038edd-490f-4966-a81e-b9885b222ea1",
     "showTitle": false,
     "tableResultSettingsMap": {},
     "title": ""
    }
   },
   "source": [
    "Comparison w/ Logistic Regression"
   ]
  },
  {
   "cell_type": "markdown",
   "metadata": {
    "application/vnd.databricks.v1+cell": {
     "cellMetadata": {
      "byteLimit": 2048000,
      "rowLimit": 10000
     },
     "inputWidgets": {},
     "nuid": "8192d632-0136-45e2-9c39-ef972426788b",
     "showTitle": false,
     "tableResultSettingsMap": {},
     "title": ""
    }
   },
   "source": [
    "## Logistic Regression (Raw)"
   ]
  },
  {
   "cell_type": "code",
   "execution_count": 37,
   "metadata": {
    "application/vnd.databricks.v1+cell": {
     "cellMetadata": {
      "byteLimit": 2048000,
      "rowLimit": 10000
     },
     "inputWidgets": {},
     "nuid": "c3a89a04-920b-4f4c-9211-dabdaa989514",
     "showTitle": false,
     "tableResultSettingsMap": {},
     "title": ""
    }
   },
   "outputs": [
    {
     "name": "stdout",
     "output_type": "stream",
     "text": [
      "              precision    recall  f1-score   support\n",
      "\n",
      "           0       0.72      0.48      0.58       499\n",
      "           1       0.47      0.70      0.56       321\n",
      "\n",
      "    accuracy                           0.57       820\n",
      "   macro avg       0.59      0.59      0.57       820\n",
      "weighted avg       0.62      0.57      0.57       820\n",
      "\n"
     ]
    }
   ],
   "source": [
    "from sklearn.linear_model import LogisticRegression\n",
    "\n",
    "lr = LogisticRegression(max_iter=1000, class_weight='balanced')\n",
    "lr.fit(X_train, y_train)\n",
    "y_pred_lr = lr.predict(X_test)\n",
    "\n",
    "print(classification_report(y_test, y_pred_lr))"
   ]
  },
  {
   "cell_type": "code",
   "execution_count": 21,
   "metadata": {},
   "outputs": [
    {
     "data": {
      "text/plain": [
       "['logreg_final_model.pkl']"
      ]
     },
     "execution_count": 21,
     "metadata": {},
     "output_type": "execute_result"
    }
   ],
   "source": [
    "# dumping for api\n",
    "import joblib\n",
    "\n",
    "joblib.dump(lr, \"logreg_final_model.pkl\")"
   ]
  },
  {
   "cell_type": "markdown",
   "metadata": {
    "application/vnd.databricks.v1+cell": {
     "cellMetadata": {
      "byteLimit": 2048000,
      "rowLimit": 10000
     },
     "inputWidgets": {},
     "nuid": "ff9d318b-15c3-4561-911d-0bc9a5965ad5",
     "showTitle": false,
     "tableResultSettingsMap": {},
     "title": ""
    }
   },
   "source": [
    "Now I want to try two new kinds of models, k Nearest Neighbors (good for non parametric comparisons) and OLS (regression for binary target)"
   ]
  },
  {
   "cell_type": "code",
   "execution_count": 22,
   "metadata": {
    "application/vnd.databricks.v1+cell": {
     "cellMetadata": {
      "byteLimit": 2048000,
      "rowLimit": 10000
     },
     "inputWidgets": {},
     "nuid": "ab174b05-809b-4924-9132-a0d51a4d9ea3",
     "showTitle": false,
     "tableResultSettingsMap": {},
     "title": ""
    }
   },
   "outputs": [],
   "source": [
    "# standardization for kNN and OLS\n",
    "from sklearn.preprocessing import StandardScaler\n",
    "\n",
    "scaler = StandardScaler()\n",
    "X_scaled = scaler.fit_transform(X)\n",
    "\n",
    "X_train_scaled, X_test_scaled, y_train, y_test = train_test_split(\n",
    "    X_scaled, y, test_size=0.3, stratify=y, random_state=42\n",
    ")\n"
   ]
  },
  {
   "cell_type": "markdown",
   "metadata": {
    "application/vnd.databricks.v1+cell": {
     "cellMetadata": {
      "byteLimit": 2048000,
      "rowLimit": 10000
     },
     "inputWidgets": {},
     "nuid": "dc34e1a1-569b-455d-a4c7-52e9f4a3a449",
     "showTitle": false,
     "tableResultSettingsMap": {},
     "title": ""
    }
   },
   "source": [
    "kNN Classifier"
   ]
  },
  {
   "cell_type": "code",
   "execution_count": 23,
   "metadata": {
    "application/vnd.databricks.v1+cell": {
     "cellMetadata": {
      "byteLimit": 2048000,
      "rowLimit": 10000
     },
     "inputWidgets": {},
     "nuid": "77bc0ab0-e685-493d-8e73-729c7a62066c",
     "showTitle": false,
     "tableResultSettingsMap": {},
     "title": ""
    }
   },
   "outputs": [
    {
     "name": "stdout",
     "output_type": "stream",
     "text": [
      "              precision    recall  f1-score   support\n",
      "\n",
      "           0       0.67      0.75      0.71       499\n",
      "           1       0.52      0.42      0.47       321\n",
      "\n",
      "    accuracy                           0.62       820\n",
      "   macro avg       0.59      0.59      0.59       820\n",
      "weighted avg       0.61      0.62      0.61       820\n",
      "\n"
     ]
    }
   ],
   "source": [
    "from sklearn.neighbors import KNeighborsClassifier\n",
    "\n",
    "knn = KNeighborsClassifier(n_neighbors=5)  # tune later, done\n",
    "knn.fit(X_train_scaled, y_train)\n",
    "y_pred_knn = knn.predict(X_test_scaled)\n",
    "\n",
    "print(classification_report(y_test, y_pred_knn))\n"
   ]
  },
  {
   "cell_type": "markdown",
   "metadata": {
    "application/vnd.databricks.v1+cell": {
     "cellMetadata": {
      "byteLimit": 2048000,
      "rowLimit": 10000
     },
     "inputWidgets": {},
     "nuid": "09020dfd-c15c-49db-bfa0-201a14fcd41d",
     "showTitle": false,
     "tableResultSettingsMap": {},
     "title": ""
    }
   },
   "source": [
    "## Prelim Results and Visualizations"
   ]
  },
  {
   "cell_type": "markdown",
   "metadata": {
    "application/vnd.databricks.v1+cell": {
     "cellMetadata": {
      "byteLimit": 2048000,
      "rowLimit": 10000
     },
     "inputWidgets": {},
     "nuid": "11ed9d43-84dc-462a-bf51-5780a9f24652",
     "showTitle": false,
     "tableResultSettingsMap": {},
     "title": ""
    }
   },
   "source": [
    "Model Performance Summary"
   ]
  },
  {
   "cell_type": "code",
   "execution_count": 24,
   "metadata": {
    "application/vnd.databricks.v1+cell": {
     "cellMetadata": {
      "byteLimit": 2048000,
      "rowLimit": 10000
     },
     "inputWidgets": {},
     "nuid": "f9d21a47-5d34-4d17-b6b5-8613bf858fac",
     "showTitle": false,
     "tableResultSettingsMap": {},
     "title": ""
    }
   },
   "outputs": [
    {
     "data": {
      "image/png": "[encoded data removed]",
      "text/plain": [
       "<Figure size 1000x600 with 1 Axes>"
      ]
     },
     "metadata": {},
     "output_type": "display_data"
    }
   ],
   "source": [
    "import matplotlib.pyplot as plt\n",
    "import seaborn as sns\n",
    "\n",
    "performance_data = {\n",
    "    'Model': [\n",
    "        'Random Forest', 'XGBoost', 'Logistic Regression', 'kNN'\n",
    "    ],\n",
    "    'Recall (Injured)': [0.43, 0.5, 0.7, 0.42],\n",
    "    'F1-Score (Injured)': [0.51, 0.5, 0.56, 0.47],\n",
    "    'Accuracy': [0.67, 0.61, 0.57, 0.62]\n",
    "}\n",
    "df = pd.DataFrame(performance_data)\n",
    "df_melted = df.melt(id_vars=\"Model\", var_name=\"Metric\", value_name=\"Score\")\n",
    "\n",
    "plt.figure(figsize=(10, 6))\n",
    "sns.barplot(\n",
    "    data=df_melted, \n",
    "    x=\"Model\", \n",
    "    y=\"Score\", \n",
    "    hue=\"Metric\", \n",
    "    palette=[\"blue\", \"green\", \"gray\"]\n",
    ")\n",
    "plt.title(\"Model Comparison: Recall, F1-Score (Injured), and Accuracy\")\n",
    "plt.ylabel(\"Score\")\n",
    "plt.ylim(0, 1)\n",
    "plt.xticks(rotation=45, ha='right')\n",
    "plt.grid(axis='y', linestyle='--', alpha=0.7)\n",
    "plt.legend(title=\"Metric\")\n",
    "plt.show()"
   ]
  },
  {
   "cell_type": "markdown",
   "metadata": {
    "application/vnd.databricks.v1+cell": {
     "cellMetadata": {
      "byteLimit": 2048000,
      "rowLimit": 10000
     },
     "inputWidgets": {},
     "nuid": "3c84bebb-8186-4a02-9e1d-d0cbbb46cfc6",
     "showTitle": false,
     "tableResultSettingsMap": {},
     "title": ""
    }
   },
   "source": [
    "This bar chart provides us with a direct comparison between the performance metrics (Recall (Injured), F1 Score (Injured), Accuracy) for each of our four models, Random Forest, XGBoost, Logistic Regression, kNN.\n",
    "\n",
    "Defining Our Metrics:\n",
    "\n",
    "-Recall measures how well the model identifies injured pitchers. This measure is quite important in high-stakes situations like this where we are identifying not just pitcher arm strains, but rather actual Tommy John surgeries that often end careers and can take years of recovery time.\n",
    "\n",
    "-F1-Score is the harmonic mean for precision and recall within the injury class, a balanced measure showing overall effectiveness.\n",
    "\n",
    "-Accuracy reflects the prediction correctness ratio, which can be misleading at times with imbalanced datasets. This is something we deal with because the prevalence of Tommy John surgeries is relatively low.\n",
    "\n",
    "Observations:\n",
    "\n",
    "-Logistic Regression outperformed all other models in both recall and F1-score. With a recall of 0.67 and an F1-score of 0.55, it proved to be the most effective model for correctly identifying injured pitchers, despite its accuracy being slightly below the other models. This model will be the strongest for injury predictions when minimizing false negatives is very important.\n",
    "\n",
    "-Random Forest has the highest accuracy overall by a large margin, with an accuracy of 0.67 but poorer recall (0.43). Didnot do a great job of identifying true injuiries, only correctly identifying 43%, reflecting an overall bias towards majority.\n",
    "\n",
    "-XGBoost was a balanced tradeoff of varying priorities. It showed significantly better recall and marginal improvements in F1-score in comparison to Random Forest, with a reasonably high accuracy of 0.59. It is a great model for the middle ground.\n",
    "\n",
    "-k Nearest Neighbors performed comparable to XGBoost in F1-score and accuracy, with a much lower recall. So, kNN has a quite poor ability to detect injuries.\n",
    "\n",
    "Summary:\n",
    "In a high-risk application like this, where our predicted outcome is the most serious and strenuous surgery in baseball, we will likely prioritize recall over accuracy significantly. From this lens, Logistic Regression will be the best model, recommending it for downstream  analysis. "
   ]
  },
  {
   "cell_type": "code",
   "execution_count": 25,
   "metadata": {
    "application/vnd.databricks.v1+cell": {
     "cellMetadata": {
      "byteLimit": 2048000,
      "rowLimit": 10000
     },
     "inputWidgets": {},
     "nuid": "ccd13a1e-5dcc-46cc-a198-e747833dfe52",
     "showTitle": false,
     "tableResultSettingsMap": {},
     "title": ""
    }
   },
   "outputs": [],
   "source": [
    "from sklearn.metrics import roc_curve, auc\n",
    "\n",
    "def plot_roc(models, X_test, y_test):\n",
    "    plt.figure(figsize=(8, 6))\n",
    "    for name, model in models.items():\n",
    "        y_score = model.predict_proba(X_test)[:, 1]\n",
    "        fpr, tpr, _ = roc_curve(y_test, y_score)\n",
    "        roc_auc = auc(fpr, tpr)\n",
    "        plt.plot(fpr, tpr, label=f\"{name} (AUC = {roc_auc:.2f})\")\n",
    "    plt.plot([0, 1], [0, 1], 'k--', alpha=0.6)\n",
    "    plt.xlabel(\"False Positive Rate\")\n",
    "    plt.ylabel(\"True Positive Rate\")\n",
    "    plt.title(\"ROC Curve\")\n",
    "    plt.legend()\n",
    "    plt.grid(True)\n",
    "    plt.show()\n"
   ]
  },
  {
   "cell_type": "markdown",
   "metadata": {
    "application/vnd.databricks.v1+cell": {
     "cellMetadata": {
      "byteLimit": 2048000,
      "rowLimit": 10000
     },
     "inputWidgets": {},
     "nuid": "c4575684-1a90-4ffe-b251-6ddbeb7994c5",
     "showTitle": false,
     "tableResultSettingsMap": {},
     "title": ""
    }
   },
   "source": [
    "ROC Curve for all Models"
   ]
  },
  {
   "cell_type": "code",
   "execution_count": 26,
   "metadata": {
    "application/vnd.databricks.v1+cell": {
     "cellMetadata": {
      "byteLimit": 2048000,
      "rowLimit": 10000
     },
     "inputWidgets": {},
     "nuid": "b8199fe5-185a-4cc2-bc52-7193b58b720b",
     "showTitle": false,
     "tableResultSettingsMap": {},
     "title": ""
    }
   },
   "outputs": [
    {
     "name": "stderr",
     "output_type": "stream",
     "text": [
      "c:\\Users\\natha\\AppData\\Local\\Programs\\Python\\Python313\\Lib\\site-packages\\sklearn\\utils\\validation.py:2732: UserWarning: X has feature names, but KNeighborsClassifier was fitted without feature names\n",
      "  warnings.warn(\n"
     ]
    },
    {
     "data": {
      "image/png": "[encoded data removed]",
      "text/plain": [
       "<Figure size 800x600 with 1 Axes>"
      ]
     },
     "metadata": {},
     "output_type": "display_data"
    }
   ],
   "source": [
    "# model dictionary\n",
    "models = {\n",
    "    'Random Forest': rf,\n",
    "    'XGBoost': xgb,\n",
    "    'Logistic Regression': lr,\n",
    "    'KNN': knn,\n",
    "}\n",
    "plot_roc(models, X_test, y_test)\n"
   ]
  },
  {
   "cell_type": "markdown",
   "metadata": {
    "application/vnd.databricks.v1+cell": {
     "cellMetadata": {
      "byteLimit": 2048000,
      "rowLimit": 10000
     },
     "inputWidgets": {},
     "nuid": "a5b343f2-43f3-41cb-bce8-aa0736c9b4f3",
     "showTitle": false,
     "tableResultSettingsMap": {},
     "title": ""
    }
   },
   "source": [
    "This ROC Curve visualization shows us how well each model distinguishes injured pitchers from non-injured ones. Of all of the models, \n",
    "\n",
    "-Random Forest had the highest AUC of 0.68,suggesting that it could be the best model for ranking injury risk. \n",
    "\n",
    "-XGBoost and LogisticRegression also showed strong AUC values of 0.66 and 0.65 respectively, supporting the data we extracted for the bar plot above.\n",
    "\n",
    "-kNN performed very poorly, with an AUC of 0.55only basrely outperforming random chance. This aligns with its poor classification metrics under our conditions. "
   ]
  },
  {
   "cell_type": "code",
   "execution_count": 27,
   "metadata": {
    "application/vnd.databricks.v1+cell": {
     "cellMetadata": {
      "byteLimit": 2048000,
      "rowLimit": 10000
     },
     "inputWidgets": {},
     "nuid": "122b522b-2120-442d-9244-154b0b462e0e",
     "showTitle": false,
     "tableResultSettingsMap": {},
     "title": ""
    }
   },
   "outputs": [],
   "source": [
    "from sklearn.metrics import precision_recall_curve, average_precision_score\n",
    "\n",
    "def plot_pr(models, X_test, y_test):\n",
    "    plt.figure(figsize=(8, 6))\n",
    "    for name, model in models.items():\n",
    "        y_score = model.predict_proba(X_test)[:, 1]\n",
    "        precision, recall, _ = precision_recall_curve(y_test, y_score)\n",
    "        ap = average_precision_score(y_test, y_score)\n",
    "        plt.plot(recall, precision, label=f\"{name} (AP = {ap:.2f})\")\n",
    "    plt.xlabel(\"Recall\")\n",
    "    plt.ylabel(\"Precision\")\n",
    "    plt.title(\"Precision-Recall Curve\")\n",
    "    plt.legend()\n",
    "    plt.grid(True)\n",
    "    plt.show()\n"
   ]
  },
  {
   "cell_type": "markdown",
   "metadata": {
    "application/vnd.databricks.v1+cell": {
     "cellMetadata": {
      "byteLimit": 2048000,
      "rowLimit": 10000
     },
     "inputWidgets": {},
     "nuid": "19212a18-8eb3-4da4-a8ad-9af3f238b025",
     "showTitle": false,
     "tableResultSettingsMap": {},
     "title": ""
    }
   },
   "source": [
    "Precision-Recall Curve for All Models"
   ]
  },
  {
   "cell_type": "code",
   "execution_count": 28,
   "metadata": {
    "application/vnd.databricks.v1+cell": {
     "cellMetadata": {
      "byteLimit": 2048000,
      "rowLimit": 10000
     },
     "inputWidgets": {},
     "nuid": "de16c343-5359-4853-892e-0af030479bb0",
     "showTitle": false,
     "tableResultSettingsMap": {},
     "title": ""
    }
   },
   "outputs": [
    {
     "name": "stderr",
     "output_type": "stream",
     "text": [
      "c:\\Users\\natha\\AppData\\Local\\Programs\\Python\\Python313\\Lib\\site-packages\\sklearn\\utils\\validation.py:2732: UserWarning: X has feature names, but KNeighborsClassifier was fitted without feature names\n",
      "  warnings.warn(\n"
     ]
    },
    {
     "data": {
      "image/png": "[encoded data removed]",
      "text/plain": [
       "<Figure size 800x600 with 1 Axes>"
      ]
     },
     "metadata": {},
     "output_type": "display_data"
    }
   ],
   "source": [
    "plot_pr(models, X_test, y_test)"
   ]
  },
  {
   "cell_type": "markdown",
   "metadata": {
    "application/vnd.databricks.v1+cell": {
     "cellMetadata": {
      "byteLimit": 2048000,
      "rowLimit": 10000
     },
     "inputWidgets": {},
     "nuid": "9ef8e95a-724c-4f4f-8680-dee29b58c0fe",
     "showTitle": false,
     "tableResultSettingsMap": {},
     "title": ""
    }
   },
   "source": [
    "The precision-recall curve for all models shows us deeper information on the model performance for the minority class (pitcher injuries).\n",
    "\n",
    "-Random Forest again leads the pack with an average precision (AP) of 0.62suggesting that its predictions are more valid.\n",
    "\n",
    "-XGBoost 0.54 and Logistic Regression 0.52AP perform comparably similar, but XGBoost shows better precision at lower recall thresholds. This indicates that XGBoost is more confident when flagging the highest risk of all of the pitchers, while Logistic Regression seems to perform better across the recall values.\n",
    "\n",
    "-kNN again significantly underperforms, reaffirming our prior conclusions about its effectiveness. Its PR curve shows poor precision across each threshold, offering no reason to rely on it for predictive value."
   ]
  },
  {
   "cell_type": "code",
   "execution_count": 29,
   "metadata": {
    "application/vnd.databricks.v1+cell": {
     "cellMetadata": {
      "byteLimit": 2048000,
      "rowLimit": 10000
     },
     "inputWidgets": {},
     "nuid": "ee80e15d-45a4-4a71-b9f6-ba72817b5cbd",
     "showTitle": false,
     "tableResultSettingsMap": {},
     "title": ""
    }
   },
   "outputs": [
    {
     "name": "stderr",
     "output_type": "stream",
     "text": [
      "c:\\Users\\natha\\AppData\\Local\\Programs\\Python\\Python313\\Lib\\site-packages\\sklearn\\utils\\validation.py:2732: UserWarning: X has feature names, but KNeighborsClassifier was fitted without feature names\n",
      "  warnings.warn(\n"
     ]
    },
    {
     "data": {
      "image/png": "[encoded data removed]",
      "text/plain": [
       "<Figure size 800x600 with 1 Axes>"
      ]
     },
     "metadata": {},
     "output_type": "display_data"
    }
   ],
   "source": [
    "from sklearn.calibration import CalibrationDisplay\n",
    "\n",
    "models = {\n",
    "    \"Random Forest\": rf,\n",
    "    \"XGBoost\": xgb,\n",
    "    \"Logistic Regression\": lr,\n",
    "    \"KNN\": knn\n",
    "}\n",
    "\n",
    "plt.figure(figsize=(8, 6))\n",
    "\n",
    "# looping over all models to get all models on one plot\n",
    "for name, model in models.items():\n",
    "    y_prob = model.predict_proba(X_test)[:, 1]\n",
    "    disp = CalibrationDisplay.from_predictions(\n",
    "        y_test,\n",
    "        y_prob,\n",
    "        n_bins=10,\n",
    "        name=name,\n",
    "        ax=plt.gca(),\n",
    "        linestyle='-'\n",
    "    )\n",
    "\n",
    "plt.plot([0, 1], [0, 1], \"k--\", label=\"Perfectly calibrated\")\n",
    "plt.title(\"Calibration Curves for All Models\")\n",
    "plt.xlabel(\"Mean predicted probability (Positive class: 1)\")\n",
    "plt.ylabel(\"Fraction of positives (Positive class: 1)\")\n",
    "plt.grid(True)\n",
    "plt.legend()\n",
    "plt.tight_layout()\n",
    "plt.show()"
   ]
  },
  {
   "cell_type": "markdown",
   "metadata": {
    "application/vnd.databricks.v1+cell": {
     "cellMetadata": {
      "byteLimit": 2048000,
      "rowLimit": 10000
     },
     "inputWidgets": {},
     "nuid": "3d6e2b89-c10f-4f75-933c-2fc741241da4",
     "showTitle": false,
     "tableResultSettingsMap": {},
     "title": ""
    }
   },
   "source": [
    "-Random Forest and Logistic Regression both hug the perfect calibration line more closely, indicating that they are better calibrated, at higher confidence.\n",
    "\n",
    "-XGBoost underpredicts in high confidence bins.\n",
    "\n",
    "-kNN is the most poorly calibrated, sharp fluations and poor alignment."
   ]
  },
  {
   "cell_type": "code",
   "execution_count": 30,
   "metadata": {
    "application/vnd.databricks.v1+cell": {
     "cellMetadata": {
      "byteLimit": 2048000,
      "rowLimit": 10000
     },
     "inputWidgets": {},
     "nuid": "33cf8f49-5a65-439c-b2fe-6ef14379db20",
     "showTitle": false,
     "tableResultSettingsMap": {},
     "title": ""
    }
   },
   "outputs": [
    {
     "data": {
      "image/png": "[encoded data removed]",
      "text/plain": [
       "<Figure size 640x480 with 2 Axes>"
      ]
     },
     "metadata": {},
     "output_type": "display_data"
    }
   ],
   "source": [
    "sns.heatmap(model_df.corr(), cmap=\"coolwarm\", annot=True, fmt=\".2f\")\n",
    "plt.title(\"Feature Correlation Matrix\")\n",
    "plt.show()\n"
   ]
  },
  {
   "cell_type": "markdown",
   "metadata": {
    "application/vnd.databricks.v1+cell": {
     "cellMetadata": {
      "byteLimit": 2048000,
      "rowLimit": 10000
     },
     "inputWidgets": {},
     "nuid": "3d39b303-be10-454e-bec2-df4e2d6769a4",
     "showTitle": false,
     "tableResultSettingsMap": {},
     "title": ""
    }
   },
   "source": [
    "We can observe a few things here that indicate collinearity. avg_pitch_velocity and FBv are strongly correlated (83%), as is pitch_entropy with both of those measures. We also find that IP_per_G is correlated with pitch entropy (0.5), an interesting observation. SIERA is correlated weakly (0.38) with pitcher_per_IP.\n",
    "\n",
    "This observation of multicollinearity inspired me to perform a few strategies to address this. We will next enact Ridge Regression (L2 regularization), Lasso Regression (L1 Regularization), and Elastic Net (hybrid), to address multicollinearity in our models, especially in random forest and XGBoost."
   ]
  },
  {
   "cell_type": "markdown",
   "metadata": {
    "application/vnd.databricks.v1+cell": {
     "cellMetadata": {
      "byteLimit": 2048000,
      "rowLimit": 10000
     },
     "inputWidgets": {},
     "nuid": "5950ca45-858b-4ae6-932a-4ece62cb6966",
     "showTitle": false,
     "tableResultSettingsMap": {},
     "title": ""
    }
   },
   "source": [
    "## Model Improvements (Lasso, Ridge, Elastic Net)"
   ]
  },
  {
   "cell_type": "code",
   "execution_count": 38,
   "metadata": {
    "application/vnd.databricks.v1+cell": {
     "cellMetadata": {
      "byteLimit": 2048000,
      "rowLimit": 10000
     },
     "inputWidgets": {},
     "nuid": "02a02100-992c-45f6-a08b-36744890cf1d",
     "showTitle": false,
     "tableResultSettingsMap": {},
     "title": ""
    }
   },
   "outputs": [
    {
     "name": "stdout",
     "output_type": "stream",
     "text": [
      "Selected Features: ['pitch_entropy', 'IP_per_G', 'FBv', 'IP']\n"
     ]
    }
   ],
   "source": [
    "from sklearn.linear_model import LassoCV\n",
    "from sklearn.preprocessing import StandardScaler\n",
    "\n",
    "# standardizing and selecting features\n",
    "scaler = StandardScaler()\n",
    "X_scaled = scaler.fit_transform(X)\n",
    "lasso = LassoCV(cv=5, random_state=42)\n",
    "lasso.fit(X_scaled, y)\n",
    "\n",
    "selected_features = X.columns[(lasso.coef_ != 0)]\n",
    "print(\"Selected Features:\", list(selected_features))\n"
   ]
  },
  {
   "cell_type": "code",
   "execution_count": 39,
   "metadata": {
    "application/vnd.databricks.v1+cell": {
     "cellMetadata": {
      "byteLimit": 2048000,
      "rowLimit": 10000
     },
     "inputWidgets": {},
     "nuid": "43167d09-7ef2-4676-98b7-e414adaf2155",
     "showTitle": false,
     "tableResultSettingsMap": {},
     "title": ""
    }
   },
   "outputs": [
    {
     "name": "stdout",
     "output_type": "stream",
     "text": [
      "Random Forest:\n",
      "              precision    recall  f1-score   support\n",
      "\n",
      "           0       0.67      0.78      0.72       499\n",
      "           1       0.54      0.40      0.46       321\n",
      "\n",
      "    accuracy                           0.63       820\n",
      "   macro avg       0.60      0.59      0.59       820\n",
      "weighted avg       0.62      0.63      0.62       820\n",
      "\n",
      "XGBoost:\n",
      "              precision    recall  f1-score   support\n",
      "\n",
      "           0       0.69      0.66      0.67       499\n",
      "           1       0.50      0.54      0.52       321\n",
      "\n",
      "    accuracy                           0.61       820\n",
      "   macro avg       0.59      0.60      0.60       820\n",
      "weighted avg       0.62      0.61      0.61       820\n",
      "\n"
     ]
    },
    {
     "name": "stderr",
     "output_type": "stream",
     "text": [
      "c:\\Users\\natha\\AppData\\Local\\Programs\\Python\\Python313\\Lib\\site-packages\\xgboost\\training.py:183: UserWarning: [22:37:52] WARNING: C:\\actions-runner\\_work\\xgboost\\xgboost\\src\\learner.cc:738: \n",
      "Parameters: { \"use_label_encoder\" } are not used.\n",
      "\n",
      "  bst.update(dtrain, iteration=i, fobj=obj)\n"
     ]
    }
   ],
   "source": [
    "X_selected = X[selected_features]\n",
    "\n",
    "X_train_sel, X_test_sel, y_train_sel, y_test_sel = train_test_split(\n",
    "    X_selected, y, test_size=0.3, stratify=y, random_state=42\n",
    ")\n",
    "\n",
    "# Random Forest\n",
    "rf.fit(X_train_sel, y_train_sel)\n",
    "y_pred_rf = rf.predict(X_test_sel)\n",
    "\n",
    "# XGBoost\n",
    "xgb.fit(X_train_sel, y_train_sel)\n",
    "y_pred_xgb = xgb.predict(X_test_sel)\n",
    "\n",
    "print(\"Random Forest:\")\n",
    "print(classification_report(y_test_sel, y_pred_rf))\n",
    "print(\"XGBoost:\")\n",
    "print(classification_report(y_test_sel, y_pred_xgb))\n"
   ]
  },
  {
   "cell_type": "code",
   "execution_count": 40,
   "metadata": {
    "application/vnd.databricks.v1+cell": {
     "cellMetadata": {
      "byteLimit": 2048000,
      "rowLimit": 10000
     },
     "inputWidgets": {},
     "nuid": "fd7b5919-55d2-439f-b69f-0e2e84555fdc",
     "showTitle": false,
     "tableResultSettingsMap": {},
     "title": ""
    }
   },
   "outputs": [],
   "source": [
    "#%pip install mlflow  --upgrade --pre\n",
    "#dbutils.library.restartPython()"
   ]
  },
  {
   "cell_type": "markdown",
   "metadata": {
    "application/vnd.databricks.v1+cell": {
     "cellMetadata": {},
     "inputWidgets": {},
     "nuid": "c765242d-fc25-45c1-8080-58f54ef079a1",
     "showTitle": false,
     "tableResultSettingsMap": {},
     "title": ""
    }
   },
   "source": [
    "Dump for FastAPI"
   ]
  },
  {
   "cell_type": "code",
   "execution_count": 41,
   "metadata": {
    "application/vnd.databricks.v1+cell": {
     "cellMetadata": {
      "byteLimit": 2048000,
      "rowLimit": 10000
     },
     "inputWidgets": {},
     "nuid": "d79ab6a5-1973-4415-b7ec-548d82ee18cc",
     "showTitle": false,
     "tableResultSettingsMap": {},
     "title": ""
    }
   },
   "outputs": [
    {
     "data": {
      "text/plain": [
       "['xgboost_final_post_lasso.pkl']"
      ]
     },
     "execution_count": 41,
     "metadata": {},
     "output_type": "execute_result"
    }
   ],
   "source": [
    "import joblib\n",
    "joblib.dump(xgb, 'xgboost_final_post_lasso.pkl')"
   ]
  },
  {
   "cell_type": "markdown",
   "metadata": {
    "application/vnd.databricks.v1+cell": {
     "cellMetadata": {},
     "inputWidgets": {},
     "nuid": "df6fe540-f674-4b18-a171-462ec8a44d25",
     "showTitle": false,
     "tableResultSettingsMap": {},
     "title": ""
    }
   },
   "source": [
    "## MLFlow Run Generation (Perform only in Databricks)"
   ]
  },
  {
   "cell_type": "code",
   "execution_count": 35,
   "metadata": {
    "application/vnd.databricks.v1+cell": {
     "cellMetadata": {
      "byteLimit": 2048000,
      "rowLimit": 10000
     },
     "inputWidgets": {},
     "nuid": "8080ebec-52cd-428d-a103-9915e50ae0ec",
     "showTitle": false,
     "tableResultSettingsMap": {},
     "title": ""
    }
   },
   "outputs": [
    {
     "name": "stderr",
     "output_type": "stream",
     "text": [
      "c:\\Users\\natha\\AppData\\Local\\Programs\\Python\\Python313\\Lib\\site-packages\\xgboost\\training.py:183: UserWarning: [21:59:40] WARNING: C:\\actions-runner\\_work\\xgboost\\xgboost\\src\\learner.cc:738: \n",
      "Parameters: { \"use_label_encoder\" } are not used.\n",
      "\n",
      "  bst.update(dtrain, iteration=i, fobj=obj)\n"
     ]
    },
    {
     "ename": "TypeError",
     "evalue": "log_model() missing 1 required positional argument: 'artifact_path'",
     "output_type": "error",
     "traceback": [
      "\u001b[31m---------------------------------------------------------------------------\u001b[39m",
      "\u001b[31mTypeError\u001b[39m                                 Traceback (most recent call last)",
      "\u001b[36mCell\u001b[39m\u001b[36m \u001b[39m\u001b[32mIn[35]\u001b[39m\u001b[32m, line 23\u001b[39m\n\u001b[32m     19\u001b[39m train_dataset: Dataset = mlflow.data.from_pandas(X_train_sel.assign(target=y_train_sel), name=\u001b[33m\"\u001b[39m\u001b[33mxgb_train\u001b[39m\u001b[33m\"\u001b[39m)\n\u001b[32m     21\u001b[39m xgb.fit(X_train_sel, y_train_sel)\n\u001b[32m---> \u001b[39m\u001b[32m23\u001b[39m model_info = \u001b[43mmlflow\u001b[49m\u001b[43m.\u001b[49m\u001b[43mxgboost\u001b[49m\u001b[43m.\u001b[49m\u001b[43mlog_model\u001b[49m\u001b[43m(\u001b[49m\n\u001b[32m     24\u001b[39m \u001b[43m    \u001b[49m\u001b[43mxgb\u001b[49m\u001b[43m,\u001b[49m\n\u001b[32m     25\u001b[39m \u001b[43m    \u001b[49m\u001b[43mname\u001b[49m\u001b[43m=\u001b[49m\u001b[33;43m\"\u001b[39;49m\u001b[33;43mxgboost_final_post_lasso\u001b[39;49m\u001b[33;43m\"\u001b[39;49m\u001b[43m,\u001b[49m\n\u001b[32m     26\u001b[39m \u001b[43m    \u001b[49m\u001b[43minput_example\u001b[49m\u001b[43m=\u001b[49m\u001b[43mX_train_sel\u001b[49m\u001b[43m,\u001b[49m\n\u001b[32m     27\u001b[39m \u001b[43m    \u001b[49m\u001b[43mregistered_model_name\u001b[49m\u001b[43m=\u001b[49m\u001b[33;43m\"\u001b[39;49m\u001b[33;43mXGBoost-Injury-Risk\u001b[39;49m\u001b[33;43m\"\u001b[39;49m\u001b[43m,\u001b[49m\n\u001b[32m     28\u001b[39m \u001b[43m    \u001b[49m\u001b[43msignature\u001b[49m\u001b[43m=\u001b[49m\u001b[38;5;28;43;01mNone\u001b[39;49;00m\u001b[43m,\u001b[49m\n\u001b[32m     29\u001b[39m \u001b[43m\u001b[49m\u001b[43m)\u001b[49m\n\u001b[32m     31\u001b[39m y_pred_test = xgb.predict(X_test_sel)\n\u001b[32m     32\u001b[39m metrics = compute_binary_metrics(y_test_sel, y_pred_test)\n",
      "\u001b[31mTypeError\u001b[39m: log_model() missing 1 required positional argument: 'artifact_path'"
     ]
    }
   ],
   "source": [
    "import mlflow\n",
    "import mlflow.xgboost\n",
    "from mlflow.entities import Dataset\n",
    "from sklearn.metrics import classification_report, precision_score, recall_score, f1_score\n",
    "import pandas as pd\n",
    "\n",
    "mlflow.set_experiment(\"/Users/redacted@gmail.com/XGBoost\")\n",
    "\n",
    "# helper for binary metrics\n",
    "def compute_binary_metrics(y_true, y_pred):\n",
    "    return {\n",
    "        \"precision\": precision_score(y_true, y_pred),\n",
    "        \"recall\": recall_score(y_true, y_pred),\n",
    "        \"f1\": f1_score(y_true, y_pred),\n",
    "    }\n",
    "\n",
    "# MLFlow run\n",
    "with mlflow.start_run() as run:\n",
    "    train_dataset: Dataset = mlflow.data.from_pandas(X_train_sel.assign(target=y_train_sel), name=\"xgb_train\")\n",
    "\n",
    "    xgb.fit(X_train_sel, y_train_sel)\n",
    "\n",
    "    model_info = mlflow.xgboost.log_model(\n",
    "        xgb,\n",
    "        name=\"xgboost_final_post_lasso\",\n",
    "        input_example=X_train_sel,\n",
    "        registered_model_name=\"XGBoost-Injury-Risk\",\n",
    "        signature=None,\n",
    "    )\n",
    "\n",
    "    y_pred_test = xgb.predict(X_test_sel)\n",
    "    metrics = compute_binary_metrics(y_test_sel, y_pred_test)\n",
    "    report = classification_report(y_test_sel, y_pred_test, output_dict=True)\n",
    "\n",
    "    mlflow.log_metrics({\n",
    "        \"precision_uninjured\": report[\"0\"][\"precision\"],\n",
    "        \"recall_uninjured\": report[\"0\"][\"recall\"],\n",
    "        \"f1_uninjured\": report[\"0\"][\"f1-score\"],\n",
    "        \"precision_injured\": report[\"1\"][\"precision\"],\n",
    "        \"recall_injured\": report[\"1\"][\"recall\"],\n",
    "        \"f1_injured\": report[\"1\"][\"f1-score\"]\n",
    "    })\n",
    "\n",
    "\n",
    "    mlflow.log_params({\n",
    "        \"model_type\": \"XGBoost\",\n",
    "        \"post_lasso\": True,\n",
    "        \"features_used\": \", \".join(X_train_sel.columns),\n",
    "    })\n",
    "\n",
    "    print(f\"Run logged under: {run.info.run_id}\")"
   ]
  },
  {
   "cell_type": "markdown",
   "metadata": {
    "application/vnd.databricks.v1+cell": {
     "cellMetadata": {
      "byteLimit": 2048000,
      "rowLimit": 10000
     },
     "inputWidgets": {},
     "nuid": "8cb30987-82d3-4ce6-a477-0ba1a3eab317",
     "showTitle": false,
     "tableResultSettingsMap": {},
     "title": ""
    }
   },
   "source": [
    "This XGBoost model with Lasso applied for optimized feature selection maintains a modest recall for injured pitchers, capturing 54% of them, while having strong precision (0.69) and recall (0.66) for the non injured group. I will expand on this model below to better capture the injured group. "
   ]
  },
  {
   "cell_type": "markdown",
   "metadata": {
    "application/vnd.databricks.v1+cell": {
     "cellMetadata": {
      "byteLimit": 2048000,
      "rowLimit": 10000
     },
     "inputWidgets": {},
     "nuid": "a712c13f-850d-4113-9bbf-d6e93e1e73a9",
     "showTitle": false,
     "tableResultSettingsMap": {},
     "title": ""
    }
   },
   "source": [
    "## Final Summary and Recommendations"
   ]
  },
  {
   "cell_type": "code",
   "execution_count": null,
   "metadata": {
    "application/vnd.databricks.v1+cell": {
     "cellMetadata": {
      "byteLimit": 2048000,
      "rowLimit": 10000
     },
     "inputWidgets": {},
     "nuid": "238662f2-a740-40b4-ba14-8a7a807ab5c1",
     "showTitle": false,
     "tableResultSettingsMap": {},
     "title": ""
    }
   },
   "outputs": [],
   "source": [
    "# helper check for jinja \n",
    "try:\n",
    "    import jinja2\n",
    "except ImportError:\n",
    "    print(\"⚠️ Please run `%pip install jinja2` to enable DataFrame styling.\")\n"
   ]
  },
  {
   "cell_type": "markdown",
   "metadata": {
    "application/vnd.databricks.v1+cell": {
     "cellMetadata": {
      "byteLimit": 2048000,
      "rowLimit": 10000
     },
     "inputWidgets": {},
     "nuid": "21d842fc-a7bf-475c-b4ef-93f4dfff6297",
     "showTitle": false,
     "tableResultSettingsMap": {},
     "title": ""
    }
   },
   "source": [
    "The best models from our predictive analysis are below. Considering the baseline standard for predictive models for severe pitcher injuries, this analysis does a good job of identifying a few different effective models for different purposes. This research could be very useful in identifying at-risk pitchers, and sparkign further research on predictive models."
   ]
  },
  {
   "cell_type": "code",
   "execution_count": null,
   "metadata": {
    "application/vnd.databricks.v1+cell": {
     "cellMetadata": {
      "byteLimit": 2048000,
      "rowLimit": 10000
     },
     "inputWidgets": {},
     "nuid": "03b8f886-7721-4abe-bc5b-f3a7c7662e7b",
     "showTitle": false,
     "tableResultSettingsMap": {},
     "title": ""
    }
   },
   "outputs": [
    {
     "data": {
      "text/html": [
       "<style type=\"text/css\">\n",
       "#T_fee4e th {\n",
       "  text-align: center;\n",
       "}\n",
       "#T_fee4e td {\n",
       "  text-align: center;\n",
       "}\n",
       "#T_fee4e_row0_col0, #T_fee4e_row0_col1, #T_fee4e_row0_col2, #T_fee4e_row0_col3, #T_fee4e_row0_col4, #T_fee4e_row0_col5, #T_fee4e_row1_col0, #T_fee4e_row1_col1, #T_fee4e_row1_col2, #T_fee4e_row1_col3, #T_fee4e_row1_col4, #T_fee4e_row1_col5, #T_fee4e_row2_col0, #T_fee4e_row2_col1, #T_fee4e_row2_col2, #T_fee4e_row2_col3, #T_fee4e_row2_col4, #T_fee4e_row2_col5 {\n",
       "  width: 160px;\n",
       "}\n",
       "</style>\n",
       "<table id=\"T_fee4e\">\n",
       "  <thead>\n",
       "    <tr>\n",
       "      <th class=\"blank level0\" >&nbsp;</th>\n",
       "      <th id=\"T_fee4e_level0_col0\" class=\"col_heading level0 col0\" >Model</th>\n",
       "      <th id=\"T_fee4e_level0_col1\" class=\"col_heading level0 col1\" >Injured Recall</th>\n",
       "      <th id=\"T_fee4e_level0_col2\" class=\"col_heading level0 col2\" >Injured F1</th>\n",
       "      <th id=\"T_fee4e_level0_col3\" class=\"col_heading level0 col3\" >Non-Injured Recall</th>\n",
       "      <th id=\"T_fee4e_level0_col4\" class=\"col_heading level0 col4\" >Non-Injured F1</th>\n",
       "      <th id=\"T_fee4e_level0_col5\" class=\"col_heading level0 col5\" >Avg F1</th>\n",
       "    </tr>\n",
       "  </thead>\n",
       "  <tbody>\n",
       "    <tr>\n",
       "      <th id=\"T_fee4e_level0_row0\" class=\"row_heading level0 row0\" >0</th>\n",
       "      <td id=\"T_fee4e_row0_col0\" class=\"data row0 col0\" >Logistic Regression (Raw)</td>\n",
       "      <td id=\"T_fee4e_row0_col1\" class=\"data row0 col1\" >0.700000</td>\n",
       "      <td id=\"T_fee4e_row0_col2\" class=\"data row0 col2\" >0.560000</td>\n",
       "      <td id=\"T_fee4e_row0_col3\" class=\"data row0 col3\" >0.480000</td>\n",
       "      <td id=\"T_fee4e_row0_col4\" class=\"data row0 col4\" >0.580000</td>\n",
       "      <td id=\"T_fee4e_row0_col5\" class=\"data row0 col5\" >0.570000</td>\n",
       "    </tr>\n",
       "    <tr>\n",
       "      <th id=\"T_fee4e_level0_row1\" class=\"row_heading level0 row1\" >1</th>\n",
       "      <td id=\"T_fee4e_row1_col0\" class=\"data row1 col0\" >Random Forest (Tuned)</td>\n",
       "      <td id=\"T_fee4e_row1_col1\" class=\"data row1 col1\" >0.400000</td>\n",
       "      <td id=\"T_fee4e_row1_col2\" class=\"data row1 col2\" >0.480000</td>\n",
       "      <td id=\"T_fee4e_row1_col3\" class=\"data row1 col3\" >0.810000</td>\n",
       "      <td id=\"T_fee4e_row1_col4\" class=\"data row1 col4\" >0.740000</td>\n",
       "      <td id=\"T_fee4e_row1_col5\" class=\"data row1 col5\" >0.610000</td>\n",
       "    </tr>\n",
       "    <tr>\n",
       "      <th id=\"T_fee4e_level0_row2\" class=\"row_heading level0 row2\" >2</th>\n",
       "      <td id=\"T_fee4e_row2_col0\" class=\"data row2 col0\" >XGBoost (Post-Lasso)</td>\n",
       "      <td id=\"T_fee4e_row2_col1\" class=\"data row2 col1\" >0.540000</td>\n",
       "      <td id=\"T_fee4e_row2_col2\" class=\"data row2 col2\" >0.520000</td>\n",
       "      <td id=\"T_fee4e_row2_col3\" class=\"data row2 col3\" >0.660000</td>\n",
       "      <td id=\"T_fee4e_row2_col4\" class=\"data row2 col4\" >0.670000</td>\n",
       "      <td id=\"T_fee4e_row2_col5\" class=\"data row2 col5\" >0.600000</td>\n",
       "    </tr>\n",
       "  </tbody>\n",
       "</table>\n"
      ],
      "text/plain": [
       "<pandas.io.formats.style.Styler at 0x17c20ed9450>"
      ]
     },
     "metadata": {},
     "output_type": "display_data"
    }
   ],
   "source": [
    "# summary of findings\n",
    "data = {\n",
    "    \"Model\": [\n",
    "        \"Logistic Regression (Raw)\",\n",
    "        \"Random Forest (Tuned)\",\n",
    "        \"XGBoost (Post-Lasso)\"\n",
    "    ],\n",
    "    \"Injured Recall\": [0.70, 0.40, 0.54],\n",
    "    \"Injured F1\": [0.56, 0.48, 0.52],\n",
    "    \"Non-Injured Recall\": [0.48, 0.81, 0.66],\n",
    "    \"Non-Injured F1\": [0.58, 0.74, 0.67],\n",
    "    \"Avg F1\": [0.57, 0.61, 0.60]\n",
    "}\n",
    "\n",
    "# Create and display the DataFrame\n",
    "summary_df = pd.DataFrame(data)\n",
    "from IPython.display import display, HTML\n",
    "\n",
    "# Style for cleaner rendering\n",
    "styled_table = summary_df.style.set_table_styles([\n",
    "    {'selector': 'th', 'props': [('text-align', 'center')]},\n",
    "    {'selector': 'td', 'props': [('text-align', 'center')]}\n",
    "]).set_properties(**{'width': '160px'})\n",
    "\n",
    "display(styled_table)\n"
   ]
  },
  {
   "cell_type": "code",
   "execution_count": 0,
   "metadata": {
    "application/vnd.databricks.v1+cell": {
     "cellMetadata": {},
     "inputWidgets": {},
     "nuid": "5a325463-8514-4ae1-81f7-e5773b2c2bb5",
     "showTitle": false,
     "tableResultSettingsMap": {},
     "title": ""
    }
   },
   "outputs": [],
   "source": []
  }
 ],
 "metadata": {
  "application/vnd.databricks.v1+notebook": {
   "computePreferences": null,
   "dashboards": [],
   "environmentMetadata": {
    "base_environment": "",
    "environment_version": "2"
   },
   "inputWidgetPreferences": null,
   "language": "python",
   "notebookMetadata": {
    "pythonIndentUnit": 4
   },
   "notebookName": "1_data_ingestion",
   "widgets": {}
  },
  "kernelspec": {
   "display_name": "Python 3",
   "language": "python",
   "name": "python3"
  },
  "language_info": {
   "codemirror_mode": {
    "name": "ipython",
    "version": 3
   },
   "file_extension": ".py",
   "mimetype": "text/x-python",
   "name": "python",
   "nbconvert_exporter": "python",
   "pygments_lexer": "ipython3",
   "version": "3.13.3"
  }
 },
 "nbformat": 4,
 "nbformat_minor": 0
}
